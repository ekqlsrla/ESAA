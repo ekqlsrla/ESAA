{
  "nbformat": 4,
  "nbformat_minor": 0,
  "metadata": {
    "colab": {
      "name": "3월_11일_1주차 과제.ipynb",
      "provenance": [],
      "collapsed_sections": [],
      "authorship_tag": "ABX9TyPLNBmzIZQM+OuTiqRXMv1F",
      "include_colab_link": true
    },
    "kernelspec": {
      "name": "python3",
      "display_name": "Python 3"
    },
    "language_info": {
      "name": "python"
    }
  },
  "cells": [
    {
      "cell_type": "markdown",
      "metadata": {
        "id": "view-in-github",
        "colab_type": "text"
      },
      "source": [
        "<a href=\"https://colab.research.google.com/github/ekqlsrla/ESAA/blob/main/3%EC%9B%94_11%EC%9D%BC_1%EC%A3%BC%EC%B0%A8_%EA%B3%BC%EC%A0%9C.ipynb\" target=\"_parent\"><img src=\"https://colab.research.google.com/assets/colab-badge.svg\" alt=\"Open In Colab\"/></a>"
      ]
    },
    {
      "cell_type": "markdown",
      "source": [
        "# **[파이썬 머신러닝 완벽 가이드 - 03 넘파이]**\n",
        "\n",
        "\n",
        "\n",
        "> ## 1.넘파이 ndarray 개요\n",
        "\n",
        " * 넘파이 array() 함수 : 파이썬의 리스트와 같은 다양한 인자 입력 받아 ndarray로 변환하는 기능 수행, 생성된 ndarray 배열의 shape 변수는 행과 열의 수를 튜플 형태로 가짐\n",
        " \n",
        "\n",
        "\n",
        "\n"
      ],
      "metadata": {
        "id": "z9SgFIzAPmQy"
      }
    },
    {
      "cell_type": "code",
      "source": [
        "import numpy as np"
      ],
      "metadata": {
        "id": "ImNJoZ1OSVZk"
      },
      "execution_count": null,
      "outputs": []
    },
    {
      "cell_type": "code",
      "source": [
        "array1 = np.array([1,2,3])\n",
        "print('array1 type : ', type(array1))\n",
        "print('array1 array 형태 : ', array1.shape)\n",
        "\n",
        "## 1차원 array로 3개의 데이터\n",
        "\n",
        "array2 = np.array([[1,2,3],\n",
        "                   [2,3,4]])\n",
        "print('array2 type : ', type(array2))\n",
        "print('array2 array 형태 : ',array2.shape)\n",
        "\n",
        "## 2차원 array로 2row & 3 col\n",
        "\n",
        "array3 = np.array([[1,2,3]])\n",
        "print('array3 type : ', type(array3))\n",
        "print('array3 array 형태 : ',array3.shape)\n",
        "\n",
        "## 2차원 array로 1 row & 3 col"
      ],
      "metadata": {
        "colab": {
          "base_uri": "https://localhost:8080/"
        },
        "id": "X0uuYtSEUq8Z",
        "outputId": "b9c58987-feff-4417-f53b-f570fd97bfaf"
      },
      "execution_count": null,
      "outputs": [
        {
          "output_type": "stream",
          "name": "stdout",
          "text": [
            "array1 type :  <class 'numpy.ndarray'>\n",
            "array1 array 형태 :  (3,)\n",
            "array2 type :  <class 'numpy.ndarray'>\n",
            "array2 array 형태 :  (2, 3)\n",
            "array3 type :  <class 'numpy.ndarray'>\n",
            "array3 array 형태 :  (1, 3)\n"
          ]
        }
      ]
    },
    {
      "cell_type": "markdown",
      "source": [
        "\n",
        "\n",
        "\n",
        "> ## 2. ndarray의 데이터 타입\n",
        "\n",
        "*  가능한 데이터값 : 숫자, 문자열,불 모두 가능\n",
        "*  가능한 데이터 타입 : 연산의 특성상 같은 데이터 타입만 가능 \n",
        "   **=> 한 개의 ndarray객체에 int와 float가 함께 있을 수 없음**\n",
        "\n"
      ],
      "metadata": {
        "id": "CTa_kkVFYgIy"
      }
    },
    {
      "cell_type": "code",
      "source": [
        "list1 = [1,2,3]\n",
        "print(type(list1))\n",
        "array1 = np.array(list1)\n",
        "print(type(array1))\n",
        "print(array1,array1.dtype)"
      ],
      "metadata": {
        "colab": {
          "base_uri": "https://localhost:8080/"
        },
        "id": "CSYH1XQ3Zxmh",
        "outputId": "f2970625-20ab-4757-8c0c-d73b13d61d5b"
      },
      "execution_count": null,
      "outputs": [
        {
          "output_type": "stream",
          "name": "stdout",
          "text": [
            "<class 'list'>\n",
            "<class 'numpy.ndarray'>\n",
            "[1 2 3] int64\n"
          ]
        }
      ]
    },
    {
      "cell_type": "markdown",
      "source": [
        "\n",
        "\n",
        "* 다른 데이터 유형이 섞여 있는 리스트를 ndarray로 변경하면 데이터 크기가 **더 큰 데이터 타입**으로 형 변환 일괄 적용\n",
        "\n"
      ],
      "metadata": {
        "id": "tMlVAywEcRsO"
      }
    },
    {
      "cell_type": "code",
      "source": [
        "list2 = [1,2,'test']\n",
        "array2 = np.array(list2)\n",
        "print(array2,array2.dtype)\n",
        "\n",
        "list3 = [1,2,3.0]\n",
        "arrat3 = np.array(list3)\n",
        "print(arrat3,array3.dtype)"
      ],
      "metadata": {
        "colab": {
          "base_uri": "https://localhost:8080/"
        },
        "id": "Zy1unF8Cct6A",
        "outputId": "ea47aacd-f955-40ce-8a5c-e1c697148c51"
      },
      "execution_count": null,
      "outputs": [
        {
          "output_type": "stream",
          "name": "stdout",
          "text": [
            "['1' '2' 'test'] <U21\n",
            "[1. 2. 3.] int64\n"
          ]
        }
      ]
    },
    {
      "cell_type": "markdown",
      "source": [
        "\n",
        "\n",
        "*   ndarray 내 **데이터값의 타입 변경** : astype() 메서드 이용\n",
        "    - 메모리를 더 절약해야 할 때 보통 이용\n"
      ],
      "metadata": {
        "id": "Q6KRjUP3dDXV"
      }
    },
    {
      "cell_type": "code",
      "source": [
        "array_int = np.array([1,2,3])\n",
        "array_float = array_int.astype('float64')\n",
        "print(array_float,array_float.dtype)\n",
        "\n",
        "array_int1 = array_float.astype('int32')\n",
        "print(array_int1, array_int1.dtype)\n",
        "\n",
        "array_float1 = np.array([1.1,2.1,3.1])\n",
        "array_int2 = array_float1.astype('int32')\n",
        "print(array_int2,array_int2.dtype)"
      ],
      "metadata": {
        "colab": {
          "base_uri": "https://localhost:8080/"
        },
        "id": "oasdGykZdsVQ",
        "outputId": "6166e43b-b778-4dc9-c03e-d21e2692b487"
      },
      "execution_count": null,
      "outputs": [
        {
          "output_type": "stream",
          "name": "stdout",
          "text": [
            "[1. 2. 3.] float64\n",
            "[1 2 3] int32\n",
            "[1 2 3] int32\n"
          ]
        }
      ]
    },
    {
      "cell_type": "markdown",
      "source": [
        "\n",
        "\n",
        "> ## 3. ndarray를 편리하게 생성하기 - arange,zeros,ones\n"
      ],
      "metadata": {
        "id": "HqsPHDB_etQg"
      }
    }
  ]
}