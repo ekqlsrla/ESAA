{
  "nbformat": 4,
  "nbformat_minor": 0,
  "metadata": {
    "colab": {
      "name": "0401.ipynb",
      "provenance": [],
      "collapsed_sections": [],
      "authorship_tag": "ABX9TyN53eR2K3EDF7SgfhK5QLkz",
      "include_colab_link": true
    },
    "kernelspec": {
      "name": "python3",
      "display_name": "Python 3"
    },
    "language_info": {
      "name": "python"
    }
  },
  "cells": [
    {
      "cell_type": "markdown",
      "metadata": {
        "id": "view-in-github",
        "colab_type": "text"
      },
      "source": [
        "<a href=\"https://colab.research.google.com/github/ekqlsrla/ESAA/blob/main/HW/0401_CH02_1_5.ipynb\" target=\"_parent\"><img src=\"https://colab.research.google.com/assets/colab-badge.svg\" alt=\"Open In Colab\"/></a>"
      ]
    },
    {
      "cell_type": "markdown",
      "source": [
        "# **[파이썬 머신러닝 완변 가이드 CHAPTER 02 - 사이킷런으로 시작하는 머신러닝]**\n",
        "\n",
        "\n",
        "\n",
        "> ## **01 사이킷런 소개와 특징**\n",
        "\n",
        "\n",
        "* 머신러닝을 위한 매우 다양한 알고리즘과 개발을 위한 편리한 프레임워크와 API를 제공     \n",
        "* 오랜 기간 실전 환경에서 검증됐으며, 매우 많은 환경에서 사용되는 성숙한 라이브러리\n"
      ],
      "metadata": {
        "id": "hhB0JMN23gp3"
      }
    },
    {
      "cell_type": "code",
      "source": [
        "pip install scikit-learn"
      ],
      "metadata": {
        "colab": {
          "base_uri": "https://localhost:8080/"
        },
        "id": "MvhOKda74It4",
        "outputId": "2811596e-b4ef-423a-f82e-63eac2398893"
      },
      "execution_count": null,
      "outputs": [
        {
          "output_type": "stream",
          "name": "stdout",
          "text": [
            "Requirement already satisfied: scikit-learn in /usr/local/lib/python3.7/dist-packages (1.0.2)\n",
            "Requirement already satisfied: threadpoolctl>=2.0.0 in /usr/local/lib/python3.7/dist-packages (from scikit-learn) (3.1.0)\n",
            "Requirement already satisfied: scipy>=1.1.0 in /usr/local/lib/python3.7/dist-packages (from scikit-learn) (1.4.1)\n",
            "Requirement already satisfied: joblib>=0.11 in /usr/local/lib/python3.7/dist-packages (from scikit-learn) (1.1.0)\n",
            "Requirement already satisfied: numpy>=1.14.6 in /usr/local/lib/python3.7/dist-packages (from scikit-learn) (1.21.5)\n"
          ]
        }
      ]
    },
    {
      "cell_type": "code",
      "source": [
        "#사이킷런 버전 확인\n",
        "import sklearn\n",
        "\n",
        "print(sklearn.__version__)"
      ],
      "metadata": {
        "colab": {
          "base_uri": "https://localhost:8080/"
        },
        "id": "ag7XH6dw4d0z",
        "outputId": "544eddb7-1e6d-4713-8447-3f2dddfaa35a"
      },
      "execution_count": null,
      "outputs": [
        {
          "output_type": "stream",
          "name": "stdout",
          "text": [
            "1.0.2\n"
          ]
        }
      ]
    },
    {
      "cell_type": "markdown",
      "source": [
        "> ## **02 첫번째 머신러닝 만들어 보기 - 붓꽃 품종 예측하기**\n",
        "\n",
        "1) **`sklearn.datasets`** 사이킷런에서 자체적으로 제공하는 **데이터 세트**를 생성하는 모듈의 모임\n",
        "\n",
        "2) **`sklearn.tree`** 트리 기반 **ML 알고리즘**을 구현한 클래스의 모임\n",
        "\n",
        "3) **`sklearn.model_selection`** 학습 데이터와 검증 데이터, 예측 데이터로 데이터를 분리하거나 최적의 하이퍼 파라미터로 평가하기 이한 다양한 모듈의 모임\n",
        "  - 하이퍼 파라미터 : 머신러닝 알고리즘별로 최적의 학습을 위해 직접 입력하는 파라미터들 통칭\n",
        "\n",
        "4) **`train_test_split()`** 데이터 세트를 학습 데이터와 테스트 데이터로 분리"
      ],
      "metadata": {
        "id": "jaOh3tfY9hum"
      }
    },
    {
      "cell_type": "code",
      "source": [
        "from sklearn.datasets import load_iris\n",
        "from sklearn.tree import DecisionTreeClassifier\n",
        "from sklearn.model_selection import train_test_split\n",
        "import pandas as pd\n",
        "\n",
        "#붓꽃 데이터 세트 로딩\n",
        "\n",
        "iris = load_iris()\n",
        "iris_data = iris.data\n",
        "\n",
        "iris_label = iris.target\n",
        "print('iris target 값 :', iris_label)\n",
        "print('iris target 명 :', iris.target_names)\n",
        "\n",
        "#DataFrame 으로 변경\n",
        "iris_df = pd.DataFrame(data=iris_data, columns = iris.feature_names)\n",
        "iris_df['label'] = iris.target\n",
        "iris_df.head(3)"
      ],
      "metadata": {
        "colab": {
          "base_uri": "https://localhost:8080/",
          "height": 252
        },
        "id": "Rvhp5wqO4u29",
        "outputId": "997cec23-7cc3-4154-a36a-e0cc8ed5c9c9"
      },
      "execution_count": null,
      "outputs": [
        {
          "output_type": "stream",
          "name": "stdout",
          "text": [
            "iris target 값 : [0 0 0 0 0 0 0 0 0 0 0 0 0 0 0 0 0 0 0 0 0 0 0 0 0 0 0 0 0 0 0 0 0 0 0 0 0\n",
            " 0 0 0 0 0 0 0 0 0 0 0 0 0 1 1 1 1 1 1 1 1 1 1 1 1 1 1 1 1 1 1 1 1 1 1 1 1\n",
            " 1 1 1 1 1 1 1 1 1 1 1 1 1 1 1 1 1 1 1 1 1 1 1 1 1 1 2 2 2 2 2 2 2 2 2 2 2\n",
            " 2 2 2 2 2 2 2 2 2 2 2 2 2 2 2 2 2 2 2 2 2 2 2 2 2 2 2 2 2 2 2 2 2 2 2 2 2\n",
            " 2 2]\n",
            "iris target 명 : ['setosa' 'versicolor' 'virginica']\n"
          ]
        },
        {
          "output_type": "execute_result",
          "data": {
            "text/plain": [
              "   sepal length (cm)  sepal width (cm)  petal length (cm)  petal width (cm)  \\\n",
              "0                5.1               3.5                1.4               0.2   \n",
              "1                4.9               3.0                1.4               0.2   \n",
              "2                4.7               3.2                1.3               0.2   \n",
              "\n",
              "   label  \n",
              "0      0  \n",
              "1      0  \n",
              "2      0  "
            ],
            "text/html": [
              "\n",
              "  <div id=\"df-8f5969f6-fe91-444d-9832-14f351d41dff\">\n",
              "    <div class=\"colab-df-container\">\n",
              "      <div>\n",
              "<style scoped>\n",
              "    .dataframe tbody tr th:only-of-type {\n",
              "        vertical-align: middle;\n",
              "    }\n",
              "\n",
              "    .dataframe tbody tr th {\n",
              "        vertical-align: top;\n",
              "    }\n",
              "\n",
              "    .dataframe thead th {\n",
              "        text-align: right;\n",
              "    }\n",
              "</style>\n",
              "<table border=\"1\" class=\"dataframe\">\n",
              "  <thead>\n",
              "    <tr style=\"text-align: right;\">\n",
              "      <th></th>\n",
              "      <th>sepal length (cm)</th>\n",
              "      <th>sepal width (cm)</th>\n",
              "      <th>petal length (cm)</th>\n",
              "      <th>petal width (cm)</th>\n",
              "      <th>label</th>\n",
              "    </tr>\n",
              "  </thead>\n",
              "  <tbody>\n",
              "    <tr>\n",
              "      <th>0</th>\n",
              "      <td>5.1</td>\n",
              "      <td>3.5</td>\n",
              "      <td>1.4</td>\n",
              "      <td>0.2</td>\n",
              "      <td>0</td>\n",
              "    </tr>\n",
              "    <tr>\n",
              "      <th>1</th>\n",
              "      <td>4.9</td>\n",
              "      <td>3.0</td>\n",
              "      <td>1.4</td>\n",
              "      <td>0.2</td>\n",
              "      <td>0</td>\n",
              "    </tr>\n",
              "    <tr>\n",
              "      <th>2</th>\n",
              "      <td>4.7</td>\n",
              "      <td>3.2</td>\n",
              "      <td>1.3</td>\n",
              "      <td>0.2</td>\n",
              "      <td>0</td>\n",
              "    </tr>\n",
              "  </tbody>\n",
              "</table>\n",
              "</div>\n",
              "      <button class=\"colab-df-convert\" onclick=\"convertToInteractive('df-8f5969f6-fe91-444d-9832-14f351d41dff')\"\n",
              "              title=\"Convert this dataframe to an interactive table.\"\n",
              "              style=\"display:none;\">\n",
              "        \n",
              "  <svg xmlns=\"http://www.w3.org/2000/svg\" height=\"24px\"viewBox=\"0 0 24 24\"\n",
              "       width=\"24px\">\n",
              "    <path d=\"M0 0h24v24H0V0z\" fill=\"none\"/>\n",
              "    <path d=\"M18.56 5.44l.94 2.06.94-2.06 2.06-.94-2.06-.94-.94-2.06-.94 2.06-2.06.94zm-11 1L8.5 8.5l.94-2.06 2.06-.94-2.06-.94L8.5 2.5l-.94 2.06-2.06.94zm10 10l.94 2.06.94-2.06 2.06-.94-2.06-.94-.94-2.06-.94 2.06-2.06.94z\"/><path d=\"M17.41 7.96l-1.37-1.37c-.4-.4-.92-.59-1.43-.59-.52 0-1.04.2-1.43.59L10.3 9.45l-7.72 7.72c-.78.78-.78 2.05 0 2.83L4 21.41c.39.39.9.59 1.41.59.51 0 1.02-.2 1.41-.59l7.78-7.78 2.81-2.81c.8-.78.8-2.07 0-2.86zM5.41 20L4 18.59l7.72-7.72 1.47 1.35L5.41 20z\"/>\n",
              "  </svg>\n",
              "      </button>\n",
              "      \n",
              "  <style>\n",
              "    .colab-df-container {\n",
              "      display:flex;\n",
              "      flex-wrap:wrap;\n",
              "      gap: 12px;\n",
              "    }\n",
              "\n",
              "    .colab-df-convert {\n",
              "      background-color: #E8F0FE;\n",
              "      border: none;\n",
              "      border-radius: 50%;\n",
              "      cursor: pointer;\n",
              "      display: none;\n",
              "      fill: #1967D2;\n",
              "      height: 32px;\n",
              "      padding: 0 0 0 0;\n",
              "      width: 32px;\n",
              "    }\n",
              "\n",
              "    .colab-df-convert:hover {\n",
              "      background-color: #E2EBFA;\n",
              "      box-shadow: 0px 1px 2px rgba(60, 64, 67, 0.3), 0px 1px 3px 1px rgba(60, 64, 67, 0.15);\n",
              "      fill: #174EA6;\n",
              "    }\n",
              "\n",
              "    [theme=dark] .colab-df-convert {\n",
              "      background-color: #3B4455;\n",
              "      fill: #D2E3FC;\n",
              "    }\n",
              "\n",
              "    [theme=dark] .colab-df-convert:hover {\n",
              "      background-color: #434B5C;\n",
              "      box-shadow: 0px 1px 3px 1px rgba(0, 0, 0, 0.15);\n",
              "      filter: drop-shadow(0px 1px 2px rgba(0, 0, 0, 0.3));\n",
              "      fill: #FFFFFF;\n",
              "    }\n",
              "  </style>\n",
              "\n",
              "      <script>\n",
              "        const buttonEl =\n",
              "          document.querySelector('#df-8f5969f6-fe91-444d-9832-14f351d41dff button.colab-df-convert');\n",
              "        buttonEl.style.display =\n",
              "          google.colab.kernel.accessAllowed ? 'block' : 'none';\n",
              "\n",
              "        async function convertToInteractive(key) {\n",
              "          const element = document.querySelector('#df-8f5969f6-fe91-444d-9832-14f351d41dff');\n",
              "          const dataTable =\n",
              "            await google.colab.kernel.invokeFunction('convertToInteractive',\n",
              "                                                     [key], {});\n",
              "          if (!dataTable) return;\n",
              "\n",
              "          const docLinkHtml = 'Like what you see? Visit the ' +\n",
              "            '<a target=\"_blank\" href=https://colab.research.google.com/notebooks/data_table.ipynb>data table notebook</a>'\n",
              "            + ' to learn more about interactive tables.';\n",
              "          element.innerHTML = '';\n",
              "          dataTable['output_type'] = 'display_data';\n",
              "          await google.colab.output.renderOutput(dataTable, element);\n",
              "          const docLink = document.createElement('div');\n",
              "          docLink.innerHTML = docLinkHtml;\n",
              "          element.appendChild(docLink);\n",
              "        }\n",
              "      </script>\n",
              "    </div>\n",
              "  </div>\n",
              "  "
            ]
          },
          "metadata": {},
          "execution_count": 5
        }
      ]
    },
    {
      "cell_type": "markdown",
      "source": [
        "4) **`train_test_split()`** 데이터 세트를 학습 데이터와 테스트 데이터로 분리\n",
        "* 학습 데이터로 학습된 모델이 얼마나 **뛰어난 성능을 가지는지 평가**하기 위해서\n",
        "* `test_size` 전체 데이터 중 **테스트 데이터**로 분리할 비율\n",
        "* `random_state` 호출할 때 마다 같은 학습/테스트 용 데이터 세트를 생성하기 위해 주어지는 **난수 발생 값**"
      ],
      "metadata": {
        "id": "GxIAu1_G7Jlj"
      }
    },
    {
      "cell_type": "code",
      "source": [
        "X_train , X_test, y_train, y_test = train_test_split(iris_data,iris_label,test_size = 0.2,random_state= 11)"
      ],
      "metadata": {
        "id": "RQTKpbej71Ru"
      },
      "execution_count": null,
      "outputs": []
    },
    {
      "cell_type": "code",
      "source": [
        "#DecisionTreeClassifier 객체 생성\n",
        "dt_clf = DecisionTreeClassifier(random_state=11)\n",
        "#학습 수행\n",
        "dt_clf.fit(X_train,y_train)"
      ],
      "metadata": {
        "colab": {
          "base_uri": "https://localhost:8080/"
        },
        "id": "TeDys0lD8OXg",
        "outputId": "ddb3c621-deaf-4c17-8a40-45eafec20816"
      },
      "execution_count": null,
      "outputs": [
        {
          "output_type": "execute_result",
          "data": {
            "text/plain": [
              "DecisionTreeClassifier(random_state=11)"
            ]
          },
          "metadata": {},
          "execution_count": 9
        }
      ]
    },
    {
      "cell_type": "code",
      "source": [
        "# 학습이 완료된 DecisionTreeClassifier 객체에서 테스트 데이터 세트로 예측 수행\n",
        "pred = dt_clf.predict(X_test)"
      ],
      "metadata": {
        "id": "Hs15McbM8iJs"
      },
      "execution_count": null,
      "outputs": []
    },
    {
      "cell_type": "code",
      "source": [
        "#머신러닝 모델의 성능 평가\n",
        "\n",
        "from sklearn.metrics import accuracy_score\n",
        "print('예측 정확도 : {0:.4f}'.format(accuracy_score(y_test,pred)))"
      ],
      "metadata": {
        "colab": {
          "base_uri": "https://localhost:8080/"
        },
        "id": "fFUFDkzN9IUG",
        "outputId": "aa46080b-d444-4631-a93a-49148403ff2b"
      },
      "execution_count": null,
      "outputs": [
        {
          "output_type": "stream",
          "name": "stdout",
          "text": [
            "예측 정확도 : 0.9333\n"
          ]
        }
      ]
    },
    {
      "cell_type": "markdown",
      "source": [
        "> ## **03 사이킷런의 기반 프레임워크 익히기**\n",
        "\n",
        "### 1. Estimator 이해 및 fit(), predict() 메서드\n",
        "\n",
        "  1) **fit()** : ML 모델 학습 / **predict()** : 학습된 모델 예측\n",
        "\n",
        "  2) **Estimator**\n",
        "\n",
        "  * **Classifier** : 분류 알고리즘을 구현한 클래스  \n",
        "     \n",
        "  * **Regressor** : 회귀 알고리즘을 구현한 클래스\n",
        "\n",
        "### 2. 사이킷런의 주요 모듈\n",
        "\n",
        "1) **예제 데이터** - `sklearn.datasets`\n",
        "\n",
        "  2) **피처 처리**\n",
        " * `sklearn.preprocessing` 데이터 전처리\n",
        " * `sklearn.feature_selection` 셀렉션 작업 수행\n",
        " * `skleran.feature_extraction` 텍스트/이미지 데이터의 벡터화된 피처 추출\n",
        "\n",
        "3) **피처 처리 & 차원 축소**\n",
        " * `sklearn.decomposition` 차원 축소 알고리즘 모듈\n",
        "\n",
        "4) **데이터 분리. 검증& 파라미터 튜닝**\n",
        " * `sklearn.model_selection` 교차 검증을 위한 데이터 분리,최적 파라미터 추출 등의 API 제공\n",
        "\n",
        "5) **평가**\n",
        " * `sklearn.metrics` 성능 측정 방법 제공\n",
        " \n",
        "6) **ML알고리즘**\n",
        " *  `sklearn.ensemble` 앙상블 알고리즘 제공\n",
        " * `sklearn.linear_model` 회귀 관련 알고리즘 제공\n",
        " * `sklearn.naive_bayes` 나이브 베이즈 알고리즘 제공\n",
        " * `sklearn.neighbors` 최근접 이웃 알고리즘 제공\n",
        " * `sklearn.svm` 서포트 벡터 머신 알고리즘 제공\n",
        " * `sklearn.tree` 의사 결정 트리 알고리즘 제공\n",
        " * `sklearn.cluster` 비지도 클러스터리 알고리즘 지공\n",
        " \n",
        "7) **유틸리티**\n",
        " * `sklearn.pipeline` 피처 처리 등 변환과 ML알고리즘 학습, 예측을 함께 묶어서 실행\n",
        "\n",
        "\n",
        "### 3. 내장된 예제 데이터 세트\n",
        "\n",
        "1) **fetch** 계열 명령 : 인터넷에서 내려받아 홈 디렉터리 아래의 scikit_learn_data 라는 서브 디렉터리에 저장 후 불러들이는 데이터\n",
        "\n",
        "2) 분류와 클러스터링을 위한 표본 데이터 생성기\n",
        "\n",
        "* `datasets.make_classifications()`  분류를 위한 데이터 세트 생성\n",
        "* `datasets.make_blobs()`  클러스터링을 위한 데이터 세트 무작위 생성\n",
        "\n",
        "3) 딕셔너리 형태 **데이터 세트의 키**\n",
        "* data : 피처의 데이터 세트\n",
        "* target : 분류 시 레이블 값, 회귀일 때는 숫자 결괏값 데이터 세트\n",
        "* target_names : 개별 레이블의 이름\n",
        "* feature_names : 피처의 이름\n",
        "* DESCR : 데이터 세트에 대한 설명과 각 피처의 설명\n",
        "\n",
        "\n",
        "\n"
      ],
      "metadata": {
        "id": "zb2x8Z3p9sHs"
      }
    },
    {
      "cell_type": "code",
      "source": [
        "from sklearn.datasets import load_iris\n",
        "\n",
        "iris_data = load_iris()\n",
        "print(type(iris_data))\n",
        "\n",
        "#Bunch 클래스는 파이썬 딕셔너리 자료형과 유사함"
      ],
      "metadata": {
        "colab": {
          "base_uri": "https://localhost:8080/"
        },
        "id": "fyRVQ_x1C8jo",
        "outputId": "2a190db0-c644-4bb2-fdb4-725ec9c466d1"
      },
      "execution_count": null,
      "outputs": [
        {
          "output_type": "stream",
          "name": "stdout",
          "text": [
            "<class 'sklearn.utils.Bunch'>\n"
          ]
        }
      ]
    },
    {
      "cell_type": "code",
      "source": [
        "keys = iris_data.keys()\n",
        "print('붓꽃 데이터 세트의 키들 : ',keys)"
      ],
      "metadata": {
        "colab": {
          "base_uri": "https://localhost:8080/"
        },
        "id": "4dpEpLHeDSkf",
        "outputId": "86057f4e-25ed-452a-cad7-32d1c11a928e"
      },
      "execution_count": null,
      "outputs": [
        {
          "output_type": "stream",
          "name": "stdout",
          "text": [
            "붓꽃 데이터 세트의 키들 :  dict_keys(['data', 'target', 'frame', 'target_names', 'DESCR', 'feature_names', 'filename', 'data_module'])\n"
          ]
        }
      ]
    },
    {
      "cell_type": "code",
      "source": [
        "print('\\n feature_names의 type : ', type(iris_data.feature_names))\n",
        "print(' feature_names의 shape : ', len(iris_data.feature_names))\n",
        "print(iris_data.feature_names)\n",
        "\n",
        "print('\\n target_names의 type :', type(iris_data.target_names))\n",
        "print(' target_names의 shape :', len(iris_data.target_names))\n",
        "print(iris_data.target_names)\n",
        "\n",
        "print('\\n data의 type :', type(iris_data.data))\n",
        "print(' data의 shape :', iris_data.data.shape)\n",
        "print(iris_data['data'])\n",
        "\n",
        "print('\\n target의 type :', type(iris_data.target))\n",
        "print(' target의 shape : ', iris_data.target.shape)\n",
        "print(iris_data.target)"
      ],
      "metadata": {
        "colab": {
          "base_uri": "https://localhost:8080/"
        },
        "id": "TQomhJj_EOw2",
        "outputId": "02ce17da-a04f-4fcb-d96d-48c01839110b"
      },
      "execution_count": null,
      "outputs": [
        {
          "output_type": "stream",
          "name": "stdout",
          "text": [
            "\n",
            " feature_names의 type :  <class 'list'>\n",
            " feature_names의 shape :  4\n",
            "['sepal length (cm)', 'sepal width (cm)', 'petal length (cm)', 'petal width (cm)']\n",
            "\n",
            " target_names의 type : <class 'numpy.ndarray'>\n",
            " target_names의 shape : 3\n",
            "['setosa' 'versicolor' 'virginica']\n",
            "\n",
            " data의 type : <class 'numpy.ndarray'>\n",
            " data의 shape : (150, 4)\n",
            "[[5.1 3.5 1.4 0.2]\n",
            " [4.9 3.  1.4 0.2]\n",
            " [4.7 3.2 1.3 0.2]\n",
            " [4.6 3.1 1.5 0.2]\n",
            " [5.  3.6 1.4 0.2]\n",
            " [5.4 3.9 1.7 0.4]\n",
            " [4.6 3.4 1.4 0.3]\n",
            " [5.  3.4 1.5 0.2]\n",
            " [4.4 2.9 1.4 0.2]\n",
            " [4.9 3.1 1.5 0.1]\n",
            " [5.4 3.7 1.5 0.2]\n",
            " [4.8 3.4 1.6 0.2]\n",
            " [4.8 3.  1.4 0.1]\n",
            " [4.3 3.  1.1 0.1]\n",
            " [5.8 4.  1.2 0.2]\n",
            " [5.7 4.4 1.5 0.4]\n",
            " [5.4 3.9 1.3 0.4]\n",
            " [5.1 3.5 1.4 0.3]\n",
            " [5.7 3.8 1.7 0.3]\n",
            " [5.1 3.8 1.5 0.3]\n",
            " [5.4 3.4 1.7 0.2]\n",
            " [5.1 3.7 1.5 0.4]\n",
            " [4.6 3.6 1.  0.2]\n",
            " [5.1 3.3 1.7 0.5]\n",
            " [4.8 3.4 1.9 0.2]\n",
            " [5.  3.  1.6 0.2]\n",
            " [5.  3.4 1.6 0.4]\n",
            " [5.2 3.5 1.5 0.2]\n",
            " [5.2 3.4 1.4 0.2]\n",
            " [4.7 3.2 1.6 0.2]\n",
            " [4.8 3.1 1.6 0.2]\n",
            " [5.4 3.4 1.5 0.4]\n",
            " [5.2 4.1 1.5 0.1]\n",
            " [5.5 4.2 1.4 0.2]\n",
            " [4.9 3.1 1.5 0.2]\n",
            " [5.  3.2 1.2 0.2]\n",
            " [5.5 3.5 1.3 0.2]\n",
            " [4.9 3.6 1.4 0.1]\n",
            " [4.4 3.  1.3 0.2]\n",
            " [5.1 3.4 1.5 0.2]\n",
            " [5.  3.5 1.3 0.3]\n",
            " [4.5 2.3 1.3 0.3]\n",
            " [4.4 3.2 1.3 0.2]\n",
            " [5.  3.5 1.6 0.6]\n",
            " [5.1 3.8 1.9 0.4]\n",
            " [4.8 3.  1.4 0.3]\n",
            " [5.1 3.8 1.6 0.2]\n",
            " [4.6 3.2 1.4 0.2]\n",
            " [5.3 3.7 1.5 0.2]\n",
            " [5.  3.3 1.4 0.2]\n",
            " [7.  3.2 4.7 1.4]\n",
            " [6.4 3.2 4.5 1.5]\n",
            " [6.9 3.1 4.9 1.5]\n",
            " [5.5 2.3 4.  1.3]\n",
            " [6.5 2.8 4.6 1.5]\n",
            " [5.7 2.8 4.5 1.3]\n",
            " [6.3 3.3 4.7 1.6]\n",
            " [4.9 2.4 3.3 1. ]\n",
            " [6.6 2.9 4.6 1.3]\n",
            " [5.2 2.7 3.9 1.4]\n",
            " [5.  2.  3.5 1. ]\n",
            " [5.9 3.  4.2 1.5]\n",
            " [6.  2.2 4.  1. ]\n",
            " [6.1 2.9 4.7 1.4]\n",
            " [5.6 2.9 3.6 1.3]\n",
            " [6.7 3.1 4.4 1.4]\n",
            " [5.6 3.  4.5 1.5]\n",
            " [5.8 2.7 4.1 1. ]\n",
            " [6.2 2.2 4.5 1.5]\n",
            " [5.6 2.5 3.9 1.1]\n",
            " [5.9 3.2 4.8 1.8]\n",
            " [6.1 2.8 4.  1.3]\n",
            " [6.3 2.5 4.9 1.5]\n",
            " [6.1 2.8 4.7 1.2]\n",
            " [6.4 2.9 4.3 1.3]\n",
            " [6.6 3.  4.4 1.4]\n",
            " [6.8 2.8 4.8 1.4]\n",
            " [6.7 3.  5.  1.7]\n",
            " [6.  2.9 4.5 1.5]\n",
            " [5.7 2.6 3.5 1. ]\n",
            " [5.5 2.4 3.8 1.1]\n",
            " [5.5 2.4 3.7 1. ]\n",
            " [5.8 2.7 3.9 1.2]\n",
            " [6.  2.7 5.1 1.6]\n",
            " [5.4 3.  4.5 1.5]\n",
            " [6.  3.4 4.5 1.6]\n",
            " [6.7 3.1 4.7 1.5]\n",
            " [6.3 2.3 4.4 1.3]\n",
            " [5.6 3.  4.1 1.3]\n",
            " [5.5 2.5 4.  1.3]\n",
            " [5.5 2.6 4.4 1.2]\n",
            " [6.1 3.  4.6 1.4]\n",
            " [5.8 2.6 4.  1.2]\n",
            " [5.  2.3 3.3 1. ]\n",
            " [5.6 2.7 4.2 1.3]\n",
            " [5.7 3.  4.2 1.2]\n",
            " [5.7 2.9 4.2 1.3]\n",
            " [6.2 2.9 4.3 1.3]\n",
            " [5.1 2.5 3.  1.1]\n",
            " [5.7 2.8 4.1 1.3]\n",
            " [6.3 3.3 6.  2.5]\n",
            " [5.8 2.7 5.1 1.9]\n",
            " [7.1 3.  5.9 2.1]\n",
            " [6.3 2.9 5.6 1.8]\n",
            " [6.5 3.  5.8 2.2]\n",
            " [7.6 3.  6.6 2.1]\n",
            " [4.9 2.5 4.5 1.7]\n",
            " [7.3 2.9 6.3 1.8]\n",
            " [6.7 2.5 5.8 1.8]\n",
            " [7.2 3.6 6.1 2.5]\n",
            " [6.5 3.2 5.1 2. ]\n",
            " [6.4 2.7 5.3 1.9]\n",
            " [6.8 3.  5.5 2.1]\n",
            " [5.7 2.5 5.  2. ]\n",
            " [5.8 2.8 5.1 2.4]\n",
            " [6.4 3.2 5.3 2.3]\n",
            " [6.5 3.  5.5 1.8]\n",
            " [7.7 3.8 6.7 2.2]\n",
            " [7.7 2.6 6.9 2.3]\n",
            " [6.  2.2 5.  1.5]\n",
            " [6.9 3.2 5.7 2.3]\n",
            " [5.6 2.8 4.9 2. ]\n",
            " [7.7 2.8 6.7 2. ]\n",
            " [6.3 2.7 4.9 1.8]\n",
            " [6.7 3.3 5.7 2.1]\n",
            " [7.2 3.2 6.  1.8]\n",
            " [6.2 2.8 4.8 1.8]\n",
            " [6.1 3.  4.9 1.8]\n",
            " [6.4 2.8 5.6 2.1]\n",
            " [7.2 3.  5.8 1.6]\n",
            " [7.4 2.8 6.1 1.9]\n",
            " [7.9 3.8 6.4 2. ]\n",
            " [6.4 2.8 5.6 2.2]\n",
            " [6.3 2.8 5.1 1.5]\n",
            " [6.1 2.6 5.6 1.4]\n",
            " [7.7 3.  6.1 2.3]\n",
            " [6.3 3.4 5.6 2.4]\n",
            " [6.4 3.1 5.5 1.8]\n",
            " [6.  3.  4.8 1.8]\n",
            " [6.9 3.1 5.4 2.1]\n",
            " [6.7 3.1 5.6 2.4]\n",
            " [6.9 3.1 5.1 2.3]\n",
            " [5.8 2.7 5.1 1.9]\n",
            " [6.8 3.2 5.9 2.3]\n",
            " [6.7 3.3 5.7 2.5]\n",
            " [6.7 3.  5.2 2.3]\n",
            " [6.3 2.5 5.  1.9]\n",
            " [6.5 3.  5.2 2. ]\n",
            " [6.2 3.4 5.4 2.3]\n",
            " [5.9 3.  5.1 1.8]]\n",
            "\n",
            " target의 type : <class 'numpy.ndarray'>\n",
            " target의 shape :  (150,)\n",
            "[0 0 0 0 0 0 0 0 0 0 0 0 0 0 0 0 0 0 0 0 0 0 0 0 0 0 0 0 0 0 0 0 0 0 0 0 0\n",
            " 0 0 0 0 0 0 0 0 0 0 0 0 0 1 1 1 1 1 1 1 1 1 1 1 1 1 1 1 1 1 1 1 1 1 1 1 1\n",
            " 1 1 1 1 1 1 1 1 1 1 1 1 1 1 1 1 1 1 1 1 1 1 1 1 1 1 2 2 2 2 2 2 2 2 2 2 2\n",
            " 2 2 2 2 2 2 2 2 2 2 2 2 2 2 2 2 2 2 2 2 2 2 2 2 2 2 2 2 2 2 2 2 2 2 2 2 2\n",
            " 2 2]\n"
          ]
        }
      ]
    },
    {
      "cell_type": "markdown",
      "source": [
        "> ## **04 Model Selection 모듈 소개**\n",
        "\n",
        "### 1. 학습/테스트 데이터 세트 분리 - train_test_split\n",
        "\n"
      ],
      "metadata": {
        "id": "BXLzwbbCFHds"
      }
    },
    {
      "cell_type": "code",
      "source": [
        "from sklearn.datasets import load_iris\n",
        "from sklearn.tree import DecisionTreeClassifier\n",
        "from sklearn.metrics import accuracy_score\n",
        "\n",
        "iris = load_iris()\n",
        "dt_clf = DecisionTreeClassifier()\n",
        "train_data = iris.data\n",
        "train_label = iris.target\n",
        "dt_clf.fit(train_data,train_label)\n",
        "\n",
        "#학습 데이터 세트로 예측 수행 : 이미 학습한 데이터로 수행했기에 정확도 100%\n",
        "\n",
        "pred = dt_clf.predict(train_data)\n",
        "print('예측 정확도 :', accuracy_score(train_label,pred))"
      ],
      "metadata": {
        "colab": {
          "base_uri": "https://localhost:8080/"
        },
        "id": "UJsBlbAZFYxq",
        "outputId": "049c58fc-1f39-40f8-a3d8-fde54b210e72"
      },
      "execution_count": null,
      "outputs": [
        {
          "output_type": "stream",
          "name": "stdout",
          "text": [
            "예측 정확도 : 1.0\n"
          ]
        }
      ]
    },
    {
      "cell_type": "markdown",
      "source": [
        "### **2. train_test_split()** \n",
        "\n",
        "*   `test_size` 전체 데이터에서 **테스트 데이터 세트** 크기를 얼마로 샘플링 할 지 결정\n",
        "* `train_size` 전체 데이터에서 **학습용 데이터 세트** 크기를 얼마로 샘플링 할 지 결정\n",
        "* `shuffle` 데이터를 분리하기 전에 미리 섞을 지 결정\n",
        "* `random_state` 호출할 때 마다 **동일한 학습/테스트 용 데이터 세트**를 생성하기 위해 주어지는 난수 값\n",
        "\n"
      ],
      "metadata": {
        "id": "XfCQB_dIGNxI"
      }
    },
    {
      "cell_type": "code",
      "source": [
        "from sklearn.tree import DecisionTreeClassifier\n",
        "from sklearn.metrics import accuracy_score\n",
        "from sklearn.datasets import load_iris\n",
        "from sklearn.model_selection import train_test_split\n",
        "\n",
        "dt_clf = DecisionTreeClassifier()\n",
        "iris_data = load_iris()\n",
        "\n",
        "X_train, X_test, y_train, y_test = train_test_split(iris_data.data,iris_data.target, test_size = 0.3, random_state = 121)"
      ],
      "metadata": {
        "id": "yVTT1rdwG4HH"
      },
      "execution_count": null,
      "outputs": []
    },
    {
      "cell_type": "code",
      "source": [
        "#예측 정확도 측정\n",
        "\n",
        "dt_clf.fit(X_train, y_train)\n",
        "pred = dt_clf.predict(X_test)\n",
        "print('예측 정확도 : {0:.4f}'.format(accuracy_score(y_test,pred)))"
      ],
      "metadata": {
        "colab": {
          "base_uri": "https://localhost:8080/"
        },
        "id": "uIgENgzjHxGO",
        "outputId": "81487bf0-9dff-4f48-846a-0a1091d00fb1"
      },
      "execution_count": null,
      "outputs": [
        {
          "output_type": "stream",
          "name": "stdout",
          "text": [
            "예측 정확도 : 0.9556\n"
          ]
        }
      ]
    },
    {
      "cell_type": "markdown",
      "source": [
        "### 3. 교차 검증\n",
        ": **데이터 편중을 막기 위해서** 별도의 여러 세트로 구성된 학습 데이터 세트와 검증 데이터 세트에서 학습과 평가 수행\n",
        "\n",
        "1) K 폴드 교차 검증 : K개의 데이터 폴드 세트를 만들어서 **K번만큼** 각 폴드 세트에 학습과 검증 평가를 반복적으로 수행하는 방법"
      ],
      "metadata": {
        "id": "24xInzICISdR"
      }
    },
    {
      "cell_type": "code",
      "source": [
        "from sklearn.tree import DecisionTreeClassifier\n",
        "from sklearn.metrics import accuracy_score\n",
        "from sklearn.model_selection import KFold\n",
        "import numpy as np\n",
        "\n",
        "iris = load_iris()\n",
        "features = iris.data\n",
        "label = iris.target\n",
        "dt_clf = DecisionTreeClassifier(random_state=156)\n",
        "\n",
        "#5개의 폴드 세트로 분리하는 KFold 객체와 폴드 세트별 정확도를 담을 리스트 객체 생성\n",
        "kfold = KFold(n_splits = 5)\n",
        "cv_accuracy = []\n",
        "print('붓꽃 데이터 세트 크기 :',features.shape[0])"
      ],
      "metadata": {
        "colab": {
          "base_uri": "https://localhost:8080/"
        },
        "id": "SFn30sxNKgQk",
        "outputId": "bf5b8dfe-d59d-4101-87aa-41259bde371e"
      },
      "execution_count": null,
      "outputs": [
        {
          "output_type": "stream",
          "name": "stdout",
          "text": [
            "붓꽃 데이터 세트 크기 : 150\n"
          ]
        }
      ]
    },
    {
      "cell_type": "code",
      "source": [
        "n_iter = 0\n",
        "\n",
        "for train_index, test_index in kfold.split(features) :\n",
        "  #학습용, 검증용 테스트 데이터 추출\n",
        "  X_train, X_test = features[train_index], features[test_index]\n",
        "  y_train, y_test = label[train_index], label[test_index]\n",
        "  #학습 및 예측\n",
        "  dt_clf.fit(X_train,y_train)\n",
        "  pred = dt_clf.predict(X_test)\n",
        "  n_iter += 1\n",
        "  accuracy = np.round(accuracy_score(y_test,pred),4)\n",
        "  train_size = X_train.shape[0]\n",
        "  test_size = X_test.shape[0]\n",
        "  print('\\n#{0} 교차 검증 정확도 : {1} , 학습 데이터 크기 : {2}, 검증 데이터 크기 : {3}'.format(n_iter,accuracy,train_size,test_size))\n",
        "  print('#{0} 검증 세트 인덱스 :{1}'.format(n_iter,test_index))\n",
        "  cv_accuracy.append(accuracy)\n",
        "\n",
        "#개별 iteration별 정확도를 합하여 평균 정확도 계산\n",
        "print('\\n##평균 검증 정확도 :', np.mean(cv_accuracy))"
      ],
      "metadata": {
        "colab": {
          "base_uri": "https://localhost:8080/"
        },
        "id": "XtBM-TD-MIt1",
        "outputId": "af49839c-0eab-4cc2-842c-1a58f3682257"
      },
      "execution_count": null,
      "outputs": [
        {
          "output_type": "stream",
          "name": "stdout",
          "text": [
            "\n",
            " #1 교차 검증 정확도 : 1.0 , 학습 데이터 크기 : 120, 검증 데이터 크기 : 30\n",
            "#1 검증 세트 인덱스 :[ 0  1  2  3  4  5  6  7  8  9 10 11 12 13 14 15 16 17 18 19 20 21 22 23\n",
            " 24 25 26 27 28 29]\n",
            "\n",
            " #2 교차 검증 정확도 : 0.9667 , 학습 데이터 크기 : 120, 검증 데이터 크기 : 30\n",
            "#2 검증 세트 인덱스 :[30 31 32 33 34 35 36 37 38 39 40 41 42 43 44 45 46 47 48 49 50 51 52 53\n",
            " 54 55 56 57 58 59]\n",
            "\n",
            " #3 교차 검증 정확도 : 0.8667 , 학습 데이터 크기 : 120, 검증 데이터 크기 : 30\n",
            "#3 검증 세트 인덱스 :[60 61 62 63 64 65 66 67 68 69 70 71 72 73 74 75 76 77 78 79 80 81 82 83\n",
            " 84 85 86 87 88 89]\n",
            "\n",
            " #4 교차 검증 정확도 : 0.9333 , 학습 데이터 크기 : 120, 검증 데이터 크기 : 30\n",
            "#4 검증 세트 인덱스 :[ 90  91  92  93  94  95  96  97  98  99 100 101 102 103 104 105 106 107\n",
            " 108 109 110 111 112 113 114 115 116 117 118 119]\n",
            "\n",
            " #5 교차 검증 정확도 : 0.7333 , 학습 데이터 크기 : 120, 검증 데이터 크기 : 30\n",
            "#5 검증 세트 인덱스 :[120 121 122 123 124 125 126 127 128 129 130 131 132 133 134 135 136 137\n",
            " 138 139 140 141 142 143 144 145 146 147 148 149]\n",
            "\n",
            "##평균 검증 정확도 : 0.9\n"
          ]
        }
      ]
    },
    {
      "cell_type": "markdown",
      "source": [
        "2) Stratified K폴드 : **불균형한 분포도**를 가진 레이블 데이터 집합을 위한 K 폴드 방식\n",
        "\n",
        "* K폴드가 레이블 데이터 집합이 원본 데이터 집합의 레이블 분호를 학습 및 테스트 세트에 **제대로 분배하지 못하는 경우**의 문제 해결   \n",
        "* split() 메서드에 인자로 피처 데이터 세트뿐만 아니라 **레이블 데이터 세트도 필요**\n"
      ],
      "metadata": {
        "id": "mH-dsMOCOYWq"
      }
    },
    {
      "cell_type": "code",
      "source": [
        "import pandas as pd\n",
        "\n",
        "iris = load_iris()\n",
        "iris_df = pd.DataFrame(data=iris.data, columns = iris.feature_names)\n",
        "iris_df['label'] = iris.target\n",
        "iris_df['label'].value_counts()"
      ],
      "metadata": {
        "colab": {
          "base_uri": "https://localhost:8080/"
        },
        "id": "DevURbG9Pd01",
        "outputId": "8387fabb-fe2a-456f-ab33-99959cc86c56"
      },
      "execution_count": null,
      "outputs": [
        {
          "output_type": "execute_result",
          "data": {
            "text/plain": [
              "0    50\n",
              "1    50\n",
              "2    50\n",
              "Name: label, dtype: int64"
            ]
          },
          "metadata": {},
          "execution_count": 35
        }
      ]
    },
    {
      "cell_type": "code",
      "source": [
        "from sklearn.model_selection import StratifiedKFold\n",
        "\n",
        "skf = StratifiedKFold(n_splits = 3)\n",
        "n_iter = 0\n",
        "\n",
        "for train_index, test_index in skf.split(iris_df,iris_df['label']) :\n",
        "  n_iter += 1\n",
        "  label_train = iris_df['label'].iloc[train_index]\n",
        "  label_test = iris_df['label'].iloc[test_index]\n",
        "  print('##교차 검증 : {0}'.format(n_iter))\n",
        "  print('학습 레이블 데이터 분포 :\\n', label_train.value_counts())\n",
        "  print('검증 레이블 데이터 분포 :\\n', label_test.value_counts())"
      ],
      "metadata": {
        "colab": {
          "base_uri": "https://localhost:8080/"
        },
        "id": "MFPbFq21QhvU",
        "outputId": "7c43c07a-1bbd-4872-f936-f7add721ee37"
      },
      "execution_count": null,
      "outputs": [
        {
          "output_type": "stream",
          "name": "stdout",
          "text": [
            "##교차 검증 : 1\n",
            "학습 레이블 데이터 분포 :\n",
            " 2    34\n",
            "0    33\n",
            "1    33\n",
            "Name: label, dtype: int64\n",
            "검증 레이블 데이터 분포 :\n",
            " 0    17\n",
            "1    17\n",
            "2    16\n",
            "Name: label, dtype: int64\n",
            "##교차 검증 : 2\n",
            "학습 레이블 데이터 분포 :\n",
            " 1    34\n",
            "0    33\n",
            "2    33\n",
            "Name: label, dtype: int64\n",
            "검증 레이블 데이터 분포 :\n",
            " 0    17\n",
            "2    17\n",
            "1    16\n",
            "Name: label, dtype: int64\n",
            "##교차 검증 : 3\n",
            "학습 레이블 데이터 분포 :\n",
            " 0    34\n",
            "1    33\n",
            "2    33\n",
            "Name: label, dtype: int64\n",
            "검증 레이블 데이터 분포 :\n",
            " 1    17\n",
            "2    17\n",
            "0    16\n",
            "Name: label, dtype: int64\n"
          ]
        }
      ]
    },
    {
      "cell_type": "code",
      "source": [
        "df_clf = DecisionTreeClassifier(random_state=156)\n",
        "\n",
        "skfold = StratifiedKFold(n_splits = 3)\n",
        "n_iter = 0\n",
        "cv_accuracy = []\n",
        "\n",
        "for train_index, test_index in skfold.split(features, label) :\n",
        "  X_train,X_test = features[train_index],features[test_index]\n",
        "  y_train, y_test = label[train_index], label[test_index]\n",
        "  dt_clf.fit(X_train,y_train)\n",
        "  pred = dt_clf.predict(X_test)\n",
        "\n",
        "  n_iter += 1\n",
        "  accuracy = np.round(accuracy_score(y_test,pred),4)\n",
        "  train_size = X_train.shape[0]\n",
        "  test_size = X_test.shape[0]\n",
        "  print('\\n#{0} 교차 검증 정확도 : {1}, 학습 데이터 크기 : {2} , 검증 데이터 크기 : {3}'.format(n_iter,accuracy,train_size,test_size))\n",
        "  print('#{0} 검증 세트 인덱스 : {1}'.format(n_iter,test_index))\n",
        "  cv_accuracy.append(accuracy)\n",
        "\n",
        "  #교차 검증별 정확도 및 평균 정확도 계산\n",
        "  print('\\n## 교차 검증별 정확도 :',np.round(cv_accuracy,4))\n",
        "  print('## 평균 검증 정확도 :', np.mean(cv_accuracy))\n"
      ],
      "metadata": {
        "colab": {
          "base_uri": "https://localhost:8080/"
        },
        "id": "bQYk5CnxRj6p",
        "outputId": "2ae0fac2-83f0-4b66-d71e-912c1e74e9ac"
      },
      "execution_count": null,
      "outputs": [
        {
          "output_type": "stream",
          "name": "stdout",
          "text": [
            "\n",
            "#1 교차 검증 정확도 : 0.98, 학습 데이터 크기 : 100 , 검증 데이터 크기 : 50\n",
            "#1 검증 세트 인덱스 : [  0   1   2   3   4   5   6   7   8   9  10  11  12  13  14  15  16  50\n",
            "  51  52  53  54  55  56  57  58  59  60  61  62  63  64  65  66 100 101\n",
            " 102 103 104 105 106 107 108 109 110 111 112 113 114 115]\n",
            "\n",
            "## 교차 검증별 정확도 : [0.98]\n",
            "## 평균 검증 정확도 : 0.98\n",
            "\n",
            "#2 교차 검증 정확도 : 0.94, 학습 데이터 크기 : 100 , 검증 데이터 크기 : 50\n",
            "#2 검증 세트 인덱스 : [ 17  18  19  20  21  22  23  24  25  26  27  28  29  30  31  32  33  67\n",
            "  68  69  70  71  72  73  74  75  76  77  78  79  80  81  82 116 117 118\n",
            " 119 120 121 122 123 124 125 126 127 128 129 130 131 132]\n",
            "\n",
            "## 교차 검증별 정확도 : [0.98 0.94]\n",
            "## 평균 검증 정확도 : 0.96\n",
            "\n",
            "#3 교차 검증 정확도 : 0.98, 학습 데이터 크기 : 100 , 검증 데이터 크기 : 50\n",
            "#3 검증 세트 인덱스 : [ 34  35  36  37  38  39  40  41  42  43  44  45  46  47  48  49  83  84\n",
            "  85  86  87  88  89  90  91  92  93  94  95  96  97  98  99 133 134 135\n",
            " 136 137 138 139 140 141 142 143 144 145 146 147 148 149]\n",
            "\n",
            "## 교차 검증별 정확도 : [0.98 0.94 0.98]\n",
            "## 평균 검증 정확도 : 0.9666666666666667\n"
          ]
        }
      ]
    },
    {
      "cell_type": "markdown",
      "source": [
        "3) 교차 검증을 보다 간편하게 - **cross_val_score()**\n",
        "\n",
        ": <폴드 세트 설정 - for 루프로 학습 및 테스트 데이터의 인덱스 추출 - 반복적으로 학습과 예측 수행하고 예측 성능 반환> 과정을 한꺼번에 수행해주는 API\n",
        "\n",
        "    cross_val_score (estimator, X, y = None, scoring = None, cv = None, n_jobs = 1, verbose = 0, fit_parmas = None, pre_dispatch='2*n_jobs')\n",
        "\n",
        "* `estimator` | 분류 알고리즘 / 회귀 알고리즘 클래스\n",
        "* `X` | 피처 데이터 세트\n",
        "* `y` | 레이블 데이터 세트\n",
        "* `scoring` | 예측 성능 평가 지표 기술\n",
        "* `cv` | 교차 검증 폴드 수 \n"
      ],
      "metadata": {
        "id": "KubE11nyTowX"
      }
    },
    {
      "cell_type": "code",
      "source": [
        "from sklearn.tree import DecisionTreeClassifier\n",
        "from sklearn.model_selection import cross_val_score, cross_validate\n",
        "from sklearn.datasets import load_iris\n",
        "\n",
        "iris_data = load_iris()\n",
        "dt_clf = DecisionTreeClassifier(random_state = 156)\n",
        "\n",
        "data = iris_data.data\n",
        "label = iris_data.target\n",
        "\n",
        "#성능 지표는 정확도, 교촤 검증 세트는 3개\n",
        "scores = cross_val_score(dt_clf,data,label,scoring = 'accuracy',cv = 3)\n",
        "print('교차 검증별 정확도 :', np.round(scores,4))\n",
        "print('평균 검증 정확도 :', np.round(np.mean(scores),4))"
      ],
      "metadata": {
        "colab": {
          "base_uri": "https://localhost:8080/"
        },
        "id": "H-MyMTkYUgFp",
        "outputId": "f1a7d7a7-b0fc-4e1d-e2fc-31a9b6ff9330"
      },
      "execution_count": null,
      "outputs": [
        {
          "output_type": "stream",
          "name": "stdout",
          "text": [
            "교차 검증별 정확도 : [0.98 0.94 0.98]\n",
            "평균 검증 정확도 : 0.9667\n"
          ]
        }
      ]
    },
    {
      "cell_type": "markdown",
      "source": [
        "###4. GridSearchCV - 교차 검증과 하이퍼 파라미터 튜닝을 한 번에\n",
        "\n",
        ": 교차 검증을 기반으로 하여 하이퍼 파라미터의 최적 값 찾게 해줌\n",
        " \n",
        " * `estimator` | claaifier, regressor,pipeline\n",
        " * `param_grid` | key + 리스트 값을 가지는 딕셔너리 주어짐\n",
        " * `scoring` | 예측 성능을 측정할 평가 방법 지정\n",
        " * `cv` | 교차 검증을 위해 분할되는 학습/테스트 세트의 개수 지정\n",
        " * `refit` | True로 생성 시 가장 최적의 하이퍼 파라미터를 찾은뒤 입력된 estimator 객체를 해당 하이퍼 파라미터로 재학습"
      ],
      "metadata": {
        "id": "8g5O_-KmW5QV"
      }
    },
    {
      "cell_type": "code",
      "source": [
        "grid_parameters = {'max_depth' : [1,2,3],\n",
        "                   'min_samples_split': [2,3]\n",
        "                  }"
      ],
      "metadata": {
        "id": "0iS4Q-8RX90i"
      },
      "execution_count": null,
      "outputs": []
    },
    {
      "cell_type": "code",
      "source": [
        "from sklearn.datasets import load_iris\n",
        "from sklearn.tree import DecisionTreeClassifier\n",
        "from sklearn.model_selection import GridSearchCV\n",
        "\n",
        "#학습 데이터와 테스트 데이터 분리\n",
        "iris = load_iris()\n",
        "X_train, X_test, y_train, y_test = train_test_split(iris_data.data, iris_data.target,test_size = 0.2,random_state = 121)\n",
        "dtree = DecisionTreeClassifier()\n",
        "\n",
        "#파라미터를 딕셔너리 형태로 설정\n",
        "parameters = {'max_depth' : [1,2,3], 'min_samples_split' : [2,3]}"
      ],
      "metadata": {
        "id": "Fv_vu8lLZlXp"
      },
      "execution_count": null,
      "outputs": []
    },
    {
      "cell_type": "markdown",
      "source": [
        "* 주요 칼럼별 의미\n",
        " - params : 수행할 때 마다 적용된 개별 하이퍼 파라미터값\n",
        " - rank_test_score : 하이퍼 파라미터별로 성능이 좋은 score 순위\n",
        " - mean_test_score : 개별 하이퍼 파라미터별로 CV의 폴딩 테스트 세트에 대해 총 수해한 평가 평균값"
      ],
      "metadata": {
        "id": "OR4KufLvb8Kr"
      }
    },
    {
      "cell_type": "code",
      "source": [
        "import pandas as pd\n",
        "\n",
        "#param_grid의 하이퍼 파라미터를 3개의 train,test set fold로 나누어 테스트 수행 설정\n",
        "grid_dtree = GridSearchCV(dtree,param_grid = parameters, cv = 3, refit = True)\n",
        "\n",
        "#param_grid 하이퍼 파라미터를 순차적으로 학습/평가\n",
        "grid_dtree.fit(X_train, y_train)\n",
        "\n",
        "#결과를 추출해 DataFrame으로 변환\n",
        "scores_df = pd.DataFrame(grid_dtree.cv_results_)\n",
        "scores_df[['params','mean_test_score','rank_test_score','split0_test_score','split1_test_score','split2_test_score']]"
      ],
      "metadata": {
        "colab": {
          "base_uri": "https://localhost:8080/",
          "height": 237
        },
        "id": "0HaR5iO7a6rd",
        "outputId": "1d964c1d-3f4a-4946-fe08-fb44d8233df5"
      },
      "execution_count": null,
      "outputs": [
        {
          "output_type": "execute_result",
          "data": {
            "text/plain": [
              "                                     params  mean_test_score  rank_test_score  \\\n",
              "0  {'max_depth': 1, 'min_samples_split': 2}         0.700000                5   \n",
              "1  {'max_depth': 1, 'min_samples_split': 3}         0.700000                5   \n",
              "2  {'max_depth': 2, 'min_samples_split': 2}         0.958333                3   \n",
              "3  {'max_depth': 2, 'min_samples_split': 3}         0.958333                3   \n",
              "4  {'max_depth': 3, 'min_samples_split': 2}         0.975000                1   \n",
              "5  {'max_depth': 3, 'min_samples_split': 3}         0.975000                1   \n",
              "\n",
              "   split0_test_score  split1_test_score  split2_test_score  \n",
              "0              0.700                0.7               0.70  \n",
              "1              0.700                0.7               0.70  \n",
              "2              0.925                1.0               0.95  \n",
              "3              0.925                1.0               0.95  \n",
              "4              0.975                1.0               0.95  \n",
              "5              0.975                1.0               0.95  "
            ],
            "text/html": [
              "\n",
              "  <div id=\"df-82340096-1455-4f4a-9f48-bd142b1ba8dc\">\n",
              "    <div class=\"colab-df-container\">\n",
              "      <div>\n",
              "<style scoped>\n",
              "    .dataframe tbody tr th:only-of-type {\n",
              "        vertical-align: middle;\n",
              "    }\n",
              "\n",
              "    .dataframe tbody tr th {\n",
              "        vertical-align: top;\n",
              "    }\n",
              "\n",
              "    .dataframe thead th {\n",
              "        text-align: right;\n",
              "    }\n",
              "</style>\n",
              "<table border=\"1\" class=\"dataframe\">\n",
              "  <thead>\n",
              "    <tr style=\"text-align: right;\">\n",
              "      <th></th>\n",
              "      <th>params</th>\n",
              "      <th>mean_test_score</th>\n",
              "      <th>rank_test_score</th>\n",
              "      <th>split0_test_score</th>\n",
              "      <th>split1_test_score</th>\n",
              "      <th>split2_test_score</th>\n",
              "    </tr>\n",
              "  </thead>\n",
              "  <tbody>\n",
              "    <tr>\n",
              "      <th>0</th>\n",
              "      <td>{'max_depth': 1, 'min_samples_split': 2}</td>\n",
              "      <td>0.700000</td>\n",
              "      <td>5</td>\n",
              "      <td>0.700</td>\n",
              "      <td>0.7</td>\n",
              "      <td>0.70</td>\n",
              "    </tr>\n",
              "    <tr>\n",
              "      <th>1</th>\n",
              "      <td>{'max_depth': 1, 'min_samples_split': 3}</td>\n",
              "      <td>0.700000</td>\n",
              "      <td>5</td>\n",
              "      <td>0.700</td>\n",
              "      <td>0.7</td>\n",
              "      <td>0.70</td>\n",
              "    </tr>\n",
              "    <tr>\n",
              "      <th>2</th>\n",
              "      <td>{'max_depth': 2, 'min_samples_split': 2}</td>\n",
              "      <td>0.958333</td>\n",
              "      <td>3</td>\n",
              "      <td>0.925</td>\n",
              "      <td>1.0</td>\n",
              "      <td>0.95</td>\n",
              "    </tr>\n",
              "    <tr>\n",
              "      <th>3</th>\n",
              "      <td>{'max_depth': 2, 'min_samples_split': 3}</td>\n",
              "      <td>0.958333</td>\n",
              "      <td>3</td>\n",
              "      <td>0.925</td>\n",
              "      <td>1.0</td>\n",
              "      <td>0.95</td>\n",
              "    </tr>\n",
              "    <tr>\n",
              "      <th>4</th>\n",
              "      <td>{'max_depth': 3, 'min_samples_split': 2}</td>\n",
              "      <td>0.975000</td>\n",
              "      <td>1</td>\n",
              "      <td>0.975</td>\n",
              "      <td>1.0</td>\n",
              "      <td>0.95</td>\n",
              "    </tr>\n",
              "    <tr>\n",
              "      <th>5</th>\n",
              "      <td>{'max_depth': 3, 'min_samples_split': 3}</td>\n",
              "      <td>0.975000</td>\n",
              "      <td>1</td>\n",
              "      <td>0.975</td>\n",
              "      <td>1.0</td>\n",
              "      <td>0.95</td>\n",
              "    </tr>\n",
              "  </tbody>\n",
              "</table>\n",
              "</div>\n",
              "      <button class=\"colab-df-convert\" onclick=\"convertToInteractive('df-82340096-1455-4f4a-9f48-bd142b1ba8dc')\"\n",
              "              title=\"Convert this dataframe to an interactive table.\"\n",
              "              style=\"display:none;\">\n",
              "        \n",
              "  <svg xmlns=\"http://www.w3.org/2000/svg\" height=\"24px\"viewBox=\"0 0 24 24\"\n",
              "       width=\"24px\">\n",
              "    <path d=\"M0 0h24v24H0V0z\" fill=\"none\"/>\n",
              "    <path d=\"M18.56 5.44l.94 2.06.94-2.06 2.06-.94-2.06-.94-.94-2.06-.94 2.06-2.06.94zm-11 1L8.5 8.5l.94-2.06 2.06-.94-2.06-.94L8.5 2.5l-.94 2.06-2.06.94zm10 10l.94 2.06.94-2.06 2.06-.94-2.06-.94-.94-2.06-.94 2.06-2.06.94z\"/><path d=\"M17.41 7.96l-1.37-1.37c-.4-.4-.92-.59-1.43-.59-.52 0-1.04.2-1.43.59L10.3 9.45l-7.72 7.72c-.78.78-.78 2.05 0 2.83L4 21.41c.39.39.9.59 1.41.59.51 0 1.02-.2 1.41-.59l7.78-7.78 2.81-2.81c.8-.78.8-2.07 0-2.86zM5.41 20L4 18.59l7.72-7.72 1.47 1.35L5.41 20z\"/>\n",
              "  </svg>\n",
              "      </button>\n",
              "      \n",
              "  <style>\n",
              "    .colab-df-container {\n",
              "      display:flex;\n",
              "      flex-wrap:wrap;\n",
              "      gap: 12px;\n",
              "    }\n",
              "\n",
              "    .colab-df-convert {\n",
              "      background-color: #E8F0FE;\n",
              "      border: none;\n",
              "      border-radius: 50%;\n",
              "      cursor: pointer;\n",
              "      display: none;\n",
              "      fill: #1967D2;\n",
              "      height: 32px;\n",
              "      padding: 0 0 0 0;\n",
              "      width: 32px;\n",
              "    }\n",
              "\n",
              "    .colab-df-convert:hover {\n",
              "      background-color: #E2EBFA;\n",
              "      box-shadow: 0px 1px 2px rgba(60, 64, 67, 0.3), 0px 1px 3px 1px rgba(60, 64, 67, 0.15);\n",
              "      fill: #174EA6;\n",
              "    }\n",
              "\n",
              "    [theme=dark] .colab-df-convert {\n",
              "      background-color: #3B4455;\n",
              "      fill: #D2E3FC;\n",
              "    }\n",
              "\n",
              "    [theme=dark] .colab-df-convert:hover {\n",
              "      background-color: #434B5C;\n",
              "      box-shadow: 0px 1px 3px 1px rgba(0, 0, 0, 0.15);\n",
              "      filter: drop-shadow(0px 1px 2px rgba(0, 0, 0, 0.3));\n",
              "      fill: #FFFFFF;\n",
              "    }\n",
              "  </style>\n",
              "\n",
              "      <script>\n",
              "        const buttonEl =\n",
              "          document.querySelector('#df-82340096-1455-4f4a-9f48-bd142b1ba8dc button.colab-df-convert');\n",
              "        buttonEl.style.display =\n",
              "          google.colab.kernel.accessAllowed ? 'block' : 'none';\n",
              "\n",
              "        async function convertToInteractive(key) {\n",
              "          const element = document.querySelector('#df-82340096-1455-4f4a-9f48-bd142b1ba8dc');\n",
              "          const dataTable =\n",
              "            await google.colab.kernel.invokeFunction('convertToInteractive',\n",
              "                                                     [key], {});\n",
              "          if (!dataTable) return;\n",
              "\n",
              "          const docLinkHtml = 'Like what you see? Visit the ' +\n",
              "            '<a target=\"_blank\" href=https://colab.research.google.com/notebooks/data_table.ipynb>data table notebook</a>'\n",
              "            + ' to learn more about interactive tables.';\n",
              "          element.innerHTML = '';\n",
              "          dataTable['output_type'] = 'display_data';\n",
              "          await google.colab.output.renderOutput(dataTable, element);\n",
              "          const docLink = document.createElement('div');\n",
              "          docLink.innerHTML = docLinkHtml;\n",
              "          element.appendChild(docLink);\n",
              "        }\n",
              "      </script>\n",
              "    </div>\n",
              "  </div>\n",
              "  "
            ]
          },
          "metadata": {},
          "execution_count": 47
        }
      ]
    },
    {
      "cell_type": "code",
      "source": [
        "print('GridSearchCV 최적 파라미터 :', grid_dtree.best_params_)\n",
        "print('GridSerachCV 최고 정확도 : {0:.4f}'.format(grid_dtree.best_score_))"
      ],
      "metadata": {
        "colab": {
          "base_uri": "https://localhost:8080/"
        },
        "id": "m7WHgsNhc-LJ",
        "outputId": "d4d41db8-48ad-4b61-c0ca-2628613889a1"
      },
      "execution_count": null,
      "outputs": [
        {
          "output_type": "stream",
          "name": "stdout",
          "text": [
            "GridSearchCV 최적 파라미터 : {'max_depth': 3, 'min_samples_split': 2}\n",
            "GridSerachCV 최고 정확도 : 0.9750\n"
          ]
        }
      ]
    },
    {
      "cell_type": "code",
      "source": [
        "#refit으로 이미 학습된 estimator 반환\n",
        "estimator = grid_dtree.best_estimator_\n",
        "\n",
        "#best_estimator_는 이미 최적 학습이 됐으므로 별도 학습이 필요 없음\n",
        "pred = estimator.predict(X_test)\n",
        "print('테스트 데이터 세트 정확도 : {0:4f}'.format(accuracy_score(y_test,pred)))"
      ],
      "metadata": {
        "colab": {
          "base_uri": "https://localhost:8080/"
        },
        "id": "hOYp3zH6dTc8",
        "outputId": "ae60f5e8-9493-41e7-f9a2-166a9eed7062"
      },
      "execution_count": null,
      "outputs": [
        {
          "output_type": "stream",
          "name": "stdout",
          "text": [
            "테스트 데이터 세트 정확도 : 0.966667\n"
          ]
        }
      ]
    },
    {
      "cell_type": "markdown",
      "source": [
        "> ## **05 데이터 전처리**\n",
        "\n",
        "### 1. 데이터 인코딩\n",
        "\n",
        "1) **레이블 인코딩** : 카테고리 피처를 코드형 숫자 값으로 변환\n",
        "  * 숫자 값의 경우 크고 작음에 대한 특성이 작용하여 **예측 성능이 떨어지는 경우** 발생 -> **선형 회귀와 같은 ML 알고리즘 X / 트리 계열의 ML 알고리즘 O**"
      ],
      "metadata": {
        "id": "I_RXcWiXd7Mo"
      }
    },
    {
      "cell_type": "code",
      "source": [
        "from sklearn.preprocessing import LabelEncoder\n",
        "\n",
        "items = ['TV','냉장고','전자레인지','컴퓨터','선풍기','선풍기','믹서','믹서']\n",
        "\n",
        "#LabelEncoder를 객체로 생성한 후, fit()과 transform()으로 레이블 인코딩 수행\n",
        "encoder = LabelEncoder()\n",
        "encoder.fit(items)\n",
        "labels = encoder.transform(items)\n",
        "print('인코딩 변환값 : ',labels)"
      ],
      "metadata": {
        "colab": {
          "base_uri": "https://localhost:8080/"
        },
        "id": "tx62gFnZfEUK",
        "outputId": "b88921e6-399d-4da1-9dae-5b158abeb61d"
      },
      "execution_count": null,
      "outputs": [
        {
          "output_type": "stream",
          "name": "stdout",
          "text": [
            "인코딩 변환값 :  [0 1 4 5 3 3 2 2]\n"
          ]
        }
      ]
    },
    {
      "cell_type": "code",
      "source": [
        "#문자열 값이 어떤 숫자 값으로 인코딩 됐는지 확인\n",
        "print('인코딩 클래스 :',encoder.classes_)"
      ],
      "metadata": {
        "colab": {
          "base_uri": "https://localhost:8080/"
        },
        "id": "gPmd0aKzfijD",
        "outputId": "9d8b9197-75f1-4ddd-8005-7d81297a4ad7"
      },
      "execution_count": null,
      "outputs": [
        {
          "output_type": "stream",
          "name": "stdout",
          "text": [
            "인코딩 클래스 : ['TV' '냉장고' '믹서' '선풍기' '전자레인지' '컴퓨터']\n"
          ]
        }
      ]
    },
    {
      "cell_type": "code",
      "source": [
        "print('디코딩 원본값 :', encoder.inverse_transform([4,5,0,1,1,3,3]))"
      ],
      "metadata": {
        "colab": {
          "base_uri": "https://localhost:8080/"
        },
        "id": "uzLEh0ipfqpX",
        "outputId": "0a659818-6bdb-42e3-d4b0-419906977d06"
      },
      "execution_count": null,
      "outputs": [
        {
          "output_type": "stream",
          "name": "stdout",
          "text": [
            "디코딩 원본값 : ['전자레인지' '컴퓨터' 'TV' '냉장고' '냉장고' '선풍기' '선풍기']\n"
          ]
        }
      ]
    },
    {
      "cell_type": "markdown",
      "source": [
        "2) **원-핫 인코딩(One-Hot Encoding)** : 피처 값의 유형에 따라 새로운 피처를 추가해 **고유 값에 해당하는 칼럼에만 1을 표시**하고 나머지 칼럼에는 0을 표시하는 방식\n",
        "\n",
        "* 주의점 : 변환하기 전에 모든 문자열 값이 숫자형 값으로 변환돼야 하며, 입력 값으로 2차원 데이터가 필요함\n",
        "* 더 쉽게 지원하는 API `get_dummies()`"
      ],
      "metadata": {
        "id": "NuliDsIPgO8R"
      }
    },
    {
      "cell_type": "code",
      "source": [
        "from sklearn.preprocessing import OneHotEncoder\n",
        "import numpy as np\n",
        "\n",
        "iitems = ['TV','냉장고','전자레인지','컴퓨터','선풍기','선풍기','믹서','믹서']\n",
        "\n",
        "encoder = LabelEncoder()\n",
        "encoder.fit(items)\n",
        "labels = encoder.transform(items)\n",
        "\n",
        "#2차원 데이터로 변환\n",
        "labels = labels.reshape(-1,1)\n",
        "\n",
        "#원-핫 인코딩\n",
        "oh_encoder = OneHotEncoder()\n",
        "oh_encoder.fit(labels)\n",
        "oh_labels = oh_encoder.transform(labels)\n",
        "print('원 - 핫 인코딩 데이터')\n",
        "print(oh_labels.toarray())\n",
        "print('원 - 핫 인코딩 데이터 차원')\n",
        "print(oh_labels.shape)"
      ],
      "metadata": {
        "colab": {
          "base_uri": "https://localhost:8080/"
        },
        "id": "-8c2YJTxguH1",
        "outputId": "639d883d-025e-4e81-9be0-d1644dd9343e"
      },
      "execution_count": null,
      "outputs": [
        {
          "output_type": "stream",
          "name": "stdout",
          "text": [
            "원 - 핫 인코딩 데이터\n",
            "[[1. 0. 0. 0. 0. 0.]\n",
            " [0. 1. 0. 0. 0. 0.]\n",
            " [0. 0. 0. 0. 1. 0.]\n",
            " [0. 0. 0. 0. 0. 1.]\n",
            " [0. 0. 0. 1. 0. 0.]\n",
            " [0. 0. 0. 1. 0. 0.]\n",
            " [0. 0. 1. 0. 0. 0.]\n",
            " [0. 0. 1. 0. 0. 0.]]\n",
            "원 - 핫 인코딩 데이터 차원\n",
            "(8, 6)\n"
          ]
        }
      ]
    },
    {
      "cell_type": "code",
      "source": [
        "#get_dummies()\n",
        "\n",
        "df = pd.DataFrame({'items' : ['TV','냉장고','전자레인지','컴퓨터','선풍기','선풍기','믹서','믹서']})\n",
        "pd.get_dummies(df)"
      ],
      "metadata": {
        "colab": {
          "base_uri": "https://localhost:8080/",
          "height": 300
        },
        "id": "zi28nn3ohfvY",
        "outputId": "d9540587-105d-4345-e6c3-728b6e05c2af"
      },
      "execution_count": null,
      "outputs": [
        {
          "output_type": "execute_result",
          "data": {
            "text/plain": [
              "   items_TV  items_냉장고  items_믹서  items_선풍기  items_전자레인지  items_컴퓨터\n",
              "0         1          0         0          0            0          0\n",
              "1         0          1         0          0            0          0\n",
              "2         0          0         0          0            1          0\n",
              "3         0          0         0          0            0          1\n",
              "4         0          0         0          1            0          0\n",
              "5         0          0         0          1            0          0\n",
              "6         0          0         1          0            0          0\n",
              "7         0          0         1          0            0          0"
            ],
            "text/html": [
              "\n",
              "  <div id=\"df-883ba6bb-a8a1-4b2b-b7ba-6e84d0d6aebd\">\n",
              "    <div class=\"colab-df-container\">\n",
              "      <div>\n",
              "<style scoped>\n",
              "    .dataframe tbody tr th:only-of-type {\n",
              "        vertical-align: middle;\n",
              "    }\n",
              "\n",
              "    .dataframe tbody tr th {\n",
              "        vertical-align: top;\n",
              "    }\n",
              "\n",
              "    .dataframe thead th {\n",
              "        text-align: right;\n",
              "    }\n",
              "</style>\n",
              "<table border=\"1\" class=\"dataframe\">\n",
              "  <thead>\n",
              "    <tr style=\"text-align: right;\">\n",
              "      <th></th>\n",
              "      <th>items_TV</th>\n",
              "      <th>items_냉장고</th>\n",
              "      <th>items_믹서</th>\n",
              "      <th>items_선풍기</th>\n",
              "      <th>items_전자레인지</th>\n",
              "      <th>items_컴퓨터</th>\n",
              "    </tr>\n",
              "  </thead>\n",
              "  <tbody>\n",
              "    <tr>\n",
              "      <th>0</th>\n",
              "      <td>1</td>\n",
              "      <td>0</td>\n",
              "      <td>0</td>\n",
              "      <td>0</td>\n",
              "      <td>0</td>\n",
              "      <td>0</td>\n",
              "    </tr>\n",
              "    <tr>\n",
              "      <th>1</th>\n",
              "      <td>0</td>\n",
              "      <td>1</td>\n",
              "      <td>0</td>\n",
              "      <td>0</td>\n",
              "      <td>0</td>\n",
              "      <td>0</td>\n",
              "    </tr>\n",
              "    <tr>\n",
              "      <th>2</th>\n",
              "      <td>0</td>\n",
              "      <td>0</td>\n",
              "      <td>0</td>\n",
              "      <td>0</td>\n",
              "      <td>1</td>\n",
              "      <td>0</td>\n",
              "    </tr>\n",
              "    <tr>\n",
              "      <th>3</th>\n",
              "      <td>0</td>\n",
              "      <td>0</td>\n",
              "      <td>0</td>\n",
              "      <td>0</td>\n",
              "      <td>0</td>\n",
              "      <td>1</td>\n",
              "    </tr>\n",
              "    <tr>\n",
              "      <th>4</th>\n",
              "      <td>0</td>\n",
              "      <td>0</td>\n",
              "      <td>0</td>\n",
              "      <td>1</td>\n",
              "      <td>0</td>\n",
              "      <td>0</td>\n",
              "    </tr>\n",
              "    <tr>\n",
              "      <th>5</th>\n",
              "      <td>0</td>\n",
              "      <td>0</td>\n",
              "      <td>0</td>\n",
              "      <td>1</td>\n",
              "      <td>0</td>\n",
              "      <td>0</td>\n",
              "    </tr>\n",
              "    <tr>\n",
              "      <th>6</th>\n",
              "      <td>0</td>\n",
              "      <td>0</td>\n",
              "      <td>1</td>\n",
              "      <td>0</td>\n",
              "      <td>0</td>\n",
              "      <td>0</td>\n",
              "    </tr>\n",
              "    <tr>\n",
              "      <th>7</th>\n",
              "      <td>0</td>\n",
              "      <td>0</td>\n",
              "      <td>1</td>\n",
              "      <td>0</td>\n",
              "      <td>0</td>\n",
              "      <td>0</td>\n",
              "    </tr>\n",
              "  </tbody>\n",
              "</table>\n",
              "</div>\n",
              "      <button class=\"colab-df-convert\" onclick=\"convertToInteractive('df-883ba6bb-a8a1-4b2b-b7ba-6e84d0d6aebd')\"\n",
              "              title=\"Convert this dataframe to an interactive table.\"\n",
              "              style=\"display:none;\">\n",
              "        \n",
              "  <svg xmlns=\"http://www.w3.org/2000/svg\" height=\"24px\"viewBox=\"0 0 24 24\"\n",
              "       width=\"24px\">\n",
              "    <path d=\"M0 0h24v24H0V0z\" fill=\"none\"/>\n",
              "    <path d=\"M18.56 5.44l.94 2.06.94-2.06 2.06-.94-2.06-.94-.94-2.06-.94 2.06-2.06.94zm-11 1L8.5 8.5l.94-2.06 2.06-.94-2.06-.94L8.5 2.5l-.94 2.06-2.06.94zm10 10l.94 2.06.94-2.06 2.06-.94-2.06-.94-.94-2.06-.94 2.06-2.06.94z\"/><path d=\"M17.41 7.96l-1.37-1.37c-.4-.4-.92-.59-1.43-.59-.52 0-1.04.2-1.43.59L10.3 9.45l-7.72 7.72c-.78.78-.78 2.05 0 2.83L4 21.41c.39.39.9.59 1.41.59.51 0 1.02-.2 1.41-.59l7.78-7.78 2.81-2.81c.8-.78.8-2.07 0-2.86zM5.41 20L4 18.59l7.72-7.72 1.47 1.35L5.41 20z\"/>\n",
              "  </svg>\n",
              "      </button>\n",
              "      \n",
              "  <style>\n",
              "    .colab-df-container {\n",
              "      display:flex;\n",
              "      flex-wrap:wrap;\n",
              "      gap: 12px;\n",
              "    }\n",
              "\n",
              "    .colab-df-convert {\n",
              "      background-color: #E8F0FE;\n",
              "      border: none;\n",
              "      border-radius: 50%;\n",
              "      cursor: pointer;\n",
              "      display: none;\n",
              "      fill: #1967D2;\n",
              "      height: 32px;\n",
              "      padding: 0 0 0 0;\n",
              "      width: 32px;\n",
              "    }\n",
              "\n",
              "    .colab-df-convert:hover {\n",
              "      background-color: #E2EBFA;\n",
              "      box-shadow: 0px 1px 2px rgba(60, 64, 67, 0.3), 0px 1px 3px 1px rgba(60, 64, 67, 0.15);\n",
              "      fill: #174EA6;\n",
              "    }\n",
              "\n",
              "    [theme=dark] .colab-df-convert {\n",
              "      background-color: #3B4455;\n",
              "      fill: #D2E3FC;\n",
              "    }\n",
              "\n",
              "    [theme=dark] .colab-df-convert:hover {\n",
              "      background-color: #434B5C;\n",
              "      box-shadow: 0px 1px 3px 1px rgba(0, 0, 0, 0.15);\n",
              "      filter: drop-shadow(0px 1px 2px rgba(0, 0, 0, 0.3));\n",
              "      fill: #FFFFFF;\n",
              "    }\n",
              "  </style>\n",
              "\n",
              "      <script>\n",
              "        const buttonEl =\n",
              "          document.querySelector('#df-883ba6bb-a8a1-4b2b-b7ba-6e84d0d6aebd button.colab-df-convert');\n",
              "        buttonEl.style.display =\n",
              "          google.colab.kernel.accessAllowed ? 'block' : 'none';\n",
              "\n",
              "        async function convertToInteractive(key) {\n",
              "          const element = document.querySelector('#df-883ba6bb-a8a1-4b2b-b7ba-6e84d0d6aebd');\n",
              "          const dataTable =\n",
              "            await google.colab.kernel.invokeFunction('convertToInteractive',\n",
              "                                                     [key], {});\n",
              "          if (!dataTable) return;\n",
              "\n",
              "          const docLinkHtml = 'Like what you see? Visit the ' +\n",
              "            '<a target=\"_blank\" href=https://colab.research.google.com/notebooks/data_table.ipynb>data table notebook</a>'\n",
              "            + ' to learn more about interactive tables.';\n",
              "          element.innerHTML = '';\n",
              "          dataTable['output_type'] = 'display_data';\n",
              "          await google.colab.output.renderOutput(dataTable, element);\n",
              "          const docLink = document.createElement('div');\n",
              "          docLink.innerHTML = docLinkHtml;\n",
              "          element.appendChild(docLink);\n",
              "        }\n",
              "      </script>\n",
              "    </div>\n",
              "  </div>\n",
              "  "
            ]
          },
          "metadata": {},
          "execution_count": 59
        }
      ]
    },
    {
      "cell_type": "markdown",
      "source": [
        "### 2. 피처 스케일링과 정규화\n",
        "\n",
        "\n",
        "1)  **피처 스케일링** : 서로 다른 변수의 값 범위를 일정한 수준으로 맞추는 작업\n",
        "* 표준화 : 데이터의 피처 각각이 **평균이 0이고 분산이 1**인 가우시안 정규 분포를 가진 값으로 변환\n",
        "\n",
        "![파일_000.png](data:image/png;base64,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)\n",
        "* 정규화 : 서로 다른 피처의 **크기를 통일**하기 위해 크기를 변환주는 개념\n",
        "\n",
        "![파일_001.png](data:image/png;base64,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)\n",
        "\n"
      ],
      "metadata": {
        "id": "Q_5o5UPzxQCP"
      }
    },
    {
      "cell_type": "markdown",
      "source": [
        "### 2. StandardScaler : 표준화를 쉽게 지원하기 위한 클래스\n"
      ],
      "metadata": {
        "id": "DF3eenfCxibq"
      }
    },
    {
      "cell_type": "code",
      "source": [
        "from sklearn.datasets import load_iris\n",
        "import pandas as pd\n",
        "\n",
        "#데이터 세트 로딩 후 데이터프레임으로 변환\n",
        "iris = load_iris()\n",
        "iris_data = iris.data\n",
        "iris_df = pd.DataFrame(data=iris_data,columns = iris.feature_names)\n",
        "\n",
        "print('feature 들의 평균 값')\n",
        "print(iris_df.mean())\n",
        "print('\\nfeature 들의 분산 값')\n",
        "print(iris_df.var())"
      ],
      "metadata": {
        "colab": {
          "base_uri": "https://localhost:8080/"
        },
        "id": "Zav5n1AuxveY",
        "outputId": "d7f5248e-d532-4834-a5be-120275360a5c"
      },
      "execution_count": 60,
      "outputs": [
        {
          "output_type": "stream",
          "name": "stdout",
          "text": [
            "feature 들의 평균 값\n",
            "sepal length (cm)    5.843333\n",
            "sepal width (cm)     3.057333\n",
            "petal length (cm)    3.758000\n",
            "petal width (cm)     1.199333\n",
            "dtype: float64\n",
            "\n",
            "feature 들의 분산 값\n",
            "sepal length (cm)    0.685694\n",
            "sepal width (cm)     0.189979\n",
            "petal length (cm)    3.116278\n",
            "petal width (cm)     0.581006\n",
            "dtype: float64\n"
          ]
        }
      ]
    },
    {
      "cell_type": "code",
      "source": [
        "from sklearn.preprocessing import StandardScaler\n",
        "\n",
        "#StandardSclaer 작성\n",
        "scaler = StandardScaler()\n",
        "#데이터 세트 변환 / fit과 transform 호출\n",
        "scaler.fit(iris_df)\n",
        "iris_scaled = scaler.transform(iris_df)\n",
        "\n",
        "#데이터 프레임으로 변환\n",
        "iris_df_scaled = pd.DataFrame(data=iris_scaled, columns = iris.feature_names)\n",
        "print('feature 들의 평균 값')\n",
        "print(iris_df_scaled.mean())\n",
        "print('\\n feature 들의 분산 값')\n",
        "print(iris_df_scaled.var())"
      ],
      "metadata": {
        "colab": {
          "base_uri": "https://localhost:8080/"
        },
        "id": "_YRtvgnXyWmk",
        "outputId": "40138366-31df-4d76-a4a7-0edbd4ed83f6"
      },
      "execution_count": 63,
      "outputs": [
        {
          "output_type": "stream",
          "name": "stdout",
          "text": [
            "feature 들의 평균 값\n",
            "sepal length (cm)   -1.690315e-15\n",
            "sepal width (cm)    -1.842970e-15\n",
            "petal length (cm)   -1.698641e-15\n",
            "petal width (cm)    -1.409243e-15\n",
            "dtype: float64\n",
            "\n",
            " feature 들의 분산 값\n",
            "sepal length (cm)    1.006711\n",
            "sepal width (cm)     1.006711\n",
            "petal length (cm)    1.006711\n",
            "petal width (cm)     1.006711\n",
            "dtype: float64\n"
          ]
        }
      ]
    },
    {
      "cell_type": "markdown",
      "source": [
        "### 3. MinMaxScaler\n",
        ": 데이터 값을 0과 1사이의 범위 값으로 변환 (음수 값이 있으면 -1 ~ 1)"
      ],
      "metadata": {
        "id": "ca_wNW4gzIWB"
      }
    },
    {
      "cell_type": "code",
      "source": [
        "from sklearn.preprocessing import MinMaxScaler\n",
        "\n",
        "#MinMaxScaler 객체 생성\n",
        "scaler = MinMaxScaler ()\n",
        "#MinMaxScaler로 데이터 세트 변환. fit과 transform 호출\n",
        "scaler.fit(iris_df)\n",
        "iris_scaled = scaler.transform(iris_df)\n",
        "\n",
        "# 데이터 프레임으로 변환\n",
        "iris_df_scaled = pd.DataFrame(data=iris_scaled, columns = iris.feature_names)\n",
        "print('feature들의 최솟값')\n",
        "print(iris_df_scaled.min())\n",
        "print('\\nfeature들의 최댓값')\n",
        "print(iris_df_scaled.max())"
      ],
      "metadata": {
        "colab": {
          "base_uri": "https://localhost:8080/"
        },
        "id": "9S8yD56szShW",
        "outputId": "1ac78390-7997-4191-8588-b633e48415f7"
      },
      "execution_count": 68,
      "outputs": [
        {
          "output_type": "stream",
          "name": "stdout",
          "text": [
            "feature들의 최솟값\n",
            "sepal length (cm)    0.0\n",
            "sepal width (cm)     0.0\n",
            "petal length (cm)    0.0\n",
            "petal width (cm)     0.0\n",
            "dtype: float64\n",
            "\n",
            "feature들의 최댓값\n",
            "sepal length (cm)    1.0\n",
            "sepal width (cm)     1.0\n",
            "petal length (cm)    1.0\n",
            "petal width (cm)     1.0\n",
            "dtype: float64\n"
          ]
        }
      ]
    },
    {
      "cell_type": "markdown",
      "source": [
        "### 4. 학습데이터와 테스트 데이터의 스케일링 변환 시 유의점\n",
        "\n",
        "* 학습 데이터로 fit()이 적용된 **스케일링 기준 정보를 그대로** 테스트 데이터에 적용해야 함.\n",
        "* 테스트 데이터에 fit을 적용해서는 안 되며 **학습 데이터로 이미 fit이 적용된 Scaler 객체**를 이용해 transform으로 변환\n",
        "\n",
        "1) `fit_transform()` | fit과 transform을 순차적으로 수행하는 메소드이므로 ***테스트 데이터에서는 절대 사용해서는 안됨***\n",
        "\n",
        "**<요약>**\n",
        "1. 가능하다면 전체 데이터의 스케일링 변환을 적용한 뒤 학습과 테스트 데이터로 분리\n",
        "2. 1이 여의치 않다면 테스트 데이터 변환 시에는 fit이나 fit_tansform을 적용하지 않고 학습 데이터로 이미 fit된 Sclaer 객체를 이용해 transform으로 변환"
      ],
      "metadata": {
        "id": "kAfGUREl1ww6"
      }
    },
    {
      "cell_type": "code",
      "source": [
        "from sklearn.preprocessing import MinMaxScaler\n",
        "import numpy as np\n",
        "\n",
        "#학습 데이터는 [0,10], 테스트 데이터는 [0,5]\n",
        "#Scaler 클래스의 fit(), transform()은 2차원 이상 데이터만 가능\n",
        "train_array = np.arange(0,11).reshape(-1,1)\n",
        "test_array = np.arange(0,6).reshape(-1,1)"
      ],
      "metadata": {
        "id": "EDrMB1gI2HcW"
      },
      "execution_count": 70,
      "outputs": []
    },
    {
      "cell_type": "code",
      "source": [
        "scaler = MinMaxScaler()\n",
        "\n",
        "#fit하게 되면 train_array데이터의 최솟값이 0, 최댓값이 10으로 설정\n",
        "scaler.fit(train_array)\n",
        "\n",
        "#1/10 scale로 데이터 변환. 원본 10->1로 변환\n",
        "train_scaled = scaler.transform(train_array)\n",
        "\n",
        "print('원본 train_array 데이터:', np.round(train_array.reshape(-1),2))\n",
        "print('Scale된 train_array 데이터 :', np.round(train_scaled.reshape(-1),2))"
      ],
      "metadata": {
        "colab": {
          "base_uri": "https://localhost:8080/"
        },
        "id": "vDwpZ4sv2jec",
        "outputId": "862723cd-ef3b-41ab-f861-34080dc6022d"
      },
      "execution_count": 72,
      "outputs": [
        {
          "output_type": "stream",
          "name": "stdout",
          "text": [
            "원본 train_array 데이터: [ 0  1  2  3  4  5  6  7  8  9 10]\n",
            "Scale된 train_array 데이터 : [0.  0.1 0.2 0.3 0.4 0.5 0.6 0.7 0.8 0.9 1. ]\n"
          ]
        }
      ]
    },
    {
      "cell_type": "code",
      "source": [
        "scaler.fit(test_array)\n",
        "\n",
        "#1/5scale로 데이터 변환. 원본 5->1로 변환\n",
        "test_scaled = scaler.transform(test_array)\n",
        "\n",
        "print('원본 test_array 데이터 :',np.round(test_array.reshape(-1),2))\n",
        "print('Scale된 test_array 데이터 :',np.round(test_scaled.reshape(-1),2))"
      ],
      "metadata": {
        "colab": {
          "base_uri": "https://localhost:8080/"
        },
        "id": "EVht-vj-3GL7",
        "outputId": "a5f7891b-9741-4eaf-bc03-a06ad13f5ffe"
      },
      "execution_count": 74,
      "outputs": [
        {
          "output_type": "stream",
          "name": "stdout",
          "text": [
            "원본 test_array 데이터 : [0 1 2 3 4 5]\n",
            "Scale된 test_array 데이터 : [0.  0.2 0.4 0.6 0.8 1. ]\n"
          ]
        }
      ]
    },
    {
      "cell_type": "code",
      "source": [
        "#학습 데이터로 fit 수행\n",
        "scaler = MinMaxScaler()\n",
        "scaler.fit(train_array)\n",
        "tran_scaled = scaler.transform(train_array)\n",
        "print('원본 train_array 데이터:', np.round(train_array.reshape(-1),2))\n",
        "print('Scale된 train_array 데이터 :', np.round(train_scaled.reshape(-1),2))\n",
        "\n",
        "#test_array에는 transform만으로 변환해야 함\n",
        "test_scaled = scaler.transform(test_array)\n",
        "print('\\n원본 test_array 데이터 :', np.round(test_array.reshape(-1),2))\n",
        "print('Scale된 test_array 데이터 :', np.round(test_scaled.reshape(-1),2))"
      ],
      "metadata": {
        "colab": {
          "base_uri": "https://localhost:8080/"
        },
        "id": "wp2lDtyi307z",
        "outputId": "1d55fd55-0397-4b01-b068-ce000f1a7d78"
      },
      "execution_count": 75,
      "outputs": [
        {
          "output_type": "stream",
          "name": "stdout",
          "text": [
            "원본 train_array 데이터: [ 0  1  2  3  4  5  6  7  8  9 10]\n",
            "Scale된 train_array 데이터 : [0.  0.1 0.2 0.3 0.4 0.5 0.6 0.7 0.8 0.9 1. ]\n",
            "\n",
            "원본 test_array 데이터 : [0 1 2 3 4 5]\n",
            "Scale된 test_array 데이터 : [0.  0.1 0.2 0.3 0.4 0.5]\n"
          ]
        }
      ]
    }
  ]
}