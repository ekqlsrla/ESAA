{
  "nbformat": 4,
  "nbformat_minor": 0,
  "metadata": {
    "colab": {
      "name": "0408_time_series.ipynb",
      "provenance": [],
      "collapsed_sections": [],
      "mount_file_id": "15qh03aEOns4ThspmH_s-Ny9TFhsw-I9R",
      "authorship_tag": "ABX9TyPZRAMjflkg7QRN+bddHtdm",
      "include_colab_link": true
    },
    "kernelspec": {
      "name": "python3",
      "display_name": "Python 3"
    },
    "language_info": {
      "name": "python"
    }
  },
  "cells": [
    {
      "cell_type": "markdown",
      "metadata": {
        "id": "view-in-github",
        "colab_type": "text"
      },
      "source": [
        "<a href=\"https://colab.research.google.com/github/ekqlsrla/ESAA/blob/main/HW/0408_time_series.ipynb\" target=\"_parent\"><img src=\"https://colab.research.google.com/assets/colab-badge.svg\" alt=\"Open In Colab\"/></a>"
      ]
    },
    {
      "cell_type": "markdown",
      "source": [
        "# **[두잇 판다스 입문]**\n",
        "> ## **12장 시계열 데이터**\n",
        "\n",
        "### 1. datetime 오브젝트\n",
        "\n",
        ": 날짜와 시간을 처리하는 등의 기능을 제공하는 파이썬 라이브러리\n",
        "\n",
        "* datetime 오브젝트 사용하기\n",
        "\n",
        "1) `now` 메서드는 **밀리초** 단위까지 구함"
      ],
      "metadata": {
        "id": "2J7a_gIXr5SE"
      }
    },
    {
      "cell_type": "code",
      "execution_count": 1,
      "metadata": {
        "id": "T2NOApfIq5xY"
      },
      "outputs": [],
      "source": [
        "#datetime 라이브러리 불러오기\n",
        " \n",
        "from datetime import datetime"
      ]
    },
    {
      "cell_type": "code",
      "source": [
        "#현재 시간 출력\n",
        "\n",
        "now1 = datetime.now()\n",
        "print(now1)\n",
        "\n",
        "now2 = datetime.today()\n",
        "print(now2)"
      ],
      "metadata": {
        "colab": {
          "base_uri": "https://localhost:8080/"
        },
        "id": "T9l5rZ1_se2Y",
        "outputId": "261c322e-db5b-4b49-e77c-17d952a6392a"
      },
      "execution_count": 2,
      "outputs": [
        {
          "output_type": "stream",
          "name": "stdout",
          "text": [
            "2022-04-09 06:02:28.486700\n",
            "2022-04-09 06:02:28.488048\n"
          ]
        }
      ]
    },
    {
      "cell_type": "code",
      "source": [
        "t1 = datetime.now()\n",
        "t2 = datetime(1970,1,1)\n",
        "t3 = datetime(1970,12,12,13,24,34)\n",
        "\n",
        "print(t1)\n",
        "print(t2)\n",
        "print(t3)"
      ],
      "metadata": {
        "colab": {
          "base_uri": "https://localhost:8080/"
        },
        "id": "_As4bO5FsoLm",
        "outputId": "67a4bbb7-836e-4f06-ab32-7de101b425af"
      },
      "execution_count": 3,
      "outputs": [
        {
          "output_type": "stream",
          "name": "stdout",
          "text": [
            "2022-04-09 06:02:28.502069\n",
            "1970-01-01 00:00:00\n",
            "1970-12-12 13:24:34\n"
          ]
        }
      ]
    },
    {
      "cell_type": "markdown",
      "source": [
        "* 테슬라 주식 데이터로 시간 계산하기\n",
        "\n"
      ],
      "metadata": {
        "id": "I3nN8GcctHls"
      }
    },
    {
      "cell_type": "code",
      "source": [
        "pip install pandas_datareader"
      ],
      "metadata": {
        "colab": {
          "base_uri": "https://localhost:8080/"
        },
        "id": "z-ohQsgNtLLu",
        "outputId": "797fc7c9-2afc-4ec8-e49e-98fea343e2aa"
      },
      "execution_count": 4,
      "outputs": [
        {
          "output_type": "stream",
          "name": "stdout",
          "text": [
            "Requirement already satisfied: pandas_datareader in /usr/local/lib/python3.7/dist-packages (0.9.0)\n",
            "Requirement already satisfied: lxml in /usr/local/lib/python3.7/dist-packages (from pandas_datareader) (4.2.6)\n",
            "Requirement already satisfied: pandas>=0.23 in /usr/local/lib/python3.7/dist-packages (from pandas_datareader) (1.3.5)\n",
            "Requirement already satisfied: requests>=2.19.0 in /usr/local/lib/python3.7/dist-packages (from pandas_datareader) (2.23.0)\n",
            "Requirement already satisfied: pytz>=2017.3 in /usr/local/lib/python3.7/dist-packages (from pandas>=0.23->pandas_datareader) (2018.9)\n",
            "Requirement already satisfied: numpy>=1.17.3 in /usr/local/lib/python3.7/dist-packages (from pandas>=0.23->pandas_datareader) (1.21.5)\n",
            "Requirement already satisfied: python-dateutil>=2.7.3 in /usr/local/lib/python3.7/dist-packages (from pandas>=0.23->pandas_datareader) (2.8.2)\n",
            "Requirement already satisfied: six>=1.5 in /usr/local/lib/python3.7/dist-packages (from python-dateutil>=2.7.3->pandas>=0.23->pandas_datareader) (1.15.0)\n",
            "Requirement already satisfied: urllib3!=1.25.0,!=1.25.1,<1.26,>=1.21.1 in /usr/local/lib/python3.7/dist-packages (from requests>=2.19.0->pandas_datareader) (1.24.3)\n",
            "Requirement already satisfied: idna<3,>=2.5 in /usr/local/lib/python3.7/dist-packages (from requests>=2.19.0->pandas_datareader) (2.10)\n",
            "Requirement already satisfied: certifi>=2017.4.17 in /usr/local/lib/python3.7/dist-packages (from requests>=2.19.0->pandas_datareader) (2021.10.8)\n",
            "Requirement already satisfied: chardet<4,>=3.0.2 in /usr/local/lib/python3.7/dist-packages (from requests>=2.19.0->pandas_datareader) (3.0.4)\n"
          ]
        }
      ]
    },
    {
      "cell_type": "code",
      "source": [
        "import pandas as pd\n",
        "pd.core.common.is_list_like = pd.api.types.is_list_like\n",
        "import pandas_datareader as pdr\n",
        "\n",
        "tesla = pdr.get_data_quandl('TSLA',api_key = 'S-jSRjsvCTsZxoZfpJr2')\n",
        "\n",
        "tesla.to_csv('/content/drive/MyDrive/DATA/tesla_stock_quandl.csv')"
      ],
      "metadata": {
        "id": "mEan8aWWtP_O"
      },
      "execution_count": 5,
      "outputs": []
    },
    {
      "cell_type": "code",
      "source": [
        "print(tesla.head())"
      ],
      "metadata": {
        "colab": {
          "base_uri": "https://localhost:8080/"
        },
        "id": "z6cqsagGvZ1m",
        "outputId": "8ba91fe1-0f31-40b8-a731-579e75d93a8a"
      },
      "execution_count": 6,
      "outputs": [
        {
          "output_type": "stream",
          "name": "stdout",
          "text": [
            "              Open    High     Low   Close      Volume  ExDividend  \\\n",
            "Date                                                                 \n",
            "2018-03-27  304.00  304.27  277.18  279.18  13696168.0         0.0   \n",
            "2018-03-26  307.34  307.59  291.36  304.18   8324639.0         0.0   \n",
            "2018-03-23  311.25  311.61  300.45  301.54   6600538.0         0.0   \n",
            "2018-03-22  313.89  318.82  308.18  309.10   4914307.0         0.0   \n",
            "2018-03-21  310.25  322.44  310.19  316.53   5927881.0         0.0   \n",
            "\n",
            "            SplitRatio  AdjOpen  AdjHigh  AdjLow  AdjClose   AdjVolume  \n",
            "Date                                                                    \n",
            "2018-03-27         1.0   304.00   304.27  277.18    279.18  13696168.0  \n",
            "2018-03-26         1.0   307.34   307.59  291.36    304.18   8324639.0  \n",
            "2018-03-23         1.0   311.25   311.61  300.45    301.54   6600538.0  \n",
            "2018-03-22         1.0   313.89   318.82  308.18    309.10   4914307.0  \n",
            "2018-03-21         1.0   310.25   322.44  310.19    316.53   5927881.0  \n"
          ]
        }
      ]
    },
    {
      "cell_type": "code",
      "source": [
        "#Date 열을 Datetime형으로 변환하기\n",
        "\n",
        "tesla = pd.read_csv('/content/drive/MyDrive/DATA/tesla_stock_quandl.csv',parse_dates=[0])\n",
        "print(tesla.info())"
      ],
      "metadata": {
        "colab": {
          "base_uri": "https://localhost:8080/"
        },
        "id": "iek3oTFmveHp",
        "outputId": "686bd97b-9ce1-4545-fd95-524852cb595a"
      },
      "execution_count": 7,
      "outputs": [
        {
          "output_type": "stream",
          "name": "stdout",
          "text": [
            "<class 'pandas.core.frame.DataFrame'>\n",
            "RangeIndex: 242 entries, 0 to 241\n",
            "Data columns (total 13 columns):\n",
            " #   Column      Non-Null Count  Dtype         \n",
            "---  ------      --------------  -----         \n",
            " 0   Date        242 non-null    datetime64[ns]\n",
            " 1   Open        242 non-null    float64       \n",
            " 2   High        242 non-null    float64       \n",
            " 3   Low         242 non-null    float64       \n",
            " 4   Close       242 non-null    float64       \n",
            " 5   Volume      242 non-null    float64       \n",
            " 6   ExDividend  242 non-null    float64       \n",
            " 7   SplitRatio  242 non-null    float64       \n",
            " 8   AdjOpen     242 non-null    float64       \n",
            " 9   AdjHigh     242 non-null    float64       \n",
            " 10  AdjLow      242 non-null    float64       \n",
            " 11  AdjClose    242 non-null    float64       \n",
            " 12  AdjVolume   242 non-null    float64       \n",
            "dtypes: datetime64[ns](1), float64(12)\n",
            "memory usage: 24.7 KB\n",
            "None\n"
          ]
        }
      ]
    },
    {
      "cell_type": "markdown",
      "source": [
        "## 2. datetime 오브젝트와 인덱스 - DatetimeIndex\n",
        "\n",
        "* datetime 오브젝트를 인덱스로 설정해 데이터 추출하기"
      ],
      "metadata": {
        "id": "0BxcgKGAwXLm"
      }
    },
    {
      "cell_type": "code",
      "source": [
        "tesla.index = tesla['Date']\n",
        "print(tesla.index)"
      ],
      "metadata": {
        "colab": {
          "base_uri": "https://localhost:8080/"
        },
        "id": "OCNgK13zwfBS",
        "outputId": "1a2deea7-679c-44ae-857a-e6f6e2450903"
      },
      "execution_count": 8,
      "outputs": [
        {
          "output_type": "stream",
          "name": "stdout",
          "text": [
            "DatetimeIndex(['2018-03-27', '2018-03-26', '2018-03-23', '2018-03-22',\n",
            "               '2018-03-21', '2018-03-20', '2018-03-19', '2018-03-16',\n",
            "               '2018-03-15', '2018-03-14',\n",
            "               ...\n",
            "               '2017-04-24', '2017-04-21', '2017-04-20', '2017-04-19',\n",
            "               '2017-04-18', '2017-04-17', '2017-04-13', '2017-04-12',\n",
            "               '2017-04-11', '2017-04-10'],\n",
            "              dtype='datetime64[ns]', name='Date', length=242, freq=None)\n"
          ]
        }
      ]
    },
    {
      "cell_type": "code",
      "source": [
        "#2015년 데이터 추출\n",
        "print(tesla['2015'].iloc[:5,:5])"
      ],
      "metadata": {
        "colab": {
          "base_uri": "https://localhost:8080/"
        },
        "id": "uEidmcLUwk95",
        "outputId": "802f6731-de1a-4522-f0a1-d093e01bb1a5"
      },
      "execution_count": 9,
      "outputs": [
        {
          "output_type": "stream",
          "name": "stdout",
          "text": [
            "Empty DataFrame\n",
            "Columns: [Date, Open, High, Low, Close]\n",
            "Index: []\n"
          ]
        },
        {
          "output_type": "stream",
          "name": "stderr",
          "text": [
            "/usr/local/lib/python3.7/dist-packages/ipykernel_launcher.py:2: FutureWarning: Indexing a DataFrame with a datetimelike index using a single string to slice the rows, like `frame[string]`, is deprecated and will be removed in a future version. Use `frame.loc[string]` instead.\n",
            "  \n"
          ]
        }
      ]
    },
    {
      "cell_type": "code",
      "source": [
        "#2010년 6월 데이터 추출\n",
        "print(tesla['2010-06'].iloc[:,:5])"
      ],
      "metadata": {
        "colab": {
          "base_uri": "https://localhost:8080/"
        },
        "id": "iMDVWYTjyH3K",
        "outputId": "970b571e-876d-45ae-e956-ebc0b57b699f"
      },
      "execution_count": 10,
      "outputs": [
        {
          "output_type": "stream",
          "name": "stdout",
          "text": [
            "Empty DataFrame\n",
            "Columns: [Date, Open, High, Low, Close]\n",
            "Index: []\n"
          ]
        },
        {
          "output_type": "stream",
          "name": "stderr",
          "text": [
            "/usr/local/lib/python3.7/dist-packages/ipykernel_launcher.py:2: FutureWarning: Indexing a DataFrame with a datetimelike index using a single string to slice the rows, like `frame[string]`, is deprecated and will be removed in a future version. Use `frame.loc[string]` instead.\n",
            "  \n"
          ]
        }
      ]
    },
    {
      "cell_type": "markdown",
      "source": [
        "## 3. 시간 간격과 인덱스 - TimedeltaIndex\n",
        "\n",
        "* 시간 간격을 인덱스로 지정해 데이터 추출하기"
      ],
      "metadata": {
        "id": "ZSN0tL_MyVre"
      }
    },
    {
      "cell_type": "code",
      "source": [
        "tesla['ref_date'] = tesla['Date'] - tesla['Date'].min()\n",
        "\n",
        "print(tesla.head())"
      ],
      "metadata": {
        "colab": {
          "base_uri": "https://localhost:8080/"
        },
        "id": "M9xFRq1hyUlS",
        "outputId": "f17f8d88-a324-4ca7-e7e0-c079a4c85cbb"
      },
      "execution_count": 11,
      "outputs": [
        {
          "output_type": "stream",
          "name": "stdout",
          "text": [
            "                 Date    Open    High     Low   Close      Volume  ExDividend  \\\n",
            "Date                                                                            \n",
            "2018-03-27 2018-03-27  304.00  304.27  277.18  279.18  13696168.0         0.0   \n",
            "2018-03-26 2018-03-26  307.34  307.59  291.36  304.18   8324639.0         0.0   \n",
            "2018-03-23 2018-03-23  311.25  311.61  300.45  301.54   6600538.0         0.0   \n",
            "2018-03-22 2018-03-22  313.89  318.82  308.18  309.10   4914307.0         0.0   \n",
            "2018-03-21 2018-03-21  310.25  322.44  310.19  316.53   5927881.0         0.0   \n",
            "\n",
            "            SplitRatio  AdjOpen  AdjHigh  AdjLow  AdjClose   AdjVolume  \\\n",
            "Date                                                                     \n",
            "2018-03-27         1.0   304.00   304.27  277.18    279.18  13696168.0   \n",
            "2018-03-26         1.0   307.34   307.59  291.36    304.18   8324639.0   \n",
            "2018-03-23         1.0   311.25   311.61  300.45    301.54   6600538.0   \n",
            "2018-03-22         1.0   313.89   318.82  308.18    309.10   4914307.0   \n",
            "2018-03-21         1.0   310.25   322.44  310.19    316.53   5927881.0   \n",
            "\n",
            "           ref_date  \n",
            "Date                 \n",
            "2018-03-27 351 days  \n",
            "2018-03-26 350 days  \n",
            "2018-03-23 347 days  \n",
            "2018-03-22 346 days  \n",
            "2018-03-21 345 days  \n"
          ]
        }
      ]
    },
    {
      "cell_type": "code",
      "source": [
        "#ref_date열을 인덱스로 지정\n",
        "\n",
        "tesla.index = tesla['ref_date']\n",
        "print(tesla.iloc[:5,:5])"
      ],
      "metadata": {
        "colab": {
          "base_uri": "https://localhost:8080/"
        },
        "id": "t4Yehnia_wpr",
        "outputId": "df11b492-9085-4728-ad52-f978b3c34157"
      },
      "execution_count": 22,
      "outputs": [
        {
          "output_type": "stream",
          "name": "stdout",
          "text": [
            "               Date    Open    High     Low   Close\n",
            "ref_date                                           \n",
            "351 days 2018-03-27  304.00  304.27  277.18  279.18\n",
            "350 days 2018-03-26  307.34  307.59  291.36  304.18\n",
            "347 days 2018-03-23  311.25  311.61  300.45  301.54\n",
            "346 days 2018-03-22  313.89  318.82  308.18  309.10\n",
            "345 days 2018-03-21  310.25  322.44  310.19  316.53\n"
          ]
        }
      ]
    },
    {
      "cell_type": "code",
      "source": [
        "#데이터를 수집한 이후 최초 5일의 데이터\n",
        "\n",
        "print(tesla['5 days':].iloc[ : 5, : 5])"
      ],
      "metadata": {
        "colab": {
          "base_uri": "https://localhost:8080/"
        },
        "id": "omB3kvqcyqcH",
        "outputId": "2105e4a1-2ae8-4ad3-df26-baa5ea032896"
      },
      "execution_count": 23,
      "outputs": [
        {
          "output_type": "stream",
          "name": "stdout",
          "text": [
            "               Date    Open      High     Low   Close\n",
            "ref_date                                             \n",
            "3 days   2017-04-13  296.70  307.3900  295.30  304.00\n",
            "2 days   2017-04-12  306.34  308.4481  296.32  296.84\n",
            "1 days   2017-04-11  313.38  313.4700  305.50  308.71\n",
            "0 days   2017-04-10  309.15  313.7299  308.71  312.39\n"
          ]
        }
      ]
    },
    {
      "cell_type": "markdown",
      "source": [
        "## 4. 시간 범위와 인덱스\n",
        "\n",
        "* 시간 범위 생성해 인덱스로 지정하기"
      ],
      "metadata": {
        "id": "hFCF2Za9zq8-"
      }
    },
    {
      "cell_type": "code",
      "source": [
        "import pandas as pd\n",
        "import os\n",
        "\n",
        "ebola = pd.read_csv('/content/drive/MyDrive/DATA/country_timeseries.csv',parse_dates=[0])"
      ],
      "metadata": {
        "id": "0XKXhnRgzkTp"
      },
      "execution_count": 16,
      "outputs": []
    },
    {
      "cell_type": "code",
      "source": [
        "print(ebola.iloc[:5,:5])"
      ],
      "metadata": {
        "colab": {
          "base_uri": "https://localhost:8080/"
        },
        "id": "a7_VUF4J8N0X",
        "outputId": "d36d972e-730a-4940-918f-de2d5bef0579"
      },
      "execution_count": 17,
      "outputs": [
        {
          "output_type": "stream",
          "name": "stdout",
          "text": [
            "        Date  Day  Cases_Guinea  Cases_Liberia  Cases_SierraLeone\n",
            "0 2015-01-05  289        2776.0            NaN            10030.0\n",
            "1 2015-01-04  288        2775.0            NaN             9780.0\n",
            "2 2015-01-03  287        2769.0         8166.0             9722.0\n",
            "3 2015-01-02  286           NaN         8157.0                NaN\n",
            "4 2014-12-31  284        2730.0         8115.0             9633.0\n"
          ]
        }
      ]
    },
    {
      "cell_type": "code",
      "source": [
        "#데이터 살펴보기\n",
        "print(ebola.iloc[-5:,:5])"
      ],
      "metadata": {
        "colab": {
          "base_uri": "https://localhost:8080/"
        },
        "id": "QB-jV0Cf8TZn",
        "outputId": "1c227844-491b-4a33-a554-af1a5f61ec11"
      },
      "execution_count": 18,
      "outputs": [
        {
          "output_type": "stream",
          "name": "stdout",
          "text": [
            "          Date  Day  Cases_Guinea  Cases_Liberia  Cases_SierraLeone\n",
            "117 2014-03-27    5         103.0            8.0                6.0\n",
            "118 2014-03-26    4          86.0            NaN                NaN\n",
            "119 2014-03-25    3          86.0            NaN                NaN\n",
            "120 2014-03-24    2          86.0            NaN                NaN\n",
            "121 2014-03-22    0          49.0            NaN                NaN\n"
          ]
        }
      ]
    },
    {
      "cell_type": "code",
      "source": [
        "#2014년 12월 31일부터 2015년 01월 05일 사이의 시간 인덱스 생성\n",
        "head_range = pd.date_range(start='2014-12-31',end='2015-01-05')\n",
        "print(head_range)\n"
      ],
      "metadata": {
        "colab": {
          "base_uri": "https://localhost:8080/"
        },
        "id": "_mjGPR8P8ZrN",
        "outputId": "51828c97-4572-412d-989f-3be70e559305"
      },
      "execution_count": 19,
      "outputs": [
        {
          "output_type": "stream",
          "name": "stdout",
          "text": [
            "DatetimeIndex(['2014-12-31', '2015-01-01', '2015-01-02', '2015-01-03',\n",
            "               '2015-01-04', '2015-01-05'],\n",
            "              dtype='datetime64[ns]', freq='D')\n"
          ]
        }
      ]
    },
    {
      "cell_type": "code",
      "source": [
        "#새로운 데이터 프레임 만들기\n",
        "\n",
        "ebola_5 = ebola.head()\n",
        "ebola_5.index = ebola_5['Date']\n",
        "ebola_5.reindex(head_range)\n",
        "print(ebola_5.iloc[:5,:5])"
      ],
      "metadata": {
        "colab": {
          "base_uri": "https://localhost:8080/"
        },
        "id": "Osv-SDEd8mzk",
        "outputId": "a5b69dfa-0a13-41e0-fb20-c92928c2368c"
      },
      "execution_count": 20,
      "outputs": [
        {
          "output_type": "stream",
          "name": "stdout",
          "text": [
            "                 Date  Day  Cases_Guinea  Cases_Liberia  Cases_SierraLeone\n",
            "Date                                                                      \n",
            "2015-01-05 2015-01-05  289        2776.0            NaN            10030.0\n",
            "2015-01-04 2015-01-04  288        2775.0            NaN             9780.0\n",
            "2015-01-03 2015-01-03  287        2769.0         8166.0             9722.0\n",
            "2015-01-02 2015-01-02  286           NaN         8157.0                NaN\n",
            "2014-12-31 2014-12-31  284        2730.0         8115.0             9633.0\n"
          ]
        }
      ]
    },
    {
      "cell_type": "markdown",
      "source": [
        "* 시간 범위의 주기 설정하기\n",
        " \n",
        " : DatetimeIndex에는 **freq속성**이 포함되어 있음\n",
        "---\n",
        "\n",
        "`freq`속성값으로 사용할 수 있는 시간 주기\n",
        "\n",
        "1) `B` | 평일만 포함\n",
        "\n",
        "2) `C` | 사용자가 정의한 평일만 포함\n",
        "\n",
        "3) `D` | 달력 일자 단위\n",
        "\n",
        "4) `W` | 주간 단위\n",
        "\n",
        "5) `M` | 월 마지막 날만 포함\n",
        "\n",
        "6) `SM` | 15일과 월 마지막 날만 포함\n",
        "\n",
        "7) `BM` | M 주기의 값이 휴일이면 제외하고 평일만 포함\n",
        "\n",
        "8) `CBM` | BM에 사용자 정의 평일을 적용\n",
        "\n",
        "9) `MS` | 월 시작일만 포함\n",
        "\n",
        "10) `SMS` | 월 시작일과 15일만 포함\n",
        "\n",
        "11) `BMS` | MS주기의 값이 휴일이면 제외하고 평일만 포함\n",
        "\n",
        "12) `CBMS` | BMS에 사용자 정의 평일을 적용\n",
        "\n",
        "13) `Q` | 3,6,9,12월 분기 마지막 날만 포함\n",
        "\n",
        "14) `BQ` | 3,6,9,12월 분기 마지막 날이 휴일이면 제외하고 평일만 포함\n",
        "\n",
        "15) `QS` | 3,6,9,12월 분기 시작일만 포함\n",
        "\n",
        "16) `BQS` | 3,6,9,12 월 분기 시작일이 휴일이면 제외하고 평일만 포함\n",
        "\n",
        "17) `A` | 년의 마지막날만 포함\n",
        "\n",
        "18) `BA` | 년의 마지막 날이 휴일이면 제외하고 평일만 포함\n",
        "\n",
        "19) `AS` | 년의 시작일만 포함\n",
        "\n",
        "20) `BAS` | 년의 시작일이 휴일이면 제외하고 평일만 포함\n",
        "\n",
        "21) `BH` | 평일을 시간 단위로 포함 (09:00 ~ 16:00)\n",
        "\n",
        "22) `H` | 시간 단위로 포함 (00:00 ~ 00:00)"
      ],
      "metadata": {
        "id": "FGxGFO9s9h9q"
      }
    }
  ]
}