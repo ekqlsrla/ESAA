{
  "nbformat": 4,
  "nbformat_minor": 0,
  "metadata": {
    "colab": {
      "name": "0415_CH03_1_5.ipynb",
      "provenance": [],
      "mount_file_id": "16aQ4mW7zCUE8u04Fh6ZK59sRjJZbjid0",
      "authorship_tag": "ABX9TyO+oFAkJModdg+2tLr4OjVx",
      "include_colab_link": true
    },
    "kernelspec": {
      "name": "python3",
      "display_name": "Python 3"
    },
    "language_info": {
      "name": "python"
    }
  },
  "cells": [
    {
      "cell_type": "markdown",
      "metadata": {
        "id": "view-in-github",
        "colab_type": "text"
      },
      "source": [
        "<a href=\"https://colab.research.google.com/github/ekqlsrla/ESAA/blob/main/HW/0415_CH03_1_5.ipynb\" target=\"_parent\"><img src=\"https://colab.research.google.com/assets/colab-badge.svg\" alt=\"Open In Colab\"/></a>"
      ]
    },
    {
      "cell_type": "markdown",
      "source": [
        "# **[파이썬 머신러닝 완벽 가이드]**\n",
        "\n",
        "#**CH 03 - 평가**\n",
        "\n",
        "1. 성능평가 지표 \n",
        "\n",
        "  1) 회귀 : 실제값과 예측값의 오차 평균에 기반\n",
        "\n",
        "  2) 분류 : 일반적으로는 실제 결과 데이터와 예측 결과 데이터가 얼마나 정확하고 오류가 적게 발생하는 가에 기반\n",
        "     -> 단순한 평가로 **잘못된 결과**에 빠질수 있음\n",
        "     - 정확도(Accuracy)\n",
        "     - 오차행렬 (Confusion Matrix)\n",
        "     - 정밀도 (Precision)\n",
        "     - 재현율(Recall)\n",
        "     - F1 스코어\n",
        "     - ROC AUC"
      ],
      "metadata": {
        "id": "__oCx9Lan2R_"
      }
    },
    {
      "cell_type": "markdown",
      "source": [
        "---\n",
        "## 01. 정확도 (Accuracy)\n",
        ": 실제 데이터에서 예측 데이터가 얼마나 같은지를 판단하는 지표\n",
        "\n",
        "    정확도 (Accuracy) = 예측결과가 동일한 데이터 건수 / 전체 예측 데이터 건수\n",
        "                      = (TN + TP) / (TN + FP + FN + TP)\n",
        "\n"
      ],
      "metadata": {
        "id": "-At203zppwaO"
      }
    },
    {
      "cell_type": "code",
      "source": [
        "from sklearn.base import BaseEstimator\n",
        "\n",
        "class MyDummyClassifier(BaseEstimator) :\n",
        "  def fit(self,X,y = None) :\n",
        "   pass\n",
        "#predict() 메서드는 단순히 Sex 피처가 1이면 0, 그렇지 않으면 1로 예측함.\n",
        "\n",
        "  def predict(self,X) :\n",
        "    import numpy as np\n",
        "    pred = np.zeros((X.shape[0],1))\n",
        "    for i in range (X.shape[0]) :\n",
        "      if X['Sex'].iloc[i] == i :\n",
        "        pred[i] = 0\n",
        "      else :\n",
        "        pred[i] = 1\n",
        "    return pred"
      ],
      "metadata": {
        "id": "-ywHTAPG1pvO"
      },
      "execution_count": 22,
      "outputs": []
    },
    {
      "cell_type": "code",
      "source": [
        "## 생성된 MyDummyClassifier를 이용해 타이타닉 생존자 예측 수행\n",
        "\n",
        "from sklearn.model_selection import train_test_split\n",
        "from sklearn.metrics import accuracy_score\n",
        "from sklearn.preprocessing import LabelEncoder\n",
        "\n",
        "## Null 처리 함수\n",
        "def fillna(df):\n",
        "    df['Age'].fillna(df['Age'].mean(), inplace=True)\n",
        "    df['Cabin'].fillna('N', inplace=True)\n",
        "    df['Embarked'].fillna('N', inplace=True)\n",
        "    df['Fare'].fillna(0, inplace=True)\n",
        "    return df\n",
        "\n",
        "## 머신러닝에 불필요한 피처 제거\n",
        "def drop_features(df):\n",
        "    df.drop(['PassengerId', 'Name', 'Ticket'], axis=1, inplace=True)\n",
        "    return df\n",
        "\n",
        "## Label Encoding 수행\n",
        "def format_features(df):\n",
        "    df['Cabin'] = df['Cabin'].str[:1]\n",
        "    features = ['Cabin', 'Sex', 'Embarked']\n",
        "    for feature in features:\n",
        "        le = LabelEncoder()\n",
        "        le.fit(df[feature])\n",
        "        df[feature] = le.transform(df[feature])\n",
        "    return df\n",
        "\n",
        "## 앞에서 실행한 Data Preprocessing 함수 호출\n",
        "def transform_features(df):\n",
        "    df = fillna(df)\n",
        "    df = drop_features(df)\n",
        "    df = format_features(df)\n",
        "    return df"
      ],
      "metadata": {
        "id": "rycMyt-LdOaB"
      },
      "execution_count": 23,
      "outputs": []
    },
    {
      "cell_type": "code",
      "source": [
        "import pandas as pd\n",
        "from sklearn.model_selection import train_test_split\n",
        "from sklearn.metrics import accuracy_score\n",
        "\n",
        "\n",
        "#원본 데이터를 재로딩, 데이터 가공, 학습 데이터.테스트 데이터 분할\n",
        "\n",
        "titanic_df = pd.read_csv('/content/drive/MyDrive/DATA/train.csv')\n",
        "y_titanic_df = titanic_df['Survived']\n",
        "X_titanic_df = titanic_df.drop('Survived',axis = 1)\n",
        "X_titanic_df = transform_features(X_titanic_df)\n",
        "X_train,X_test, y_train,y_test = train_test_split(X_titanic_df,y_titanic_df,test_size = 0.2,random_state=0)"
      ],
      "metadata": {
        "id": "a9RNR_Xw2N-G"
      },
      "execution_count": 24,
      "outputs": []
    },
    {
      "cell_type": "code",
      "source": [
        "myclf = MyDummyClassifier()\n",
        "myclf.fit(X_train,y_train)\n",
        "\n",
        "mypredictions = myclf.predict(X_test)\n",
        "print('Dummy Classifier의 정확도는 : {0:4f}'.format(accuracy_score(y_test,mypredictions)))"
      ],
      "metadata": {
        "colab": {
          "base_uri": "https://localhost:8080/"
        },
        "id": "jaxt3RJj55JR",
        "outputId": "1fb0229c-7be9-4d93-eb42-5b1c0f82918d"
      },
      "execution_count": 25,
      "outputs": [
        {
          "output_type": "stream",
          "name": "stdout",
          "text": [
            "Dummy Classifier의 정확도는 : 0.391061\n"
          ]
        }
      ]
    },
    {
      "cell_type": "code",
      "source": [
        "from sklearn.datasets import load_digits\n",
        "from sklearn.model_selection import train_test_split\n",
        "from sklearn.base import BaseEstimator\n",
        "from sklearn.metrics import accuracy_score\n",
        "import numpy as np\n",
        "import pandas as pd\n",
        "\n",
        "class MyFakeClassifier(BaseEstimator) :\n",
        "    def fit(self,X,y) :\n",
        "      pass\n",
        "  #입력값으로 들어오는 X 데이터 세트의 크기만큼 모두 0값으로 만들어서 반환\n",
        "    def predict(self,X) :\n",
        "      return np.zeros( (len(X),1),dtype = bool)\n",
        "  #사이킷런의 내장 데이터 세트인 load_digits()를 이용해 MNIST데이터 로딩\n",
        "\n",
        "    digits = load_digits()\n",
        "\n",
        "  #digits 번호가 7번이면 True이고 이를 astype(int)로 1로 변환, 7번이 아니면 False이고 0으로 변환.\n",
        "    y = (digits.target == 7).astype(int)\n",
        "    X_train,X_test,y_trian,y_test = train_test_split(digits.data,y,random_state = 11)"
      ],
      "metadata": {
        "id": "xLiwL0u28LC6"
      },
      "execution_count": 26,
      "outputs": []
    },
    {
      "cell_type": "code",
      "source": [
        "#불균형한 레이블 데이터 분포도 확인\n",
        "print('레이블 테스트 세트 크기 :', y_test.shape)\n",
        "print('테스트 세트 레이블 0과 1의 분포도')\n",
        "print(pd.Series(y_test).value_counts())\n",
        "\n",
        "#Dummy Classifier로 학습/예측/정확도 평가\n",
        "fakeclf = MyFakeClassifier()\n",
        "fakeclf.fit(X_train,y_train)\n",
        "fakepred = fakeclf.predict(X_test)\n",
        "print('모든 예측을 0으로 하여도 정확도는 : {:.3f}'.format(accuracy_score(y_test,fakepred)))"
      ],
      "metadata": {
        "colab": {
          "base_uri": "https://localhost:8080/"
        },
        "id": "7XGCBzLz9s_4",
        "outputId": "95dd826c-8d28-4f04-ee15-d0d8ee7332d2"
      },
      "execution_count": 27,
      "outputs": [
        {
          "output_type": "stream",
          "name": "stdout",
          "text": [
            "레이블 테스트 세트 크기 : (179,)\n",
            "테스트 세트 레이블 0과 1의 분포도\n",
            "0    110\n",
            "1     69\n",
            "Name: Survived, dtype: int64\n",
            "모든 예측을 0으로 하여도 정확도는 : 0.615\n"
          ]
        }
      ]
    },
    {
      "cell_type": "markdown",
      "source": [
        "---\n",
        "## 02. 오차 행렬\n",
        ": 학습된 분류 모델이 예측을 수행하면서 얼마나 헷갈리고 있는지도 함께 보여주는 지표\n",
        "* **TN**는 예측값을 Negative 값 **0으로 예측**했고 실제 값 역시 **Negative 값 0**\n",
        "* **FP**는 예측값을 Positive 값 **1로 예측**했는데 실제 값은 **Negative 값 0**\n",
        "* **FN**은 예측값을 Negative 값 **0으로 예측**했는데 실제 값은 **Positive 값 1**\n",
        "* **TP**는 예측값을 Positive 값 **1로 예측**했는데 실제 값 역시 **Postitive 값 1**"
      ],
      "metadata": {
        "id": "2daSWLns-8Ce"
      }
    },
    {
      "cell_type": "code",
      "source": [
        "from sklearn.metrics import confusion_matrix\n",
        "confusion_matrix(y_test,fakepred)"
      ],
      "metadata": {
        "colab": {
          "base_uri": "https://localhost:8080/"
        },
        "id": "FPI8kLr_A_Dh",
        "outputId": "7b2e99a6-3cb1-421f-dc61-19c87c54b4a6"
      },
      "execution_count": 28,
      "outputs": [
        {
          "output_type": "execute_result",
          "data": {
            "text/plain": [
              "array([[110,   0],\n",
              "       [ 69,   0]])"
            ]
          },
          "metadata": {},
          "execution_count": 28
        }
      ]
    },
    {
      "cell_type": "markdown",
      "source": [
        "---\n",
        "## 03. 정밀도와 재현율\n",
        "\n",
        ": Positive 데이터 세트의 예측 성능에 좀 더 초점을 맞춘 평가 지표\n",
        "\n",
        "### 1.  **정밀도 = TP / (FP + TP)**\n",
        ": 예측을 Positive로 한 대상 중에 예측과 실제 값이 Positive로 일치한 데이터의 비율\n",
        "\n",
        "  1) **정밀도가 중요한 지표인 경우** : 실제** Negative음성**인 데이터 예측을 **Positive 양성으로 잘못 판단**하게 되면 업무상 큰 영향이 발생하는 경우\n",
        "\n",
        "### 2. **재현율 = TP / (FN + TP)**\n",
        ": 실제 값이 Positive인 대상 중에 예측과 실제 값이 Positive로 일치한 데이터의 비율\n",
        "\n",
        "  1) **재현율이 중요 지표인 경우** : 실제 **Positive 양성** 데이터를 **Negative로 잘못 판단**하게 되면 업무상 큰 영향이 발생하는 경우"
      ],
      "metadata": {
        "id": "Vf6QW0qRBRr4"
      }
    },
    {
      "cell_type": "code",
      "source": [
        "from sklearn.metrics import accuracy_score, precision_score, recall_score, confusion_matrix\n",
        "\n",
        "def get_clf_eval(y_test,pred) :\n",
        "  confusion = confusion_matrix(y_test,pred)\n",
        "  accuracy = accuracy_score(y_test,pred)\n",
        "  precision = precision_score(y_test,pred)\n",
        "  recall = recall_score(y_test,pred)\n",
        "  print('오차 행렬')\n",
        "  print(confusion)\n",
        "  print('정확도 : {0:4f}, 정밀도 : {1:4f}, 재현율 : {2:4f}'.format(accuracy,precision,recall))"
      ],
      "metadata": {
        "id": "VDD4kDD8F9nX"
      },
      "execution_count": 29,
      "outputs": []
    },
    {
      "cell_type": "code",
      "source": [
        "import pandas as pd\n",
        "from sklearn.model_selection import train_test_split\n",
        "from sklearn.linear_model import LogisticRegression\n",
        "from torchvision import transforms\n",
        "\n",
        "#원본 데이터를 재로딩, 데이터 가공, 학습 데이터/테스트 데이터 분할.\n",
        "titanic_df = pd.read_csv('/content/drive/MyDrive/DATA/train.csv')\n",
        "y_titanic_df = titanic_df['Survived']\n",
        "X_titanic_df = titanic_df.drop('Survived',axis = 1)\n",
        "X_titanic_df = transform_features(X_titanic_df)\n",
        "\n",
        "X_train,X_test,y_train,y_test = train_test_split(X_titanic_df,y_titanic_df,test_size = 0.2,random_state = 11)\n",
        "\n",
        "lr_clf = LogisticRegression()\n",
        "lr_clf.fit(X_train,y_train)\n",
        "pred = lr_clf.predict(X_test)\n",
        "get_clf_eval(y_test,pred)"
      ],
      "metadata": {
        "colab": {
          "base_uri": "https://localhost:8080/"
        },
        "id": "MRDF5WJqHJUL",
        "outputId": "07e19826-70af-4015-9ea4-09eaac66ae4b"
      },
      "execution_count": 30,
      "outputs": [
        {
          "output_type": "stream",
          "name": "stdout",
          "text": [
            "오차 행렬\n",
            "[[104  14]\n",
            " [ 13  48]]\n",
            "정확도 : 0.849162, 정밀도 : 0.774194, 재현율 : 0.786885\n"
          ]
        },
        {
          "output_type": "stream",
          "name": "stderr",
          "text": [
            "/usr/local/lib/python3.7/dist-packages/sklearn/linear_model/_logistic.py:818: ConvergenceWarning: lbfgs failed to converge (status=1):\n",
            "STOP: TOTAL NO. of ITERATIONS REACHED LIMIT.\n",
            "\n",
            "Increase the number of iterations (max_iter) or scale the data as shown in:\n",
            "    https://scikit-learn.org/stable/modules/preprocessing.html\n",
            "Please also refer to the documentation for alternative solver options:\n",
            "    https://scikit-learn.org/stable/modules/linear_model.html#logistic-regression\n",
            "  extra_warning_msg=_LOGISTIC_SOLVER_CONVERGENCE_MSG,\n"
          ]
        }
      ]
    },
    {
      "cell_type": "markdown",
      "source": [
        "### **3. 정밀도/ 재현율 트레이드 오프**\n",
        "\n",
        ": 정밀도와 재현율은 상호 보완적인 평가 지표이기 때문에 어느 한쪽을 강제로 높이면 다른 하나의 수치는 떨어지기 쉬움.\n",
        "\n",
        "1) `predict_proba()` | 개별 데이터 별로 예측 확률을 반환\n",
        "  - 입력 파라미터 : 테스트 피처 데이터 세트 입력\n",
        "  - 반환 값 : 개별 클래스의 예측확률을 mxn 형태로 반환"
      ],
      "metadata": {
        "id": "f2PUkM2jduop"
      }
    },
    {
      "cell_type": "code",
      "source": [
        "pred_proba = lr_clf.predict_proba(X_test)\n",
        "pred = lr_clf.predict(X_test)\n",
        "print(\"pred_proba()의 결과 Shape : {0}\".format(pred_proba.shape))\n",
        "print('pred_proba array에서 앞 3개만 샘플로 추출 \\n :',pred_proba[:3])\n",
        "\n",
        "pred_proba_result = np.concatenate([pred_proba,pred.reshape(-1,1)],axis = 1)\n",
        "print('두 개의 class 중에서 더 큰 확률을 클래스 값으로 예측 \\n', pred_proba_result[:3])"
      ],
      "metadata": {
        "colab": {
          "base_uri": "https://localhost:8080/"
        },
        "id": "AF9tf0XOfB60",
        "outputId": "9f39533e-20eb-48bb-d9c5-0a3c23db8e90"
      },
      "execution_count": 31,
      "outputs": [
        {
          "output_type": "stream",
          "name": "stdout",
          "text": [
            "pred_proba()의 결과 Shape : (179, 2)\n",
            "pred_proba array에서 앞 3개만 샘플로 추출 \n",
            " : [[0.46191519 0.53808481]\n",
            " [0.878675   0.121325  ]\n",
            " [0.87716185 0.12283815]]\n",
            "두 개의 class 중에서 더 큰 확률을 클래스 값으로 예측 \n",
            " [[0.46191519 0.53808481 1.        ]\n",
            " [0.878675   0.121325   0.        ]\n",
            " [0.87716185 0.12283815 0.        ]]\n"
          ]
        }
      ]
    },
    {
      "cell_type": "code",
      "source": [
        "from sklearn.preprocessing import Binarizer\n",
        "\n",
        "X = [[1,-1,2],\n",
        "     [2,0,0],\n",
        "     [0,1.1,1.2]]\n",
        "\n",
        "#X의 개별 원소들이 threshold 값보다 같거나 작으면 0을, 크면 1을 반환\n",
        "binarizer = Binarizer(threshold = 1.1)\n",
        "print(binarizer.fit_transform(X))"
      ],
      "metadata": {
        "colab": {
          "base_uri": "https://localhost:8080/"
        },
        "id": "0Xr7W-TDicRc",
        "outputId": "5aeb4f03-aa17-4800-8f99-0b7865bf7ea6"
      },
      "execution_count": 32,
      "outputs": [
        {
          "output_type": "stream",
          "name": "stdout",
          "text": [
            "[[0. 0. 1.]\n",
            " [1. 0. 0.]\n",
            " [0. 0. 1.]]\n"
          ]
        }
      ]
    },
    {
      "cell_type": "code",
      "source": [
        "from sklearn.preprocessing import Binarizer\n",
        "\n",
        "#Binarizer의 threshold 설정값. 분류 결정 임곗값\n",
        "custom_threshold = 0.5\n",
        "\n",
        "#predict_proba() 반환값의 두 번째 칼럼, 즉 Positive 클래스 칼럼 하나만 추출해 Binarizer를 적용\n",
        "pred_proba_1 = pred_proba[:,1].reshape(-1,1)\n",
        "\n",
        "binarizer = Binarizer(threshold = custom_threshold).fit(pred_proba_1)\n",
        "custom_predict = binarizer.transform(pred_proba_1)\n",
        "\n",
        "get_clf_eval(y_test,custom_predict)"
      ],
      "metadata": {
        "colab": {
          "base_uri": "https://localhost:8080/"
        },
        "id": "l73mlAoAjD7l",
        "outputId": "1cb94568-fd53-4a6c-efb6-ae65ab13de0e"
      },
      "execution_count": 33,
      "outputs": [
        {
          "output_type": "stream",
          "name": "stdout",
          "text": [
            "오차 행렬\n",
            "[[104  14]\n",
            " [ 13  48]]\n",
            "정확도 : 0.849162, 정밀도 : 0.774194, 재현율 : 0.786885\n"
          ]
        }
      ]
    },
    {
      "cell_type": "markdown",
      "source": [
        "* 임곗값을 낮추면 **재현율 값**이 올라가고 **정밀도**가 떨어짐\n",
        "  \n",
        "-> 분류 결정 임곗값은 Positive 예측값을 결정하는 확률의 기준이 되므로 임곗값을 낮출수록 True값이 많아짐"
      ],
      "metadata": {
        "id": "IKR5TtKS_D1D"
      }
    },
    {
      "cell_type": "code",
      "source": [
        "#Binarizer의 threshold 설정값을 0.4로 설정\n",
        "\n",
        "custom_threshold = 0.4\n",
        "pred_proba_1 = pred_proba[:,1].reshape(-1,1)\n",
        "binarizer = Binarizer(threshold = custom_threshold).fit(pred_proba_1)\n",
        "custom_predict = binarizer.transform(pred_proba_1)\n",
        "\n",
        "get_clf_eval(y_test,custom_predict)"
      ],
      "metadata": {
        "colab": {
          "base_uri": "https://localhost:8080/"
        },
        "id": "3XG_1MTJ-k1r",
        "outputId": "70f4d335-762d-4c1b-e885-5596778c8436"
      },
      "execution_count": 35,
      "outputs": [
        {
          "output_type": "stream",
          "name": "stdout",
          "text": [
            "오차 행렬\n",
            "[[98 20]\n",
            " [10 51]]\n",
            "정확도 : 0.832402, 정밀도 : 0.718310, 재현율 : 0.836066\n"
          ]
        }
      ]
    },
    {
      "cell_type": "markdown",
      "source": [
        "* 임곗값을 0.4에서부터 0.6까지 0.05씩 증가시키며 평가 지표 조사"
      ],
      "metadata": {
        "id": "CW1SMb5G_khF"
      }
    },
    {
      "cell_type": "code",
      "source": [
        "threshold = [0.4,0.45,0.50,0.55,0.60]\n",
        "\n",
        "def get_eval_by_threshold(y_test,pred_proba_c1,thresholds) :\n",
        "    #thresholds list 객체 내의 값을 차례로 iteration 하면서 Evaluation 수행\n",
        "    for custom_threshold in thresholds :\n",
        "      binarizer = Binarizer(threshold = custom_threshold).fit(pred_proba_c1)\n",
        "      custom_predict = binarizer.transform(pred_proba_c1)\n",
        "      print('임곗값:', custom_threshold)\n",
        "      get_clf_eval(y_test,custom_predict)\n",
        "\n",
        "\n",
        "get_eval_by_threshold(y_test,pred_proba[:,1].reshape(-1,1),threshold)"
      ],
      "metadata": {
        "colab": {
          "base_uri": "https://localhost:8080/"
        },
        "id": "SCGyHC3b_ohy",
        "outputId": "e4f4174e-3ad0-4714-f8f4-ebaa2042ccb5"
      },
      "execution_count": 37,
      "outputs": [
        {
          "output_type": "stream",
          "name": "stdout",
          "text": [
            "임곗값: 0.4\n",
            "오차 행렬\n",
            "[[98 20]\n",
            " [10 51]]\n",
            "정확도 : 0.832402, 정밀도 : 0.718310, 재현율 : 0.836066\n",
            "임곗값: 0.45\n",
            "오차 행렬\n",
            "[[103  15]\n",
            " [ 12  49]]\n",
            "정확도 : 0.849162, 정밀도 : 0.765625, 재현율 : 0.803279\n",
            "임곗값: 0.5\n",
            "오차 행렬\n",
            "[[104  14]\n",
            " [ 13  48]]\n",
            "정확도 : 0.849162, 정밀도 : 0.774194, 재현율 : 0.786885\n",
            "임곗값: 0.55\n",
            "오차 행렬\n",
            "[[109   9]\n",
            " [ 15  46]]\n",
            "정확도 : 0.865922, 정밀도 : 0.836364, 재현율 : 0.754098\n",
            "임곗값: 0.6\n",
            "오차 행렬\n",
            "[[112   6]\n",
            " [ 16  45]]\n",
            "정확도 : 0.877095, 정밀도 : 0.882353, 재현율 : 0.737705\n"
          ]
        }
      ]
    },
    {
      "cell_type": "markdown",
      "source": [
        "`precision_recall_curve()` | 임곗값 변화에 따른 평가 지표 값\n",
        "- 입력 파라미터 : y_true (실제 클래스값 배열), probas_pred (Positive 칼럼의 예측 확률 배열 )\n",
        "- 반환 값 : 정밀도 (임곗값별 정밀도 값을 배열로 반환), 재현율(임곗값별 재현율 값을 배열로 반환)"
      ],
      "metadata": {
        "id": "Q1WTQs0EBYm2"
      }
    },
    {
      "cell_type": "code",
      "source": [
        "from sklearn.metrics import precision_recall_curve\n",
        "\n",
        "#레이블 값이 1일 때의 예측 확률을 추출\n",
        "pred_proba_class1 = lr_clf.predict_proba(X_test)[:,1]\n",
        "\n",
        "#실제값 데이터 세트와 레이블 값이 1일 때의 예측 확률을 precision_recall_curve 인자로 입력\n",
        "precisions, recalls, thresholds = precision_recall_curve(y_test,pred_proba_class1)\n",
        "print('반환된 분류 결정 임곗값 배열의 Shape :', thresholds.shape)\n",
        "\n",
        "#반환된 임계값 배열 로우가 147이므로 샘플로 10건만 추출하되, 임곗값을 15step으로 추출.\n",
        "thr_index = np.arange(0,thresholds.shape[0],15)\n",
        "print('샘플 추출을 위한 임계값 배열의 index 10개 :', thr_index)\n",
        "print('샘플용 10개의 임곗값 :', np.round(thresholds[thr_index],2))\n",
        "\n",
        "#15 step 다위로 추출된 임계값에 따른 정밀도와 재현율 값\n",
        "print('샘플 임계값별 정밀도 : ',np.round(precisions[thr_index],3))\n",
        "print('샘플 임계값별 재현율 :', np.round(recalls[thr_index],3))"
      ],
      "metadata": {
        "colab": {
          "base_uri": "https://localhost:8080/"
        },
        "id": "KHqsMEp4Bwff",
        "outputId": "039e91c6-3ab3-4103-b1be-f64785a8968f"
      },
      "execution_count": 39,
      "outputs": [
        {
          "output_type": "stream",
          "name": "stdout",
          "text": [
            "반환된 분류 결정 임곗값 배열의 Shape : (143,)\n",
            "샘플 추출을 위한 임계값 배열의 index 10개 : [  0  15  30  45  60  75  90 105 120 135]\n",
            "샘플용 10개의 임곗값 : [0.1  0.12 0.14 0.19 0.28 0.4  0.56 0.67 0.82 0.95]\n",
            "샘플 임계값별 정밀도 :  [0.389 0.44  0.466 0.539 0.647 0.729 0.836 0.949 0.958 1.   ]\n",
            "샘플 임계값별 재현율 : [1.    0.967 0.902 0.902 0.902 0.836 0.754 0.607 0.377 0.148]\n"
          ]
        }
      ]
    },
    {
      "cell_type": "markdown",
      "source": [
        "* API를 이용해 정밀도와 재현율 곡선 시각화"
      ],
      "metadata": {
        "id": "yN2f6f5DDnbO"
      }
    },
    {
      "cell_type": "code",
      "source": [
        "import matplotlib.pyplot as plt\n",
        "import matplotlib.ticker as ticker\n",
        "%matplotlib inline\n",
        "\n",
        "plt.figure(figsize = (8,6))\n",
        "threshold_boundary = thresholds.shape[0]\n",
        "plt.plot(thresholds, precisions[0:threshold_boundary],linestyle = '--',label = 'precision')\n",
        "plt.plot(thresholds,recalls[0:threshold_boundary],label = 'recall')\n",
        "\n",
        "start,end = plt.xlim()\n",
        "plt.xticks(np.round(np.arange(start,end,0.1),2))"
      ],
      "metadata": {
        "colab": {
          "base_uri": "https://localhost:8080/",
          "height": 580
        },
        "id": "hCKTGjAXDqtD",
        "outputId": "47f28e59-410e-4eca-fc21-db81f100b91d"
      },
      "execution_count": 41,
      "outputs": [
        {
          "output_type": "execute_result",
          "data": {
            "text/plain": [
              "([<matplotlib.axis.XTick at 0x7f906b732250>,\n",
              "  <matplotlib.axis.XTick at 0x7f906b732b10>,\n",
              "  <matplotlib.axis.XTick at 0x7f906baef310>,\n",
              "  <matplotlib.axis.XTick at 0x7f906b6de7d0>,\n",
              "  <matplotlib.axis.XTick at 0x7f906b6dee50>,\n",
              "  <matplotlib.axis.XTick at 0x7f906b6de150>,\n",
              "  <matplotlib.axis.XTick at 0x7f906b71ca90>,\n",
              "  <matplotlib.axis.XTick at 0x7f906b6a78d0>,\n",
              "  <matplotlib.axis.XTick at 0x7f906b6a7850>,\n",
              "  <matplotlib.axis.XTick at 0x7f906ba8a3d0>],\n",
              " <a list of 10 Text major ticklabel objects>)"
            ]
          },
          "metadata": {},
          "execution_count": 41
        },
        {
          "output_type": "display_data",
          "data": {
            "text/plain": [
              "<Figure size 576x432 with 1 Axes>"
            ],
            "image/png": "[encoded data removed]"
          },
          "metadata": {
            "needs_background": "light"
          }
        }
      ]
    },
    {
      "cell_type": "markdown",
      "source": [
        "### 4.정밀도와 재현율의 맹점\n",
        "\n",
        "  1) 정밀도가 100%가 되는 방법\n",
        "  : 확실한 기준이 되는 경우만 Positive로 예측하고 **나머지는 모두 Negative**로 예측\n",
        "\n",
        "  2) 재현율이 100%가 되는 방법\n",
        "  : **모든** 데이터를 **Positive**로 예측"
      ],
      "metadata": {
        "id": "2CMvnOvIFVnM"
      }
    },
    {
      "cell_type": "markdown",
      "source": [
        "---\n",
        "## 04. F1스코어\n",
        "\n",
        ": 정밀도와 재현율을 **결합한 지표**로, 어느 한 쪽으로 **치우치지 않는 수치**를 나타낼 때 상대적으로 **높은 값** 가짐\n",
        "\n",
        "  1) `f1_score()` API 사용\n",
        "\n",
        "![image.png](data:image/png;base64,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)"
      ],
      "metadata": {
        "id": "LLiOsQ5JF1AG"
      }
    },
    {
      "cell_type": "code",
      "source": [
        "from sklearn.metrics import f1_score\n",
        "f1 = f1_score(y_test,pred)\n",
        "print('F1 스코어: {0:4f}'.format(f1))"
      ],
      "metadata": {
        "colab": {
          "base_uri": "https://localhost:8080/"
        },
        "id": "5VO2b7kTIa1v",
        "outputId": "af71cb3b-248b-4ff7-8bd6-42df88845c5c"
      },
      "execution_count": 42,
      "outputs": [
        {
          "output_type": "stream",
          "name": "stdout",
          "text": [
            "F1 스코어: 0.780488\n"
          ]
        }
      ]
    },
    {
      "cell_type": "code",
      "source": [
        "def get_clf_eval(y_test,pred) :\n",
        "  confusion = confusion_matrix(y_test,pred)\n",
        "  accuracy = accuracy_score(y_test,pred)\n",
        "  precision = precision_score(y_test,pred)\n",
        "  recall = recall_score(y_test,pred)\n",
        "\n",
        "  #F1 스코어 추가\n",
        "  f1 = f1_score(y_test,pred)\n",
        "  print('오차 행렬')\n",
        "  print(confusion)\n",
        "  #f1 score print 추가\n",
        "  print('정확도 : {0:4f}, 정밀도 : {1:4f}. 재현율 : {2:4f}, F1 : {3:4f}'.format(accuracy,precision, recall,f1))\n",
        "\n",
        "thresholds = [0.4,0.45,0.50,0.55,0.60]\n",
        "pred_proba = lr_clf.predict_proba(X_test)\n",
        "get_eval_by_threshold(y_test,pred_proba[:,1].reshape(-1,1),thresholds)"
      ],
      "metadata": {
        "colab": {
          "base_uri": "https://localhost:8080/"
        },
        "id": "aoykDM_xIsz6",
        "outputId": "9976bf14-d9f2-460a-ff5c-31133e0335b0"
      },
      "execution_count": 45,
      "outputs": [
        {
          "output_type": "stream",
          "name": "stdout",
          "text": [
            "임곗값: 0.4\n",
            "오차 행렬\n",
            "[[98 20]\n",
            " [10 51]]\n",
            "정확도 : 0.832402, 정밀도 : 0.718310. 재현율 : 0.836066, F1 : 0.772727\n",
            "임곗값: 0.45\n",
            "오차 행렬\n",
            "[[103  15]\n",
            " [ 12  49]]\n",
            "정확도 : 0.849162, 정밀도 : 0.765625. 재현율 : 0.803279, F1 : 0.784000\n",
            "임곗값: 0.5\n",
            "오차 행렬\n",
            "[[104  14]\n",
            " [ 13  48]]\n",
            "정확도 : 0.849162, 정밀도 : 0.774194. 재현율 : 0.786885, F1 : 0.780488\n",
            "임곗값: 0.55\n",
            "오차 행렬\n",
            "[[109   9]\n",
            " [ 15  46]]\n",
            "정확도 : 0.865922, 정밀도 : 0.836364. 재현율 : 0.754098, F1 : 0.793103\n",
            "임곗값: 0.6\n",
            "오차 행렬\n",
            "[[112   6]\n",
            " [ 16  45]]\n",
            "정확도 : 0.877095, 정밀도 : 0.882353. 재현율 : 0.737705, F1 : 0.803571\n"
          ]
        }
      ]
    },
    {
      "cell_type": "markdown",
      "source": [
        "## 05. ROC 곡선과 AUC\n",
        "\n",
        "1) **ROC(Receiver Operation Characteristic Curve)** : FPR(False Positive Rate)이 변할 때 TPR(True Positive Rate)이 어떻게 변하는 지를 나타내는 곡선\n",
        "\n",
        "- **TPR = 민감도** : 실제값 **Positive**가 정확히 예측돼야 하는 수준\n",
        "- **TNR = 특이성** : 실제값 **Negative**가 정확히 예측돼야 하는 수준\n",
        "  - TNR = TN / (FP + TN)\n",
        "\n",
        "- ROC 곡선이 **가운데 직선**에 **가까울수록 성능이 떨어지는 것**\n",
        "\n",
        "  (1) FPR을 0부터 1까지 변화시키변서 TPR의 변화 값 구함\n",
        "   -> **분류 결정 임곗값**을 변경\n",
        "   - FPR을 **0**으로 : **임곗값을 1**로 지정\n",
        "   - FPR을 **1**로 : TN을 0 = **임곗값을 0**으로 지정\n",
        "  (2) `roc_curve()` API\n",
        "  - 입력 파라미터 : y_true(실제 클래스 값) , y_score(Positive칼럼의 예측확률)\n",
        "  - 반환 값 : fpr,tpr,thresholds"
      ],
      "metadata": {
        "id": "HqcoIOqiJoul"
      }
    },
    {
      "cell_type": "code",
      "source": [
        "from sklearn.metrics import roc_curve\n",
        "\n",
        "#레이블 값이 1일 때의 예측확률을 추출\n",
        "pred_prob_class1 = lr_clf.predict_proba(X_test)[:,1]\n",
        "\n",
        "fprs,tprs,thresholds = roc_curve(y_test,pred_proba_class1)\n",
        "\n",
        "#반환된 임곗값 배열 로우가 47건이므로 샘플로 5 step으로 10건만 추출\n",
        "#thresholds[0]의 max+1로 임의 설정됨\n",
        "thr_index = np.arange(1,thresholds.shape[0],5)\n",
        "print('샘플 추출을 위한 임곗값 배열의 index 10개 :', thr_index)\n",
        "print('샘플용 10개의 임곗값 :', np.round(thresholds[thr_index],2))\n",
        "\n",
        "#5step 단위로 추출된 임계값에 따른 FPR, TPR 값\n",
        "print('샘플 임곗값별 FPR :', np.round(fprs[thr_index],3))\n",
        "print('샘플 임곗값별 TPR :', np.round(tprs[thr_index],3))"
      ],
      "metadata": {
        "colab": {
          "base_uri": "https://localhost:8080/"
        },
        "id": "IV-hgNCkN_88",
        "outputId": "ca390f25-3819-4af1-f446-63cb9f2fb5da"
      },
      "execution_count": 48,
      "outputs": [
        {
          "output_type": "stream",
          "name": "stdout",
          "text": [
            "샘플 추출을 위한 임곗값 배열의 index 10개 : [ 1  6 11 16 21 26 31 36 41 46 51]\n",
            "샘플용 10개의 임곗값 : [0.97 0.65 0.63 0.56 0.45 0.4  0.35 0.15 0.13 0.11 0.11]\n",
            "샘플 임곗값별 FPR : [0.    0.017 0.034 0.076 0.127 0.169 0.203 0.466 0.585 0.686 0.797]\n",
            "샘플 임곗값별 TPR : [0.033 0.639 0.721 0.754 0.803 0.836 0.885 0.902 0.934 0.967 0.984]\n"
          ]
        }
      ]
    },
    {
      "cell_type": "code",
      "source": [
        "def roc_curve_plot(y_test,pred_proba_c1):\n",
        "  fprs,tprs,thresholds = roc_curve(y_test,pred_proba_c1)\n",
        "  plt.plot(fprs,tprs,label = 'ROC')\n",
        "  plt.plot([0,1],[0,1],'k--',label = 'Random')\n",
        "\n",
        "  start,end = plt.xlim()\n",
        "  plt.xticks(np.round(np.arange(start,end,0.1),2))\n",
        "  plt.xlim(0,1)\n",
        "  plt.ylim(0,1)\n",
        "  plt.xlabel('FPR(1-Sensivity)')\n",
        "  plt.ylabel('TPR(Recall)')\n",
        "  plt.legend()\n",
        "\n",
        "roc_curve_plot(y_test,pred_proba[:,1])"
      ],
      "metadata": {
        "colab": {
          "base_uri": "https://localhost:8080/",
          "height": 283
        },
        "id": "jgkYRUI0PAPf",
        "outputId": "cee667ba-a6f6-4a42-8ead-43aaba47522f"
      },
      "execution_count": 50,
      "outputs": [
        {
          "output_type": "display_data",
          "data": {
            "text/plain": [
              "<Figure size 432x288 with 1 Axes>"
            ],
            "image/png": "[encoded data removed]"
          },
          "metadata": {
            "needs_background": "light"
          }
        }
      ]
    },
    {
      "cell_type": "markdown",
      "source": [
        "2) **AUC(Area Under Curve)** : ROC 곡선 밑의 면적을 구한 것으로서 **1에 가까울수록 좋은 수치**\n",
        "-> **FPR**이 작은 상태에서 얼마나 큰 **TPR**을 얻을 수 있느냐가 관건"
      ],
      "metadata": {
        "id": "by7dEQUePkic"
      }
    },
    {
      "cell_type": "code",
      "source": [
        "def get_clf_eval(y_test,pred=None,pred_proba = None) :\n",
        "  confusion = confusion_matrix(y_test,pred)\n",
        "  accuracy = accuracy_score(y_test,pred)\n",
        "  precision = precision_score(y_test,pred)\n",
        "  recall = recall_score(y_test,pred)\n",
        "  f1 = f1_score(y_test,pred)\n",
        "  #ROC_AUC\n",
        "  roc_auc = roc_auc_score(y_test,pred_proba)\n",
        "  print('오차 행렬')\n",
        "  print(confusion)\n",
        "  print('정확도 : {0:4f}, 정밀도 : {1:4f}, 재현율 : {2:4f},F1 : {3:4f}, AUC :{4:4f}'.format(accuracy,precision,recall,f1,roc_auc))"
      ],
      "metadata": {
        "id": "Zt1E4os1RYdg"
      },
      "execution_count": 54,
      "outputs": []
    }
  ]
}