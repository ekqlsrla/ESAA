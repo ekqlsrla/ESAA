{
  "nbformat": 4,
  "nbformat_minor": 0,
  "metadata": {
    "colab": {
      "name": "0620_CH06_2.ipynb",
      "provenance": [],
      "mount_file_id": "1IG395uSA5pHT-4-r3ZW43IpGhSj8q1mK",
      "authorship_tag": "ABX9TyMkJnLEUti2ag9GNdrJjKfR",
      "include_colab_link": true
    },
    "kernelspec": {
      "name": "python3",
      "display_name": "Python 3"
    },
    "language_info": {
      "name": "python"
    }
  },
  "cells": [
    {
      "cell_type": "markdown",
      "metadata": {
        "id": "view-in-github",
        "colab_type": "text"
      },
      "source": [
        "<a href=\"https://colab.research.google.com/github/ekqlsrla/ESAA/blob/main/HW/0620_CH06_2.ipynb\" target=\"_parent\"><img src=\"https://colab.research.google.com/assets/colab-badge.svg\" alt=\"Open In Colab\"/></a>"
      ]
    },
    {
      "cell_type": "code",
      "execution_count": null,
      "metadata": {
        "colab": {
          "base_uri": "https://localhost:8080/",
          "height": 143
        },
        "id": "uMcRc1vfkm3o",
        "outputId": "dab3d292-7b58-41ad-da18-de8213073670"
      },
      "outputs": [
        {
          "output_type": "execute_result",
          "data": {
            "text/plain": [
              "   sepal_length  sepal_width  petal_length  petal_width  target\n",
              "0           5.1          3.5           1.4          0.2       0\n",
              "1           4.9          3.0           1.4          0.2       0\n",
              "2           4.7          3.2           1.3          0.2       0"
            ],
            "text/html": [
              "\n",
              "  <div id=\"df-bf8a9d37-b794-4ae4-94df-dbcc324e53fc\">\n",
              "    <div class=\"colab-df-container\">\n",
              "      <div>\n",
              "<style scoped>\n",
              "    .dataframe tbody tr th:only-of-type {\n",
              "        vertical-align: middle;\n",
              "    }\n",
              "\n",
              "    .dataframe tbody tr th {\n",
              "        vertical-align: top;\n",
              "    }\n",
              "\n",
              "    .dataframe thead th {\n",
              "        text-align: right;\n",
              "    }\n",
              "</style>\n",
              "<table border=\"1\" class=\"dataframe\">\n",
              "  <thead>\n",
              "    <tr style=\"text-align: right;\">\n",
              "      <th></th>\n",
              "      <th>sepal_length</th>\n",
              "      <th>sepal_width</th>\n",
              "      <th>petal_length</th>\n",
              "      <th>petal_width</th>\n",
              "      <th>target</th>\n",
              "    </tr>\n",
              "  </thead>\n",
              "  <tbody>\n",
              "    <tr>\n",
              "      <th>0</th>\n",
              "      <td>5.1</td>\n",
              "      <td>3.5</td>\n",
              "      <td>1.4</td>\n",
              "      <td>0.2</td>\n",
              "      <td>0</td>\n",
              "    </tr>\n",
              "    <tr>\n",
              "      <th>1</th>\n",
              "      <td>4.9</td>\n",
              "      <td>3.0</td>\n",
              "      <td>1.4</td>\n",
              "      <td>0.2</td>\n",
              "      <td>0</td>\n",
              "    </tr>\n",
              "    <tr>\n",
              "      <th>2</th>\n",
              "      <td>4.7</td>\n",
              "      <td>3.2</td>\n",
              "      <td>1.3</td>\n",
              "      <td>0.2</td>\n",
              "      <td>0</td>\n",
              "    </tr>\n",
              "  </tbody>\n",
              "</table>\n",
              "</div>\n",
              "      <button class=\"colab-df-convert\" onclick=\"convertToInteractive('df-bf8a9d37-b794-4ae4-94df-dbcc324e53fc')\"\n",
              "              title=\"Convert this dataframe to an interactive table.\"\n",
              "              style=\"display:none;\">\n",
              "        \n",
              "  <svg xmlns=\"http://www.w3.org/2000/svg\" height=\"24px\"viewBox=\"0 0 24 24\"\n",
              "       width=\"24px\">\n",
              "    <path d=\"M0 0h24v24H0V0z\" fill=\"none\"/>\n",
              "    <path d=\"M18.56 5.44l.94 2.06.94-2.06 2.06-.94-2.06-.94-.94-2.06-.94 2.06-2.06.94zm-11 1L8.5 8.5l.94-2.06 2.06-.94-2.06-.94L8.5 2.5l-.94 2.06-2.06.94zm10 10l.94 2.06.94-2.06 2.06-.94-2.06-.94-.94-2.06-.94 2.06-2.06.94z\"/><path d=\"M17.41 7.96l-1.37-1.37c-.4-.4-.92-.59-1.43-.59-.52 0-1.04.2-1.43.59L10.3 9.45l-7.72 7.72c-.78.78-.78 2.05 0 2.83L4 21.41c.39.39.9.59 1.41.59.51 0 1.02-.2 1.41-.59l7.78-7.78 2.81-2.81c.8-.78.8-2.07 0-2.86zM5.41 20L4 18.59l7.72-7.72 1.47 1.35L5.41 20z\"/>\n",
              "  </svg>\n",
              "      </button>\n",
              "      \n",
              "  <style>\n",
              "    .colab-df-container {\n",
              "      display:flex;\n",
              "      flex-wrap:wrap;\n",
              "      gap: 12px;\n",
              "    }\n",
              "\n",
              "    .colab-df-convert {\n",
              "      background-color: #E8F0FE;\n",
              "      border: none;\n",
              "      border-radius: 50%;\n",
              "      cursor: pointer;\n",
              "      display: none;\n",
              "      fill: #1967D2;\n",
              "      height: 32px;\n",
              "      padding: 0 0 0 0;\n",
              "      width: 32px;\n",
              "    }\n",
              "\n",
              "    .colab-df-convert:hover {\n",
              "      background-color: #E2EBFA;\n",
              "      box-shadow: 0px 1px 2px rgba(60, 64, 67, 0.3), 0px 1px 3px 1px rgba(60, 64, 67, 0.15);\n",
              "      fill: #174EA6;\n",
              "    }\n",
              "\n",
              "    [theme=dark] .colab-df-convert {\n",
              "      background-color: #3B4455;\n",
              "      fill: #D2E3FC;\n",
              "    }\n",
              "\n",
              "    [theme=dark] .colab-df-convert:hover {\n",
              "      background-color: #434B5C;\n",
              "      box-shadow: 0px 1px 3px 1px rgba(0, 0, 0, 0.15);\n",
              "      filter: drop-shadow(0px 1px 2px rgba(0, 0, 0, 0.3));\n",
              "      fill: #FFFFFF;\n",
              "    }\n",
              "  </style>\n",
              "\n",
              "      <script>\n",
              "        const buttonEl =\n",
              "          document.querySelector('#df-bf8a9d37-b794-4ae4-94df-dbcc324e53fc button.colab-df-convert');\n",
              "        buttonEl.style.display =\n",
              "          google.colab.kernel.accessAllowed ? 'block' : 'none';\n",
              "\n",
              "        async function convertToInteractive(key) {\n",
              "          const element = document.querySelector('#df-bf8a9d37-b794-4ae4-94df-dbcc324e53fc');\n",
              "          const dataTable =\n",
              "            await google.colab.kernel.invokeFunction('convertToInteractive',\n",
              "                                                     [key], {});\n",
              "          if (!dataTable) return;\n",
              "\n",
              "          const docLinkHtml = 'Like what you see? Visit the ' +\n",
              "            '<a target=\"_blank\" href=https://colab.research.google.com/notebooks/data_table.ipynb>data table notebook</a>'\n",
              "            + ' to learn more about interactive tables.';\n",
              "          element.innerHTML = '';\n",
              "          dataTable['output_type'] = 'display_data';\n",
              "          await google.colab.output.renderOutput(dataTable, element);\n",
              "          const docLink = document.createElement('div');\n",
              "          docLink.innerHTML = docLinkHtml;\n",
              "          element.appendChild(docLink);\n",
              "        }\n",
              "      </script>\n",
              "    </div>\n",
              "  </div>\n",
              "  "
            ]
          },
          "metadata": {},
          "execution_count": 1
        }
      ],
      "source": [
        "from sklearn.datasets import load_iris\n",
        "import pandas as pd\n",
        "import matplotlib.pyplot as plt\n",
        "%matplotlib inline\n",
        "\n",
        "iris = load_iris()\n",
        "columns = ['sepal_length','sepal_width','petal_length', 'petal_width']\n",
        "irisDF = pd.DataFrame(iris.data, columns = columns)\n",
        "irisDF['target'] = iris.target\n",
        "irisDF.head(3)"
      ]
    },
    {
      "cell_type": "code",
      "source": [
        "#데이터 세트 분포 시각화\n",
        "#setosa는 세모, versicolor는 네모, virginica는 동그라미\n",
        "\n",
        "markers = ['^','s','o']\n",
        "\n",
        "for i, marker in enumerate(markers) :\n",
        "  x_axis_data = irisDF[irisDF['target']==i]['sepal_length']\n",
        "  y_axis_data = irisDF[irisDF['target']==i]['sepal_width']\n",
        "  plt.scatter(x_axis_data,y_axis_data,marker = marker,label = iris.target_names[i])\n",
        "\n",
        "plt.legend()\n",
        "plt.xlabel('sepal length')\n",
        "plt.ylabel('sepal width')\n",
        "plt.show()"
      ],
      "metadata": {
        "colab": {
          "base_uri": "https://localhost:8080/",
          "height": 282
        },
        "id": "uahBDon-k7t2",
        "outputId": "31ce6974-c84e-4eef-c27a-9f8b1d8dfabf"
      },
      "execution_count": null,
      "outputs": [
        {
          "output_type": "display_data",
          "data": {
            "text/plain": [
              "<Figure size 432x288 with 1 Axes>"
            ],
            "image/png": "[encoded data removed]"
          },
          "metadata": {
            "needs_background": "light"
          }
        }
      ]
    },
    {
      "cell_type": "code",
      "source": [
        "from sklearn.preprocessing import StandardScaler\n",
        "\n",
        "iris_scaled = StandardScaler().fit_transform(irisDF.iloc[:,:-1])"
      ],
      "metadata": {
        "id": "vag8Xs6Mk-ex"
      },
      "execution_count": null,
      "outputs": []
    },
    {
      "cell_type": "code",
      "source": [
        "from sklearn.decomposition import PCA\n",
        "\n",
        "pca = PCA(n_components = 2)\n",
        "pca.fit(iris_scaled)\n",
        "iris_pca = pca.transform(iris_scaled)\n",
        "print(iris_pca.shape)"
      ],
      "metadata": {
        "colab": {
          "base_uri": "https://localhost:8080/"
        },
        "id": "LJ0SdkbAlAxz",
        "outputId": "e67c3b24-540a-4730-9233-65cbd78b6b7f"
      },
      "execution_count": null,
      "outputs": [
        {
          "output_type": "stream",
          "name": "stdout",
          "text": [
            "(150, 2)\n"
          ]
        }
      ]
    },
    {
      "cell_type": "code",
      "source": [
        "pca_columns = ['pca_component_1','pca_component_2']\n",
        "irisDF_pca = pd.DataFrame(iris_pca, columns = pca_columns)\n",
        "irisDF_pca['target'] = iris.target\n",
        "irisDF_pca.head(3)"
      ],
      "metadata": {
        "colab": {
          "base_uri": "https://localhost:8080/",
          "height": 143
        },
        "id": "Sqd8nGOqlB8M",
        "outputId": "5225329b-5afd-42b0-f62b-5b33e610a4cd"
      },
      "execution_count": null,
      "outputs": [
        {
          "output_type": "execute_result",
          "data": {
            "text/plain": [
              "   pca_component_1  pca_component_2  target\n",
              "0        -2.264703         0.480027       0\n",
              "1        -2.080961        -0.674134       0\n",
              "2        -2.364229        -0.341908       0"
            ],
            "text/html": [
              "\n",
              "  <div id=\"df-dfb78af6-0577-4a12-8c2a-d37150821e38\">\n",
              "    <div class=\"colab-df-container\">\n",
              "      <div>\n",
              "<style scoped>\n",
              "    .dataframe tbody tr th:only-of-type {\n",
              "        vertical-align: middle;\n",
              "    }\n",
              "\n",
              "    .dataframe tbody tr th {\n",
              "        vertical-align: top;\n",
              "    }\n",
              "\n",
              "    .dataframe thead th {\n",
              "        text-align: right;\n",
              "    }\n",
              "</style>\n",
              "<table border=\"1\" class=\"dataframe\">\n",
              "  <thead>\n",
              "    <tr style=\"text-align: right;\">\n",
              "      <th></th>\n",
              "      <th>pca_component_1</th>\n",
              "      <th>pca_component_2</th>\n",
              "      <th>target</th>\n",
              "    </tr>\n",
              "  </thead>\n",
              "  <tbody>\n",
              "    <tr>\n",
              "      <th>0</th>\n",
              "      <td>-2.264703</td>\n",
              "      <td>0.480027</td>\n",
              "      <td>0</td>\n",
              "    </tr>\n",
              "    <tr>\n",
              "      <th>1</th>\n",
              "      <td>-2.080961</td>\n",
              "      <td>-0.674134</td>\n",
              "      <td>0</td>\n",
              "    </tr>\n",
              "    <tr>\n",
              "      <th>2</th>\n",
              "      <td>-2.364229</td>\n",
              "      <td>-0.341908</td>\n",
              "      <td>0</td>\n",
              "    </tr>\n",
              "  </tbody>\n",
              "</table>\n",
              "</div>\n",
              "      <button class=\"colab-df-convert\" onclick=\"convertToInteractive('df-dfb78af6-0577-4a12-8c2a-d37150821e38')\"\n",
              "              title=\"Convert this dataframe to an interactive table.\"\n",
              "              style=\"display:none;\">\n",
              "        \n",
              "  <svg xmlns=\"http://www.w3.org/2000/svg\" height=\"24px\"viewBox=\"0 0 24 24\"\n",
              "       width=\"24px\">\n",
              "    <path d=\"M0 0h24v24H0V0z\" fill=\"none\"/>\n",
              "    <path d=\"M18.56 5.44l.94 2.06.94-2.06 2.06-.94-2.06-.94-.94-2.06-.94 2.06-2.06.94zm-11 1L8.5 8.5l.94-2.06 2.06-.94-2.06-.94L8.5 2.5l-.94 2.06-2.06.94zm10 10l.94 2.06.94-2.06 2.06-.94-2.06-.94-.94-2.06-.94 2.06-2.06.94z\"/><path d=\"M17.41 7.96l-1.37-1.37c-.4-.4-.92-.59-1.43-.59-.52 0-1.04.2-1.43.59L10.3 9.45l-7.72 7.72c-.78.78-.78 2.05 0 2.83L4 21.41c.39.39.9.59 1.41.59.51 0 1.02-.2 1.41-.59l7.78-7.78 2.81-2.81c.8-.78.8-2.07 0-2.86zM5.41 20L4 18.59l7.72-7.72 1.47 1.35L5.41 20z\"/>\n",
              "  </svg>\n",
              "      </button>\n",
              "      \n",
              "  <style>\n",
              "    .colab-df-container {\n",
              "      display:flex;\n",
              "      flex-wrap:wrap;\n",
              "      gap: 12px;\n",
              "    }\n",
              "\n",
              "    .colab-df-convert {\n",
              "      background-color: #E8F0FE;\n",
              "      border: none;\n",
              "      border-radius: 50%;\n",
              "      cursor: pointer;\n",
              "      display: none;\n",
              "      fill: #1967D2;\n",
              "      height: 32px;\n",
              "      padding: 0 0 0 0;\n",
              "      width: 32px;\n",
              "    }\n",
              "\n",
              "    .colab-df-convert:hover {\n",
              "      background-color: #E2EBFA;\n",
              "      box-shadow: 0px 1px 2px rgba(60, 64, 67, 0.3), 0px 1px 3px 1px rgba(60, 64, 67, 0.15);\n",
              "      fill: #174EA6;\n",
              "    }\n",
              "\n",
              "    [theme=dark] .colab-df-convert {\n",
              "      background-color: #3B4455;\n",
              "      fill: #D2E3FC;\n",
              "    }\n",
              "\n",
              "    [theme=dark] .colab-df-convert:hover {\n",
              "      background-color: #434B5C;\n",
              "      box-shadow: 0px 1px 3px 1px rgba(0, 0, 0, 0.15);\n",
              "      filter: drop-shadow(0px 1px 2px rgba(0, 0, 0, 0.3));\n",
              "      fill: #FFFFFF;\n",
              "    }\n",
              "  </style>\n",
              "\n",
              "      <script>\n",
              "        const buttonEl =\n",
              "          document.querySelector('#df-dfb78af6-0577-4a12-8c2a-d37150821e38 button.colab-df-convert');\n",
              "        buttonEl.style.display =\n",
              "          google.colab.kernel.accessAllowed ? 'block' : 'none';\n",
              "\n",
              "        async function convertToInteractive(key) {\n",
              "          const element = document.querySelector('#df-dfb78af6-0577-4a12-8c2a-d37150821e38');\n",
              "          const dataTable =\n",
              "            await google.colab.kernel.invokeFunction('convertToInteractive',\n",
              "                                                     [key], {});\n",
              "          if (!dataTable) return;\n",
              "\n",
              "          const docLinkHtml = 'Like what you see? Visit the ' +\n",
              "            '<a target=\"_blank\" href=https://colab.research.google.com/notebooks/data_table.ipynb>data table notebook</a>'\n",
              "            + ' to learn more about interactive tables.';\n",
              "          element.innerHTML = '';\n",
              "          dataTable['output_type'] = 'display_data';\n",
              "          await google.colab.output.renderOutput(dataTable, element);\n",
              "          const docLink = document.createElement('div');\n",
              "          docLink.innerHTML = docLinkHtml;\n",
              "          element.appendChild(docLink);\n",
              "        }\n",
              "      </script>\n",
              "    </div>\n",
              "  </div>\n",
              "  "
            ]
          },
          "metadata": {},
          "execution_count": 5
        }
      ]
    },
    {
      "cell_type": "code",
      "source": [
        "markers = ['^','s','o']\n",
        "\n",
        "for i, marker in enumerate(markers) :\n",
        "  x_axis_data = irisDF_pca[irisDF_pca['target']==i]['pca_component_1']\n",
        "  y_axis_data = irisDF_pca[irisDF_pca['target']==i]['pca_component_2']\n",
        "  plt.scatter(x_axis_data,y_axis_data,marker = marker,label= iris.target_names[i])\n",
        "\n",
        "plt.legend()\n",
        "plt.xlabel('pca_component_1')\n",
        "plt.ylabel('pca_component_2')\n",
        "plt.show()"
      ],
      "metadata": {
        "colab": {
          "base_uri": "https://localhost:8080/",
          "height": 280
        },
        "id": "FcK-NmfYlDhW",
        "outputId": "f6488a4a-a07b-4a6d-99f0-141960056c0c"
      },
      "execution_count": null,
      "outputs": [
        {
          "output_type": "display_data",
          "data": {
            "text/plain": [
              "<Figure size 432x288 with 1 Axes>"
            ],
            "image/png": "[encoded data removed]"
          },
          "metadata": {
            "needs_background": "light"
          }
        }
      ]
    },
    {
      "cell_type": "code",
      "source": [
        "print(pca.explained_variance_ratio_)"
      ],
      "metadata": {
        "colab": {
          "base_uri": "https://localhost:8080/"
        },
        "id": "0YMwTxrXlHv_",
        "outputId": "65362766-8ad0-4d69-dd0f-4ac52caf1329"
      },
      "execution_count": null,
      "outputs": [
        {
          "output_type": "stream",
          "name": "stdout",
          "text": [
            "[0.72962445 0.22850762]\n"
          ]
        }
      ]
    },
    {
      "cell_type": "code",
      "source": [
        "from sklearn.ensemble import RandomForestClassifier\n",
        "from sklearn.model_selection import cross_val_score\n",
        "import numpy as np\n",
        "\n",
        "rcf = RandomForestClassifier(random_state = 156)\n",
        "scores = cross_val_score(rcf,iris.data,iris.target, scoring = 'accuracy',cv = 3)\n",
        "print('원본 데이터 교차 검증 개별 정확도 :', scores)\n",
        "print('원본 데이터 평균 정확도 :', np.mean(scores))"
      ],
      "metadata": {
        "colab": {
          "base_uri": "https://localhost:8080/"
        },
        "id": "WHRLCQw-lImD",
        "outputId": "59af1dd4-1dbb-4616-d842-941d7ccd7e8e"
      },
      "execution_count": null,
      "outputs": [
        {
          "output_type": "stream",
          "name": "stdout",
          "text": [
            "원본 데이터 교차 검증 개별 정확도 : [0.98 0.94 0.96]\n",
            "원본 데이터 평균 정확도 : 0.96\n"
          ]
        }
      ]
    },
    {
      "cell_type": "code",
      "source": [
        "#2차원으로 PCA변환한 데이터 세트에 랜덤 포레스트 적용\n",
        "pca_X = irisDF_pca[['pca_component_1','pca_component_2']]\n",
        "scores_pca = cross_val_score(rcf, pca_X, iris.target,scoring = 'accuracy',cv = 3)\n",
        "print('PCA 변환 데이터 교차 검증 개별 정확도 : ', scores_pca)\n",
        "print('PCA 변한 데이터 평균 정확도 :',np.mean(scores_pca))"
      ],
      "metadata": {
        "colab": {
          "base_uri": "https://localhost:8080/"
        },
        "id": "p99q-AS_lMGe",
        "outputId": "772aaf14-ee30-4f6d-a4b1-8b571526db34"
      },
      "execution_count": null,
      "outputs": [
        {
          "output_type": "stream",
          "name": "stdout",
          "text": [
            "PCA 변환 데이터 교차 검증 개별 정확도 :  [0.88 0.88 0.88]\n",
            "PCA 변한 데이터 평균 정확도 : 0.88\n"
          ]
        }
      ]
    },
    {
      "cell_type": "markdown",
      "source": [
        "* 신용카드 고객 데이터"
      ],
      "metadata": {
        "id": "BMMCHfJglgVE"
      }
    },
    {
      "cell_type": "code",
      "source": [
        "pip install --upgrade xlrd"
      ],
      "metadata": {
        "colab": {
          "base_uri": "https://localhost:8080/",
          "height": 305
        },
        "id": "JI0gp_5qlqXq",
        "outputId": "837ab82b-1427-4b9c-9ae3-d6e39752345a"
      },
      "execution_count": 2,
      "outputs": [
        {
          "output_type": "stream",
          "name": "stdout",
          "text": [
            "Looking in indexes: https://pypi.org/simple, https://us-python.pkg.dev/colab-wheels/public/simple/\n",
            "Requirement already satisfied: xlrd in /usr/local/lib/python3.7/dist-packages (1.1.0)\n",
            "Collecting xlrd\n",
            "  Downloading xlrd-2.0.1-py2.py3-none-any.whl (96 kB)\n",
            "\u001b[K     |████████████████████████████████| 96 kB 2.7 MB/s \n",
            "\u001b[?25hInstalling collected packages: xlrd\n",
            "  Attempting uninstall: xlrd\n",
            "    Found existing installation: xlrd 1.1.0\n",
            "    Uninstalling xlrd-1.1.0:\n",
            "      Successfully uninstalled xlrd-1.1.0\n",
            "Successfully installed xlrd-2.0.1\n"
          ]
        },
        {
          "output_type": "display_data",
          "data": {
            "application/vnd.colab-display-data+json": {
              "pip_warning": {
                "packages": [
                  "xlrd"
                ]
              }
            }
          },
          "metadata": {}
        }
      ]
    },
    {
      "cell_type": "code",
      "source": [
        "import pandas as pd\n",
        "\n",
        "df = pd.read_excel('/content/drive/MyDrive/DATA/credit.card.xls',header = 1, sheet_name = 'Data').iloc[0:,1:]\n",
        "print(df.shape)\n",
        "df.head(3)"
      ],
      "metadata": {
        "colab": {
          "base_uri": "https://localhost:8080/",
          "height": 307
        },
        "id": "IWllvyFClSZe",
        "outputId": "b8410e9f-0790-4fbb-8edd-5d6ef47ff198"
      },
      "execution_count": 1,
      "outputs": [
        {
          "output_type": "stream",
          "name": "stdout",
          "text": [
            "(30000, 24)\n"
          ]
        },
        {
          "output_type": "execute_result",
          "data": {
            "text/plain": [
              "   LIMIT_BAL  SEX  EDUCATION  MARRIAGE  AGE  PAY_0  PAY_2  PAY_3  PAY_4  \\\n",
              "0      20000    2          2         1   24      2      2     -1     -1   \n",
              "1     120000    2          2         2   26     -1      2      0      0   \n",
              "2      90000    2          2         2   34      0      0      0      0   \n",
              "\n",
              "   PAY_5  ...  BILL_AMT4  BILL_AMT5  BILL_AMT6  PAY_AMT1  PAY_AMT2  PAY_AMT3  \\\n",
              "0     -2  ...          0          0          0         0       689         0   \n",
              "1      0  ...       3272       3455       3261         0      1000      1000   \n",
              "2      0  ...      14331      14948      15549      1518      1500      1000   \n",
              "\n",
              "   PAY_AMT4  PAY_AMT5  PAY_AMT6  default payment next month  \n",
              "0         0         0         0                           1  \n",
              "1      1000         0      2000                           1  \n",
              "2      1000      1000      5000                           0  \n",
              "\n",
              "[3 rows x 24 columns]"
            ],
            "text/html": [
              "\n",
              "  <div id=\"df-0209e01f-8792-42d9-a6aa-ad1ebe345646\">\n",
              "    <div class=\"colab-df-container\">\n",
              "      <div>\n",
              "<style scoped>\n",
              "    .dataframe tbody tr th:only-of-type {\n",
              "        vertical-align: middle;\n",
              "    }\n",
              "\n",
              "    .dataframe tbody tr th {\n",
              "        vertical-align: top;\n",
              "    }\n",
              "\n",
              "    .dataframe thead th {\n",
              "        text-align: right;\n",
              "    }\n",
              "</style>\n",
              "<table border=\"1\" class=\"dataframe\">\n",
              "  <thead>\n",
              "    <tr style=\"text-align: right;\">\n",
              "      <th></th>\n",
              "      <th>LIMIT_BAL</th>\n",
              "      <th>SEX</th>\n",
              "      <th>EDUCATION</th>\n",
              "      <th>MARRIAGE</th>\n",
              "      <th>AGE</th>\n",
              "      <th>PAY_0</th>\n",
              "      <th>PAY_2</th>\n",
              "      <th>PAY_3</th>\n",
              "      <th>PAY_4</th>\n",
              "      <th>PAY_5</th>\n",
              "      <th>...</th>\n",
              "      <th>BILL_AMT4</th>\n",
              "      <th>BILL_AMT5</th>\n",
              "      <th>BILL_AMT6</th>\n",
              "      <th>PAY_AMT1</th>\n",
              "      <th>PAY_AMT2</th>\n",
              "      <th>PAY_AMT3</th>\n",
              "      <th>PAY_AMT4</th>\n",
              "      <th>PAY_AMT5</th>\n",
              "      <th>PAY_AMT6</th>\n",
              "      <th>default payment next month</th>\n",
              "    </tr>\n",
              "  </thead>\n",
              "  <tbody>\n",
              "    <tr>\n",
              "      <th>0</th>\n",
              "      <td>20000</td>\n",
              "      <td>2</td>\n",
              "      <td>2</td>\n",
              "      <td>1</td>\n",
              "      <td>24</td>\n",
              "      <td>2</td>\n",
              "      <td>2</td>\n",
              "      <td>-1</td>\n",
              "      <td>-1</td>\n",
              "      <td>-2</td>\n",
              "      <td>...</td>\n",
              "      <td>0</td>\n",
              "      <td>0</td>\n",
              "      <td>0</td>\n",
              "      <td>0</td>\n",
              "      <td>689</td>\n",
              "      <td>0</td>\n",
              "      <td>0</td>\n",
              "      <td>0</td>\n",
              "      <td>0</td>\n",
              "      <td>1</td>\n",
              "    </tr>\n",
              "    <tr>\n",
              "      <th>1</th>\n",
              "      <td>120000</td>\n",
              "      <td>2</td>\n",
              "      <td>2</td>\n",
              "      <td>2</td>\n",
              "      <td>26</td>\n",
              "      <td>-1</td>\n",
              "      <td>2</td>\n",
              "      <td>0</td>\n",
              "      <td>0</td>\n",
              "      <td>0</td>\n",
              "      <td>...</td>\n",
              "      <td>3272</td>\n",
              "      <td>3455</td>\n",
              "      <td>3261</td>\n",
              "      <td>0</td>\n",
              "      <td>1000</td>\n",
              "      <td>1000</td>\n",
              "      <td>1000</td>\n",
              "      <td>0</td>\n",
              "      <td>2000</td>\n",
              "      <td>1</td>\n",
              "    </tr>\n",
              "    <tr>\n",
              "      <th>2</th>\n",
              "      <td>90000</td>\n",
              "      <td>2</td>\n",
              "      <td>2</td>\n",
              "      <td>2</td>\n",
              "      <td>34</td>\n",
              "      <td>0</td>\n",
              "      <td>0</td>\n",
              "      <td>0</td>\n",
              "      <td>0</td>\n",
              "      <td>0</td>\n",
              "      <td>...</td>\n",
              "      <td>14331</td>\n",
              "      <td>14948</td>\n",
              "      <td>15549</td>\n",
              "      <td>1518</td>\n",
              "      <td>1500</td>\n",
              "      <td>1000</td>\n",
              "      <td>1000</td>\n",
              "      <td>1000</td>\n",
              "      <td>5000</td>\n",
              "      <td>0</td>\n",
              "    </tr>\n",
              "  </tbody>\n",
              "</table>\n",
              "<p>3 rows × 24 columns</p>\n",
              "</div>\n",
              "      <button class=\"colab-df-convert\" onclick=\"convertToInteractive('df-0209e01f-8792-42d9-a6aa-ad1ebe345646')\"\n",
              "              title=\"Convert this dataframe to an interactive table.\"\n",
              "              style=\"display:none;\">\n",
              "        \n",
              "  <svg xmlns=\"http://www.w3.org/2000/svg\" height=\"24px\"viewBox=\"0 0 24 24\"\n",
              "       width=\"24px\">\n",
              "    <path d=\"M0 0h24v24H0V0z\" fill=\"none\"/>\n",
              "    <path d=\"M18.56 5.44l.94 2.06.94-2.06 2.06-.94-2.06-.94-.94-2.06-.94 2.06-2.06.94zm-11 1L8.5 8.5l.94-2.06 2.06-.94-2.06-.94L8.5 2.5l-.94 2.06-2.06.94zm10 10l.94 2.06.94-2.06 2.06-.94-2.06-.94-.94-2.06-.94 2.06-2.06.94z\"/><path d=\"M17.41 7.96l-1.37-1.37c-.4-.4-.92-.59-1.43-.59-.52 0-1.04.2-1.43.59L10.3 9.45l-7.72 7.72c-.78.78-.78 2.05 0 2.83L4 21.41c.39.39.9.59 1.41.59.51 0 1.02-.2 1.41-.59l7.78-7.78 2.81-2.81c.8-.78.8-2.07 0-2.86zM5.41 20L4 18.59l7.72-7.72 1.47 1.35L5.41 20z\"/>\n",
              "  </svg>\n",
              "      </button>\n",
              "      \n",
              "  <style>\n",
              "    .colab-df-container {\n",
              "      display:flex;\n",
              "      flex-wrap:wrap;\n",
              "      gap: 12px;\n",
              "    }\n",
              "\n",
              "    .colab-df-convert {\n",
              "      background-color: #E8F0FE;\n",
              "      border: none;\n",
              "      border-radius: 50%;\n",
              "      cursor: pointer;\n",
              "      display: none;\n",
              "      fill: #1967D2;\n",
              "      height: 32px;\n",
              "      padding: 0 0 0 0;\n",
              "      width: 32px;\n",
              "    }\n",
              "\n",
              "    .colab-df-convert:hover {\n",
              "      background-color: #E2EBFA;\n",
              "      box-shadow: 0px 1px 2px rgba(60, 64, 67, 0.3), 0px 1px 3px 1px rgba(60, 64, 67, 0.15);\n",
              "      fill: #174EA6;\n",
              "    }\n",
              "\n",
              "    [theme=dark] .colab-df-convert {\n",
              "      background-color: #3B4455;\n",
              "      fill: #D2E3FC;\n",
              "    }\n",
              "\n",
              "    [theme=dark] .colab-df-convert:hover {\n",
              "      background-color: #434B5C;\n",
              "      box-shadow: 0px 1px 3px 1px rgba(0, 0, 0, 0.15);\n",
              "      filter: drop-shadow(0px 1px 2px rgba(0, 0, 0, 0.3));\n",
              "      fill: #FFFFFF;\n",
              "    }\n",
              "  </style>\n",
              "\n",
              "      <script>\n",
              "        const buttonEl =\n",
              "          document.querySelector('#df-0209e01f-8792-42d9-a6aa-ad1ebe345646 button.colab-df-convert');\n",
              "        buttonEl.style.display =\n",
              "          google.colab.kernel.accessAllowed ? 'block' : 'none';\n",
              "\n",
              "        async function convertToInteractive(key) {\n",
              "          const element = document.querySelector('#df-0209e01f-8792-42d9-a6aa-ad1ebe345646');\n",
              "          const dataTable =\n",
              "            await google.colab.kernel.invokeFunction('convertToInteractive',\n",
              "                                                     [key], {});\n",
              "          if (!dataTable) return;\n",
              "\n",
              "          const docLinkHtml = 'Like what you see? Visit the ' +\n",
              "            '<a target=\"_blank\" href=https://colab.research.google.com/notebooks/data_table.ipynb>data table notebook</a>'\n",
              "            + ' to learn more about interactive tables.';\n",
              "          element.innerHTML = '';\n",
              "          dataTable['output_type'] = 'display_data';\n",
              "          await google.colab.output.renderOutput(dataTable, element);\n",
              "          const docLink = document.createElement('div');\n",
              "          docLink.innerHTML = docLinkHtml;\n",
              "          element.appendChild(docLink);\n",
              "        }\n",
              "      </script>\n",
              "    </div>\n",
              "  </div>\n",
              "  "
            ]
          },
          "metadata": {},
          "execution_count": 1
        }
      ]
    },
    {
      "cell_type": "code",
      "source": [
        "df.rename(columns = {'PAY_0' : 'PAY_1', 'default payment next month':'default'}, inplace = True)\n",
        "y_target = df['default']\n",
        "X_features = df.drop('default',axis = 1)"
      ],
      "metadata": {
        "id": "UYD-PnNdmPYI"
      },
      "execution_count": 2,
      "outputs": []
    },
    {
      "cell_type": "code",
      "source": [
        "import seaborn as sns\n",
        "import matplotlib.pyplot as pandas\n",
        "%matplotlib inline\n",
        "\n",
        "corr = X_features.corr()\n",
        "plt.figure(figsize = (14,14))\n",
        "sns.heatmap(corr,annot=True,fmt = '.1g')"
      ],
      "metadata": {
        "colab": {
          "base_uri": "https://localhost:8080/",
          "height": 225
        },
        "id": "oKQJ5EpGnNQF",
        "outputId": "0a049eca-23b9-4d25-b812-410e8bfed260"
      },
      "execution_count": 3,
      "outputs": [
        {
          "output_type": "error",
          "ename": "NameError",
          "evalue": "ignored",
          "traceback": [
            "\u001b[0;31m---------------------------------------------------------------------------\u001b[0m",
            "\u001b[0;31mNameError\u001b[0m                                 Traceback (most recent call last)",
            "\u001b[0;32m<ipython-input-3-78ff651d5710>\u001b[0m in \u001b[0;36m<module>\u001b[0;34m()\u001b[0m\n\u001b[1;32m      4\u001b[0m \u001b[0;34m\u001b[0m\u001b[0m\n\u001b[1;32m      5\u001b[0m \u001b[0mcorr\u001b[0m \u001b[0;34m=\u001b[0m \u001b[0mX_features\u001b[0m\u001b[0;34m.\u001b[0m\u001b[0mcorr\u001b[0m\u001b[0;34m(\u001b[0m\u001b[0;34m)\u001b[0m\u001b[0;34m\u001b[0m\u001b[0;34m\u001b[0m\u001b[0m\n\u001b[0;32m----> 6\u001b[0;31m \u001b[0mplt\u001b[0m\u001b[0;34m.\u001b[0m\u001b[0mfigure\u001b[0m\u001b[0;34m(\u001b[0m\u001b[0mfigsize\u001b[0m \u001b[0;34m=\u001b[0m \u001b[0;34m(\u001b[0m\u001b[0;36m14\u001b[0m\u001b[0;34m,\u001b[0m\u001b[0;36m14\u001b[0m\u001b[0;34m)\u001b[0m\u001b[0;34m)\u001b[0m\u001b[0;34m\u001b[0m\u001b[0;34m\u001b[0m\u001b[0m\n\u001b[0m\u001b[1;32m      7\u001b[0m \u001b[0msns\u001b[0m\u001b[0;34m.\u001b[0m\u001b[0mheatmap\u001b[0m\u001b[0;34m(\u001b[0m\u001b[0mcorr\u001b[0m\u001b[0;34m,\u001b[0m\u001b[0mannot\u001b[0m\u001b[0;34m=\u001b[0m\u001b[0;32mTrue\u001b[0m\u001b[0;34m,\u001b[0m\u001b[0mfmt\u001b[0m \u001b[0;34m=\u001b[0m \u001b[0;34m'.1g'\u001b[0m\u001b[0;34m)\u001b[0m\u001b[0;34m\u001b[0m\u001b[0;34m\u001b[0m\u001b[0m\n",
            "\u001b[0;31mNameError\u001b[0m: name 'plt' is not defined"
          ]
        }
      ]
    },
    {
      "cell_type": "code",
      "source": [
        "from sklearn.decomposition import PCA\n",
        "from sklearn.preprocessing import StandardScaler\n",
        "\n",
        "cols_bill = ['BILL_AMT'+str(i) for i in range(1,7)]\n",
        "print('대상 속성명',cols_bill)\n",
        "\n",
        "scaler = StandardScaler()\n",
        "df_cols_scaled = scaler.fit_transform(X_features[cols_bill])\n",
        "pca = PCA(n_components = 2)\n",
        "pca.fit(df_cols_scaled)\n",
        "print(\"PCA Component별 변동성 :\", pca.explained_variance_ratio_)"
      ],
      "metadata": {
        "id": "ABBrUQMDnQMU"
      },
      "execution_count": null,
      "outputs": []
    },
    {
      "cell_type": "code",
      "source": [
        "import numpy as np\n",
        "from sklearn.ensemble import RandomForestClassifier\n",
        "from sklearn.model_selection import cross_val_score\n",
        "\n",
        "rcf = RandomForestClassifier(n_estimators = 300, random_state = 156)\n",
        "scores = cross_val_score(rcf,X_features,y_target,scoring = 'accuracy',cv = 3)\n",
        "\n",
        "print('CV=3인 경우 개별 Fold세트별 정확도 :',scores)\n",
        "print('평균 정확도 : {0:.4f}'.format(np.mean(scores)))\n"
      ],
      "metadata": {
        "id": "HyRr-3QmnSsq"
      },
      "execution_count": null,
      "outputs": []
    },
    {
      "cell_type": "code",
      "source": [
        "from sklearn.decomposition import PCA\n",
        "from sklearn.preprocessing import StandardScaler\n",
        "\n",
        "scaler = StandardScaler()\n",
        "df_scaled = scaler.fit_transform(X_features)\n",
        "\n",
        "pca = PCA(n_components = 6)\n",
        "df_pca = pca.fit_transform(df_scaled)\n",
        "scores_pca = cross_val_score(rcf,df_pca,y_target,scoring = 'accuracy',cv =3)\n",
        "\n",
        "print('CV=3인 경우 개별 Fold세트별 정확도 :',scores_pca)\n",
        "print('PCA 변환 데이터 세트 평균 정확도 : {0:.4f}'.format(np.mean(scores)))"
      ],
      "metadata": {
        "id": "FQ5l_8SlnT9T"
      },
      "execution_count": null,
      "outputs": []
    },
    {
      "cell_type": "markdown",
      "source": [
        "### 1) LDA 개요\n",
        ": 지도학습의 분류에서 사용하기 쉽도록 개별 클래스를 분별할 수 있는 기준을 최대한 유지하면서 차원축소\n",
        "\n",
        "-> `입력 데이터의 결정 값 클래스를 최대한 분리할 수 있는 축`\n",
        "\n",
        "* 클래스간 분산은 최대한 **크게** 가져가고, 클래스 내부의 분산은 최대한 **작게**가져가는 방식\n",
        "\n",
        "```\n",
        "1. 클래스 내부와 클래스 간 분산 행렬 구함. 이 두개의 행렬은 입력 데이터의 결정 값 클래스별로 개별 피처의 평균 벡터를 기반으로 구함\n",
        "2. 클래스 내부 분산 행렬을 Sw, 클래스간 분산 행렬을 Sb라고 하면 Sw.T*Sb를 통해 고유벡터로 분해할 수 있음\n",
        "3. 고유값이 가장 큰 순으로 K(LDA변환 차수)개만큼 추출\n",
        "4. 고유값이 가장 큰 순으로 추출된 고유벡터를 이용해 새롭게 입력 데이터 변환\n",
        "```"
      ],
      "metadata": {
        "id": "EPdMB_Pjnzue"
      }
    },
    {
      "cell_type": "markdown",
      "source": [
        "### 2) 붓꽃 데이터 세트에 LDA 적용하기"
      ],
      "metadata": {
        "id": "Y7vhABq3n3GP"
      }
    },
    {
      "cell_type": "code",
      "source": [
        "from sklearn.discriminant_analysis import LinearDiscriminantAnalysis\n",
        "from sklearn.preprocessing import StandardScaler\n",
        "from sklearn.datasets import load_iris\n",
        "\n",
        "iris = load_iris()\n",
        "iris_scaled = StandardScaler().fit_transform(iris.data)"
      ],
      "metadata": {
        "id": "iCqPKX6un0aM"
      },
      "execution_count": 4,
      "outputs": []
    },
    {
      "cell_type": "code",
      "source": [
        "lda = LinearDiscriminantAnalysis(n_components = 2)\n",
        "lda.fit(iris_scaled,iris.target)\n",
        "iris_lda = lda.transform(iris_scaled)\n",
        "print(iris_lda.shape)"
      ],
      "metadata": {
        "colab": {
          "base_uri": "https://localhost:8080/"
        },
        "id": "kL6kaK9tn7R2",
        "outputId": "f89619e8-6f5e-430d-a3af-f29142d92104"
      },
      "execution_count": 5,
      "outputs": [
        {
          "output_type": "stream",
          "name": "stdout",
          "text": [
            "(150, 2)\n"
          ]
        }
      ]
    },
    {
      "cell_type": "code",
      "source": [
        "#2차원 평면에 품종별 표현\n",
        "\n",
        "import pandas as pd\n",
        "import matplotlib.pyplot as plt\n",
        "%matplotlib inline\n",
        "\n",
        "lda_columns = ['lda_component_1','lda_component_2']\n",
        "irisDF_lda = pd.DataFrame(iris_lda, columns = lda_columns)\n",
        "irisDF_lda['target'] = iris.target\n",
        "\n",
        "markers = ['^','s','o']\n",
        "\n",
        "for i,marker in enumerate(markers) :\n",
        "  x_axis_data = irisDF_lda[irisDF_lda['target'] == i]['lda_component_1']\n",
        "  y_axis_data = irisDF_lda[irisDF_lda['target'] == i]['lda_component_2']\n",
        "\n",
        "  plt.scatter(x_axis_data,y_axis_data,marker = marker, label = iris.target_names[i])\n",
        "\n",
        "plt.legend(loc = 'upper right')\n",
        "plt.xlabel('lda_component_1')\n",
        "plt.ylabel('lda_component_2')\n",
        "plt.show()"
      ],
      "metadata": {
        "colab": {
          "base_uri": "https://localhost:8080/",
          "height": 284
        },
        "id": "y5kkXmnmn9j3",
        "outputId": "e3869cf4-b706-42ce-aaf7-9f69d5314043"
      },
      "execution_count": 6,
      "outputs": [
        {
          "output_type": "display_data",
          "data": {
            "text/plain": [
              "<Figure size 432x288 with 1 Axes>"
            ],
            "image/png": "[encoded data removed]"
          },
          "metadata": {
            "needs_background": "light"
          }
        }
      ]
    },
    {
      "cell_type": "markdown",
      "source": [
        "---\n",
        "## 4. SVD(Singular Value Decomposition)\n",
        "\n",
        "### 1) SVD 개요\n",
        ": PCA와 유사한 **행렬 분해 기법** 사용, 행과 열의 크기가 다른 행렬에도 적용 가능\n",
        "\n",
        "$$ A = U\\sum\\ V^T$$\n",
        "\n",
        "* $U,V$ : 특이벡터, 서로 **직교**하는 성질\n",
        "* $\\sum\\$ : 대각행렬\n",
        "\n",
        "\n",
        "* Truncated SVD : 대각 원소 중에 상위 몇 개만 추출해서 여기에 대응하는 U와 V의 원소도 함께 제거해 더욱 차원을 줄인 형태로 분해하는 것"
      ],
      "metadata": {
        "id": "n4LuJ2_yn_km"
      }
    },
    {
      "cell_type": "code",
      "source": [
        "import numpy as np\n",
        "from numpy.linalg import svd\n",
        "\n",
        "np.random.seed(121)\n",
        "a = np.random.randn(4,4)\n",
        "print(np.round(a,3))"
      ],
      "metadata": {
        "colab": {
          "base_uri": "https://localhost:8080/"
        },
        "id": "kZi84PtUoBey",
        "outputId": "3ccd374f-a827-4c58-988a-acc738745b8e"
      },
      "execution_count": 7,
      "outputs": [
        {
          "output_type": "stream",
          "name": "stdout",
          "text": [
            "[[-0.212 -0.285 -0.574 -0.44 ]\n",
            " [-0.33   1.184  1.615  0.367]\n",
            " [-0.014  0.63   1.71  -1.327]\n",
            " [ 0.402 -0.191  1.404 -1.969]]\n"
          ]
        }
      ]
    },
    {
      "cell_type": "code",
      "source": [
        "#SVD 분해는 numpy.linalg.svd에 파라미터로 원본 행렬을 입력하면 U행렬, sigma행렬, V 전치 행렬을 반환\n",
        "\n",
        "U,Sigma ,Vt = svd(a)\n",
        "print(U.shape,Sigma.shape,Vt.shape)\n",
        "print('U matrix : \\n', np.round(Sigma,3))\n",
        "print('V transpose matrix : \\n',np.round(Vt,3))"
      ],
      "metadata": {
        "colab": {
          "base_uri": "https://localhost:8080/"
        },
        "id": "_eIrR7FOoGeb",
        "outputId": "05b2d12b-57fc-4c59-a81f-a8fb282beb31"
      },
      "execution_count": 8,
      "outputs": [
        {
          "output_type": "stream",
          "name": "stdout",
          "text": [
            "(4, 4) (4,) (4, 4)\n",
            "U matrix : \n",
            " [3.423 2.023 0.463 0.079]\n",
            "V transpose matrix : \n",
            " [[ 0.041  0.224  0.786 -0.574]\n",
            " [-0.2    0.562  0.37   0.712]\n",
            " [-0.778  0.395 -0.333 -0.357]\n",
            " [-0.593 -0.692  0.366  0.189]]\n"
          ]
        }
      ]
    },
    {
      "cell_type": "code",
      "source": [
        "#원본 행렬로의 복원 : U,Sigma,Vt를 다시 내적\n",
        "#Sigma는 0이 아닌 값만 1차원으로 추출했으므로 대칭행렬로 다시 변환해야 함\n",
        "\n",
        "Sigma_mat = np.diag(Sigma)\n",
        "a_ = np.dot(np.dot(U,Sigma_mat),Vt)\n",
        "print(np.round(a_,3))"
      ],
      "metadata": {
        "colab": {
          "base_uri": "https://localhost:8080/"
        },
        "id": "nfGrQtfooIII",
        "outputId": "8eda2a11-aea0-4172-9e95-f36a2a88dcbf"
      },
      "execution_count": 9,
      "outputs": [
        {
          "output_type": "stream",
          "name": "stdout",
          "text": [
            "[[-0.212 -0.285 -0.574 -0.44 ]\n",
            " [-0.33   1.184  1.615  0.367]\n",
            " [-0.014  0.63   1.71  -1.327]\n",
            " [ 0.402 -0.191  1.404 -1.969]]\n"
          ]
        }
      ]
    },
    {
      "cell_type": "code",
      "source": [
        "a[2] = a[0] + a[1]\n",
        "a[3] = a[0]\n",
        "print(np.round(a,3))"
      ],
      "metadata": {
        "colab": {
          "base_uri": "https://localhost:8080/"
        },
        "id": "XEkXJJp9oJfe",
        "outputId": "9e10d6dd-738b-4506-d9a5-ba7dec26e77b"
      },
      "execution_count": 10,
      "outputs": [
        {
          "output_type": "stream",
          "name": "stdout",
          "text": [
            "[[-0.212 -0.285 -0.574 -0.44 ]\n",
            " [-0.33   1.184  1.615  0.367]\n",
            " [-0.542  0.899  1.041 -0.073]\n",
            " [-0.212 -0.285 -0.574 -0.44 ]]\n"
          ]
        }
      ]
    },
    {
      "cell_type": "code",
      "source": [
        "#다시 SVD를 수행해 Sigma값 확인\n",
        "U,Sigma, Vt = svd(a)\n",
        "print(U.shape,Sigma.shape,Vt.shape)\n",
        "print('Sigma Value : \\n', np.round(Sigma,3))"
      ],
      "metadata": {
        "colab": {
          "base_uri": "https://localhost:8080/"
        },
        "id": "OWXP8GftoPL9",
        "outputId": "29ef6a54-53d7-479f-85df-245f635a7292"
      },
      "execution_count": 12,
      "outputs": [
        {
          "output_type": "stream",
          "name": "stdout",
          "text": [
            "(4, 4) (4,) (4, 4)\n",
            "Sigma Value : \n",
            " [2.663 0.807 0.    0.   ]\n"
          ]
        }
      ]
    },
    {
      "cell_type": "code",
      "source": [
        "#U행렬의 경우는 Sigma와 내적을 수행하므로 SIgma의 앞 2행에 대응되는 앞 2열만 추출\n",
        "U_ = U[:,:2]\n",
        "Sigma_ = np.diag(Sigma[:2])\n",
        "\n",
        "#V 전치 행렬의 경우는 앞 2행만 추출\n",
        "Vt_ = Vt[:2]\n",
        "print(U_.shape, Sigma_.shape, Vt_.shape)\n",
        "\n",
        "#U,Sigma,Vt의 내적을 수행하며, 다시 원본 행렬 복원\n",
        "a_ = np.dot(np.dot(U_,Sigma_),Vt_)\n",
        "print(np.round(a_,3))"
      ],
      "metadata": {
        "colab": {
          "base_uri": "https://localhost:8080/"
        },
        "id": "Q5NmOb8KoT9b",
        "outputId": "092a5fed-5419-4bf8-9a21-65929fa53a50"
      },
      "execution_count": 14,
      "outputs": [
        {
          "output_type": "stream",
          "name": "stdout",
          "text": [
            "(4, 2) (2, 2) (2, 4)\n",
            "[[-0.212 -0.285 -0.574 -0.44 ]\n",
            " [-0.33   1.184  1.615  0.367]\n",
            " [-0.542  0.899  1.041 -0.073]\n",
            " [-0.212 -0.285 -0.574 -0.44 ]]\n"
          ]
        }
      ]
    },
    {
      "cell_type": "code",
      "source": [
        "import numpy as np\n",
        "from scipy.sparse.linalg import svds\n",
        "from scipy.linalg import svd\n",
        "\n",
        "#원본 행렬을 출력하고 SVD를 적용할 경우 U,Sigma, Vt의 차원 확인\n",
        "np.random.seed(121)\n",
        "matrix = np.random.random((6,6))\n",
        "print('원본 행렬 :\\n', matrix)\n",
        "U,Sigma,Vt = svd(matrix,full_matrices = False)\n",
        "print('\\n 분해 행렬 차원 :',U.shape,Sigma.shape, Vt.shape)\n",
        "print('\\n sigma값 행렬 : ', Sigma)\n",
        "\n",
        "#Truncated SVD로 Sigma 행렬의 특이값으로 4개로 하여 수행\n",
        "num_components = 4\n",
        "U_tr, Sigma_tr,Vt_tr = svds(matrix,k = num_components)\n",
        "print('\\n Truncated SVD 분해 행렬 차원 :',U_tr.shape,Sigma_tr.shape, Vt_tr.shape)\n",
        "print('\\n Truncated SVD Sigma 값 행렬 : ', Sigma_tr)\n",
        "matrix_tr = np.dot(np.dot(U_tr,np.diag(Sigma_tr)),Vt_tr)\n",
        "\n",
        "print('\\n Truncated SVD로 분해 후 복원 행렬 :\\n',matrix_tr)"
      ],
      "metadata": {
        "colab": {
          "base_uri": "https://localhost:8080/"
        },
        "id": "-fUAhljwoyPa",
        "outputId": "51ec3bfa-8f31-45ea-a9fa-ad73852c70c4"
      },
      "execution_count": 15,
      "outputs": [
        {
          "output_type": "stream",
          "name": "stdout",
          "text": [
            "원본 행렬 :\n",
            " [[0.11133083 0.21076757 0.23296249 0.15194456 0.83017814 0.40791941]\n",
            " [0.5557906  0.74552394 0.24849976 0.9686594  0.95268418 0.48984885]\n",
            " [0.01829731 0.85760612 0.40493829 0.62247394 0.29537149 0.92958852]\n",
            " [0.4056155  0.56730065 0.24575605 0.22573721 0.03827786 0.58098021]\n",
            " [0.82925331 0.77326256 0.94693849 0.73632338 0.67328275 0.74517176]\n",
            " [0.51161442 0.46920965 0.6439515  0.82081228 0.14548493 0.01806415]]\n",
            "\n",
            " 분해 행렬 차원 : (6, 6) (6,) (6, 6)\n",
            "\n",
            " sigma값 행렬 :  [3.2535007  0.88116505 0.83865238 0.55463089 0.35834824 0.0349925 ]\n",
            "\n",
            " Truncated SVD 분해 행렬 차원 : (6, 4) (4,) (4, 6)\n",
            "\n",
            " Truncated SVD Sigma 값 행렬 :  [0.55463089 0.83865238 0.88116505 3.2535007 ]\n",
            "\n",
            " Truncated SVD로 분해 후 복원 행렬 :\n",
            " [[0.19222941 0.21792946 0.15951023 0.14084013 0.81641405 0.42533093]\n",
            " [0.44874275 0.72204422 0.34594106 0.99148577 0.96866325 0.4754868 ]\n",
            " [0.12656662 0.88860729 0.30625735 0.59517439 0.28036734 0.93961948]\n",
            " [0.23989012 0.51026588 0.39697353 0.27308905 0.05971563 0.57156395]\n",
            " [0.83806144 0.78847467 0.93868685 0.72673231 0.6740867  0.73812389]\n",
            " [0.59726589 0.47953891 0.56613544 0.80746028 0.13135039 0.03479656]]\n"
          ]
        }
      ]
    },
    {
      "cell_type": "markdown",
      "source": [
        "### 2) 사이킷런 TruncatedSVD 클래스를 이용한 변환"
      ],
      "metadata": {
        "id": "hvJqzGAvpBiJ"
      }
    },
    {
      "cell_type": "code",
      "source": [
        "from sklearn.decomposition import TruncatedSVD,PCA\n",
        "from sklearn.datasets import load_iris\n",
        "import matplotlib.pyplot as plt\n",
        "%matplotlib inline\n",
        "\n",
        "iris = load_iris()\n",
        "iris_ftrs = iris.data\n",
        "#2개의 주요 컴포넌트로 TruncatedSVD 변환\n",
        "tsvd = TruncatedSVD(n_components = 2)\n",
        "tsvd.fit(iris_ftrs)\n",
        "iris_tsvd = tsvd.transform(iris_ftrs)\n",
        "\n",
        "plt.scatter(x = iris_tsvd[:,0], y = iris_tsvd[:,1],c = iris.target)\n",
        "plt.xlabel('TruncatedSVD Component 1')\n",
        "plt.ylabel('TruncatedSVD Component 2')"
      ],
      "metadata": {
        "colab": {
          "base_uri": "https://localhost:8080/",
          "height": 297
        },
        "id": "AVVzDlx4pE_G",
        "outputId": "30b75c4d-9a9f-45d3-ee97-53a3511ed185"
      },
      "execution_count": 16,
      "outputs": [
        {
          "output_type": "execute_result",
          "data": {
            "text/plain": [
              "Text(0, 0.5, 'TruncatedSVD Component 2')"
            ]
          },
          "metadata": {},
          "execution_count": 16
        },
        {
          "output_type": "display_data",
          "data": {
            "text/plain": [
              "<Figure size 432x288 with 1 Axes>"
            ],
            "image/png": "[encoded data removed]"
          },
          "metadata": {
            "needs_background": "light"
          }
        }
      ]
    },
    {
      "cell_type": "code",
      "source": [
        "from sklearn.preprocessing import StandardScaler\n",
        "\n",
        "scaler = StandardScaler()\n",
        "iris_scaled = scaler.fit_transform(iris_ftrs)\n",
        "\n",
        "#TruncatedSVD 변환 수행\n",
        "tsvd = TruncatedSVD(n_components = 2)\n",
        "tsvd.fit(iris_scaled)\n",
        "iris_tsvd = tsvd.transform(iris_scaled)\n",
        "\n",
        "pca = PCA(n_components = 2)\n",
        "pca.fit(iris_scaled)\n",
        "iris_pca = pca.transform(iris_scaled)\n",
        "\n",
        "fig,(ax1,ax2) = plt.subplots(figsize= (9,4),ncols = 2)\n",
        "ax1.scatter(x = iris_tsvd[:,0],y = iris_tsvd[:,1],c = iris.target)\n",
        "ax2.scatter(x = iris_pca[:,0],y = iris_pca[:,1],c = iris.target)\n",
        "ax1.set_title('Truncated SVD Transformed')\n",
        "ax2.set_title('PCA Transformed')"
      ],
      "metadata": {
        "colab": {
          "base_uri": "https://localhost:8080/",
          "height": 299
        },
        "id": "K2fbKJFEpLEH",
        "outputId": "e405b48a-7356-43c7-ce75-b50e48a1643e"
      },
      "execution_count": 17,
      "outputs": [
        {
          "output_type": "execute_result",
          "data": {
            "text/plain": [
              "Text(0.5, 1.0, 'PCA Transformed')"
            ]
          },
          "metadata": {},
          "execution_count": 17
        },
        {
          "output_type": "display_data",
          "data": {
            "text/plain": [
              "<Figure size 648x288 with 2 Axes>"
            ],
            "image/png": "[encoded data removed]"
          },
          "metadata": {
            "needs_background": "light"
          }
        }
      ]
    },
    {
      "cell_type": "code",
      "source": [
        "# 두개의 변환 행렬 값과 원본 속성별 컴포넌트 비율값\n",
        "\n",
        "print((iris_pca - iris_tsvd).mean())\n",
        "print((pca.components_ - tsvd.components_).mean())"
      ],
      "metadata": {
        "colab": {
          "base_uri": "https://localhost:8080/"
        },
        "id": "4UGkKx0spOv6",
        "outputId": "b6fba665-dbea-477d-fa15-9adef9c3f4cf"
      },
      "execution_count": 18,
      "outputs": [
        {
          "output_type": "stream",
          "name": "stdout",
          "text": [
            "2.339760329927998e-15\n",
            "4.85722573273506e-17\n"
          ]
        }
      ]
    },
    {
      "cell_type": "markdown",
      "source": [
        "---\n",
        "##5. NMF(Non-Negative Matrix Factorization)"
      ],
      "metadata": {
        "id": "9YATRDR0pSNo"
      }
    },
    {
      "cell_type": "code",
      "source": [
        "from sklearn.decomposition import NMF\n",
        "from sklearn.datasets import load_iris\n",
        "import matplotlib.pyplot as plt\n",
        "%matplotlib inline\n",
        "\n",
        "iris = load_iris()\n",
        "iris_ftrs = iris.data\n",
        "nmf = NMF(n_components = 2)\n",
        "nmf.fit(iris_ftrs)\n",
        "iris_nmf = nmf.transform(iris_ftrs)\n",
        "plt.scatter(x = iris_nmf[:,0],y = iris_nmf[:,1],c = iris.target)\n",
        "plt.xlabel('NMF Component 1')\n",
        "plt.ylabel('NMF Component 2')"
      ],
      "metadata": {
        "colab": {
          "base_uri": "https://localhost:8080/",
          "height": 389
        },
        "id": "hhXCRtmTpgUs",
        "outputId": "8c17ea4c-9472-4061-a5f4-90c28c2183c9"
      },
      "execution_count": 19,
      "outputs": [
        {
          "output_type": "stream",
          "name": "stderr",
          "text": [
            "/usr/local/lib/python3.7/dist-packages/sklearn/decomposition/_nmf.py:294: FutureWarning: The 'init' value, when 'init=None' and n_components is less than n_samples and n_features, will be changed from 'nndsvd' to 'nndsvda' in 1.1 (renaming of 0.26).\n",
            "  FutureWarning,\n",
            "/usr/local/lib/python3.7/dist-packages/sklearn/decomposition/_nmf.py:1641: ConvergenceWarning: Maximum number of iterations 200 reached. Increase it to improve convergence.\n",
            "  ConvergenceWarning,\n"
          ]
        },
        {
          "output_type": "execute_result",
          "data": {
            "text/plain": [
              "Text(0, 0.5, 'NMF Component 2')"
            ]
          },
          "metadata": {},
          "execution_count": 19
        },
        {
          "output_type": "display_data",
          "data": {
            "text/plain": [
              "<Figure size 432x288 with 1 Axes>"
            ],
            "image/png": "[encoded data removed]"
          },
          "metadata": {
            "needs_background": "light"
          }
        }
      ]
    }
  ]
}