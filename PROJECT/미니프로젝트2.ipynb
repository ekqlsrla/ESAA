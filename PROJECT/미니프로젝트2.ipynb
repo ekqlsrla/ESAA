{
  "cells": [
    {
      "cell_type": "markdown",
      "metadata": {
        "id": "view-in-github",
        "colab_type": "text"
      },
      "source": [
        "<a href=\"https://colab.research.google.com/github/ekqlsrla/ESAA/blob/main/PROJECT/%EB%AF%B8%EB%8B%88%ED%94%84%EB%A1%9C%EC%A0%9D%ED%8A%B82.ipynb\" target=\"_parent\"><img src=\"https://colab.research.google.com/assets/colab-badge.svg\" alt=\"Open In Colab\"/></a>"
      ]
    },
    {
      "cell_type": "code",
      "execution_count": null,
      "metadata": {
        "id": "A9qqBfpMJHhl",
        "colab": {
          "base_uri": "https://localhost:8080/"
        },
        "outputId": "ecca62ca-1d96-474c-87f3-818dc23f03ef"
      },
      "outputs": [
        {
          "output_type": "stream",
          "name": "stdout",
          "text": [
            "Mounted at /content/drive\n"
          ]
        }
      ],
      "source": [
        "from google.colab import drive\n",
        "drive.mount('/content/drive')"
      ]
    },
    {
      "cell_type": "code",
      "execution_count": null,
      "metadata": {
        "id": "vpMotaWVNw-w",
        "colab": {
          "base_uri": "https://localhost:8080/",
          "height": 444
        },
        "outputId": "f78ef189-72c8-49ae-bde5-e3b3cf69ba4d"
      },
      "outputs": [
        {
          "output_type": "execute_result",
          "data": {
            "text/plain": [
              "       title   distributor genre release_time  time screening_rat director  \\\n",
              "0     개들의 전쟁      롯데엔터테인먼트    액션   2012-11-22    96      청소년 관람불가      조병옥   \n",
              "1       내부자들        (주)쇼박스   느와르   2015-11-19   130      청소년 관람불가      우민호   \n",
              "2  은밀하게 위대하게        (주)쇼박스    액션   2013-06-05   123       15세 관람가      장철수   \n",
              "3   나는 공무원이다        (주)NEW   코미디   2012-07-12   101        전체 관람가      구자홍   \n",
              "4       불량남녀  쇼박스(주)미디어플렉스   코미디   2010-11-04   108       15세 관람가      신근호   \n",
              "\n",
              "   dir_prev_bfnum  dir_prev_num  num_staff  num_actor  box_off_num  \n",
              "0             NaN             0         91          2        23398  \n",
              "1      1161602.50             2        387          3      7072501  \n",
              "2       220775.25             4        343          4      6959083  \n",
              "3        23894.00             2         20          6       217866  \n",
              "4            1.00             1        251          2       483387  "
            ],
            "text/html": [
              "\n",
              "  <div id=\"df-7818a335-5b8a-4950-b088-7f312651edfc\">\n",
              "    <div class=\"colab-df-container\">\n",
              "      <div>\n",
              "<style scoped>\n",
              "    .dataframe tbody tr th:only-of-type {\n",
              "        vertical-align: middle;\n",
              "    }\n",
              "\n",
              "    .dataframe tbody tr th {\n",
              "        vertical-align: top;\n",
              "    }\n",
              "\n",
              "    .dataframe thead th {\n",
              "        text-align: right;\n",
              "    }\n",
              "</style>\n",
              "<table border=\"1\" class=\"dataframe\">\n",
              "  <thead>\n",
              "    <tr style=\"text-align: right;\">\n",
              "      <th></th>\n",
              "      <th>title</th>\n",
              "      <th>distributor</th>\n",
              "      <th>genre</th>\n",
              "      <th>release_time</th>\n",
              "      <th>time</th>\n",
              "      <th>screening_rat</th>\n",
              "      <th>director</th>\n",
              "      <th>dir_prev_bfnum</th>\n",
              "      <th>dir_prev_num</th>\n",
              "      <th>num_staff</th>\n",
              "      <th>num_actor</th>\n",
              "      <th>box_off_num</th>\n",
              "    </tr>\n",
              "  </thead>\n",
              "  <tbody>\n",
              "    <tr>\n",
              "      <th>0</th>\n",
              "      <td>개들의 전쟁</td>\n",
              "      <td>롯데엔터테인먼트</td>\n",
              "      <td>액션</td>\n",
              "      <td>2012-11-22</td>\n",
              "      <td>96</td>\n",
              "      <td>청소년 관람불가</td>\n",
              "      <td>조병옥</td>\n",
              "      <td>NaN</td>\n",
              "      <td>0</td>\n",
              "      <td>91</td>\n",
              "      <td>2</td>\n",
              "      <td>23398</td>\n",
              "    </tr>\n",
              "    <tr>\n",
              "      <th>1</th>\n",
              "      <td>내부자들</td>\n",
              "      <td>(주)쇼박스</td>\n",
              "      <td>느와르</td>\n",
              "      <td>2015-11-19</td>\n",
              "      <td>130</td>\n",
              "      <td>청소년 관람불가</td>\n",
              "      <td>우민호</td>\n",
              "      <td>1161602.50</td>\n",
              "      <td>2</td>\n",
              "      <td>387</td>\n",
              "      <td>3</td>\n",
              "      <td>7072501</td>\n",
              "    </tr>\n",
              "    <tr>\n",
              "      <th>2</th>\n",
              "      <td>은밀하게 위대하게</td>\n",
              "      <td>(주)쇼박스</td>\n",
              "      <td>액션</td>\n",
              "      <td>2013-06-05</td>\n",
              "      <td>123</td>\n",
              "      <td>15세 관람가</td>\n",
              "      <td>장철수</td>\n",
              "      <td>220775.25</td>\n",
              "      <td>4</td>\n",
              "      <td>343</td>\n",
              "      <td>4</td>\n",
              "      <td>6959083</td>\n",
              "    </tr>\n",
              "    <tr>\n",
              "      <th>3</th>\n",
              "      <td>나는 공무원이다</td>\n",
              "      <td>(주)NEW</td>\n",
              "      <td>코미디</td>\n",
              "      <td>2012-07-12</td>\n",
              "      <td>101</td>\n",
              "      <td>전체 관람가</td>\n",
              "      <td>구자홍</td>\n",
              "      <td>23894.00</td>\n",
              "      <td>2</td>\n",
              "      <td>20</td>\n",
              "      <td>6</td>\n",
              "      <td>217866</td>\n",
              "    </tr>\n",
              "    <tr>\n",
              "      <th>4</th>\n",
              "      <td>불량남녀</td>\n",
              "      <td>쇼박스(주)미디어플렉스</td>\n",
              "      <td>코미디</td>\n",
              "      <td>2010-11-04</td>\n",
              "      <td>108</td>\n",
              "      <td>15세 관람가</td>\n",
              "      <td>신근호</td>\n",
              "      <td>1.00</td>\n",
              "      <td>1</td>\n",
              "      <td>251</td>\n",
              "      <td>2</td>\n",
              "      <td>483387</td>\n",
              "    </tr>\n",
              "  </tbody>\n",
              "</table>\n",
              "</div>\n",
              "      <button class=\"colab-df-convert\" onclick=\"convertToInteractive('df-7818a335-5b8a-4950-b088-7f312651edfc')\"\n",
              "              title=\"Convert this dataframe to an interactive table.\"\n",
              "              style=\"display:none;\">\n",
              "        \n",
              "  <svg xmlns=\"http://www.w3.org/2000/svg\" height=\"24px\"viewBox=\"0 0 24 24\"\n",
              "       width=\"24px\">\n",
              "    <path d=\"M0 0h24v24H0V0z\" fill=\"none\"/>\n",
              "    <path d=\"M18.56 5.44l.94 2.06.94-2.06 2.06-.94-2.06-.94-.94-2.06-.94 2.06-2.06.94zm-11 1L8.5 8.5l.94-2.06 2.06-.94-2.06-.94L8.5 2.5l-.94 2.06-2.06.94zm10 10l.94 2.06.94-2.06 2.06-.94-2.06-.94-.94-2.06-.94 2.06-2.06.94z\"/><path d=\"M17.41 7.96l-1.37-1.37c-.4-.4-.92-.59-1.43-.59-.52 0-1.04.2-1.43.59L10.3 9.45l-7.72 7.72c-.78.78-.78 2.05 0 2.83L4 21.41c.39.39.9.59 1.41.59.51 0 1.02-.2 1.41-.59l7.78-7.78 2.81-2.81c.8-.78.8-2.07 0-2.86zM5.41 20L4 18.59l7.72-7.72 1.47 1.35L5.41 20z\"/>\n",
              "  </svg>\n",
              "      </button>\n",
              "      \n",
              "  <style>\n",
              "    .colab-df-container {\n",
              "      display:flex;\n",
              "      flex-wrap:wrap;\n",
              "      gap: 12px;\n",
              "    }\n",
              "\n",
              "    .colab-df-convert {\n",
              "      background-color: #E8F0FE;\n",
              "      border: none;\n",
              "      border-radius: 50%;\n",
              "      cursor: pointer;\n",
              "      display: none;\n",
              "      fill: #1967D2;\n",
              "      height: 32px;\n",
              "      padding: 0 0 0 0;\n",
              "      width: 32px;\n",
              "    }\n",
              "\n",
              "    .colab-df-convert:hover {\n",
              "      background-color: #E2EBFA;\n",
              "      box-shadow: 0px 1px 2px rgba(60, 64, 67, 0.3), 0px 1px 3px 1px rgba(60, 64, 67, 0.15);\n",
              "      fill: #174EA6;\n",
              "    }\n",
              "\n",
              "    [theme=dark] .colab-df-convert {\n",
              "      background-color: #3B4455;\n",
              "      fill: #D2E3FC;\n",
              "    }\n",
              "\n",
              "    [theme=dark] .colab-df-convert:hover {\n",
              "      background-color: #434B5C;\n",
              "      box-shadow: 0px 1px 3px 1px rgba(0, 0, 0, 0.15);\n",
              "      filter: drop-shadow(0px 1px 2px rgba(0, 0, 0, 0.3));\n",
              "      fill: #FFFFFF;\n",
              "    }\n",
              "  </style>\n",
              "\n",
              "      <script>\n",
              "        const buttonEl =\n",
              "          document.querySelector('#df-7818a335-5b8a-4950-b088-7f312651edfc button.colab-df-convert');\n",
              "        buttonEl.style.display =\n",
              "          google.colab.kernel.accessAllowed ? 'block' : 'none';\n",
              "\n",
              "        async function convertToInteractive(key) {\n",
              "          const element = document.querySelector('#df-7818a335-5b8a-4950-b088-7f312651edfc');\n",
              "          const dataTable =\n",
              "            await google.colab.kernel.invokeFunction('convertToInteractive',\n",
              "                                                     [key], {});\n",
              "          if (!dataTable) return;\n",
              "\n",
              "          const docLinkHtml = 'Like what you see? Visit the ' +\n",
              "            '<a target=\"_blank\" href=https://colab.research.google.com/notebooks/data_table.ipynb>data table notebook</a>'\n",
              "            + ' to learn more about interactive tables.';\n",
              "          element.innerHTML = '';\n",
              "          dataTable['output_type'] = 'display_data';\n",
              "          await google.colab.output.renderOutput(dataTable, element);\n",
              "          const docLink = document.createElement('div');\n",
              "          docLink.innerHTML = docLinkHtml;\n",
              "          element.appendChild(docLink);\n",
              "        }\n",
              "      </script>\n",
              "    </div>\n",
              "  </div>\n",
              "  "
            ]
          },
          "metadata": {},
          "execution_count": 2
        }
      ],
      "source": [
        "import pandas as pd\n",
        "import numpy as np\n",
        "train = pd.read_csv('/content/drive/MyDrive/Data/movies_train.csv')\n",
        "test = pd.read_csv('/content/drive/MyDrive/Data/movies_test.csv')\n",
        "train.head()"
      ]
    },
    {
      "cell_type": "code",
      "execution_count": null,
      "metadata": {
        "colab": {
          "base_uri": "https://localhost:8080/"
        },
        "id": "WWp8LAK3TYqr",
        "outputId": "d4043193-f714-486d-844d-4eab9a535f32"
      },
      "outputs": [
        {
          "output_type": "stream",
          "name": "stdout",
          "text": [
            "<class 'pandas.core.frame.DataFrame'>\n",
            "RangeIndex: 600 entries, 0 to 599\n",
            "Data columns (total 12 columns):\n",
            " #   Column          Non-Null Count  Dtype  \n",
            "---  ------          --------------  -----  \n",
            " 0   title           600 non-null    object \n",
            " 1   distributor     600 non-null    object \n",
            " 2   genre           600 non-null    object \n",
            " 3   release_time    600 non-null    object \n",
            " 4   time            600 non-null    int64  \n",
            " 5   screening_rat   600 non-null    object \n",
            " 6   director        600 non-null    object \n",
            " 7   dir_prev_bfnum  270 non-null    float64\n",
            " 8   dir_prev_num    600 non-null    int64  \n",
            " 9   num_staff       600 non-null    int64  \n",
            " 10  num_actor       600 non-null    int64  \n",
            " 11  box_off_num     600 non-null    int64  \n",
            "dtypes: float64(1), int64(5), object(6)\n",
            "memory usage: 56.4+ KB\n"
          ]
        }
      ],
      "source": [
        "train.info()"
      ]
    },
    {
      "cell_type": "code",
      "execution_count": null,
      "metadata": {
        "id": "6-UU-cL1Qepd"
      },
      "outputs": [],
      "source": [
        "# 결측치가 많은 데이터 제거\n",
        "train = train.drop(['dir_prev_bfnum'],axis = 1)\n",
        "test =  test.drop(['dir_prev_bfnum'],axis = 1)"
      ]
    },
    {
      "cell_type": "code",
      "execution_count": null,
      "metadata": {
        "id": "2mOAoHDUT_9n"
      },
      "outputs": [],
      "source": [
        "# 감독명 : 너무 다양해서 제거\n",
        "train = train.drop(['director'],axis = 1)\n",
        "test = test.drop(['director'],axis = 1)"
      ]
    },
    {
      "cell_type": "code",
      "execution_count": null,
      "metadata": {
        "id": "akWjeCHjUM_S"
      },
      "outputs": [],
      "source": [
        "# 제목 : 의미가 없기 때문에 제거\n",
        "train = train.drop(['title'],axis= 1)\n",
        "test = test.drop(['title'],axis= 1)"
      ]
    },
    {
      "cell_type": "code",
      "execution_count": null,
      "metadata": {
        "colab": {
          "base_uri": "https://localhost:8080/"
        },
        "id": "5VVGQyQeUOgR",
        "outputId": "9b6936de-4829-48b2-eeb2-7c51e97c2b75"
      },
      "outputs": [
        {
          "output_type": "execute_result",
          "data": {
            "text/plain": [
              "CJ 엔터테인먼트        54\n",
              "롯데엔터테인먼트         52\n",
              "(주)NEW           30\n",
              "(주)마운틴픽쳐스        29\n",
              "(주)쇼박스           26\n",
              "                 ..\n",
              "OAL(올)            1\n",
              "(주)에이원 엔터테인먼트     1\n",
              "(주)콘텐츠 윙          1\n",
              "위더스필름             1\n",
              "퍼스트런              1\n",
              "Name: distributor, Length: 169, dtype: int64"
            ]
          },
          "metadata": {},
          "execution_count": 7
        }
      ],
      "source": [
        "train.distributor.value_counts()"
      ]
    },
    {
      "cell_type": "code",
      "execution_count": null,
      "metadata": {
        "id": "LSNTzcORUQ7-"
      },
      "outputs": [],
      "source": [
        "# 상위 5개의 배급사를 제외하고 '기타'로처리\n",
        "distributor_list = train.distributor.value_counts()[:5]\n",
        "def func(distributor):\n",
        "    if distributor in distributor_list:\n",
        "        return distributor\n",
        "    else:\n",
        "        return '기타'\n",
        "\n",
        "train['distributor'] = train['distributor'].apply(lambda x : func(x))\n",
        "test['distributor'] = test['distributor'].apply(lambda x : func(x))"
      ]
    },
    {
      "cell_type": "code",
      "execution_count": null,
      "metadata": {
        "id": "sKGzFhcOUS9-"
      },
      "outputs": [],
      "source": [
        "# 개봉일을 바탕으로 년,월 변수 생성\n",
        "train['년'] = train['release_time'].apply(lambda x: int(x[:4]))\n",
        "train['월'] = train['release_time'].apply(lambda x: int(x[5:7]))\n",
        "train =  train.drop(['release_time'],axis = 1)\n",
        "\n",
        "test['년'] = test['release_time'].apply(lambda x: int(x[:4]))\n",
        "test['월'] = test['release_time'].apply(lambda x: int(x[5:7]))\n",
        "test =  test.drop(['release_time'],axis = 1)"
      ]
    },
    {
      "cell_type": "code",
      "execution_count": null,
      "metadata": {
        "id": "O0CQ7zjSUUo2"
      },
      "outputs": [],
      "source": [
        "# 원핫 인코딩\n",
        "train = pd.get_dummies(train)\n",
        "test = pd.get_dummies(test)"
      ]
    },
    {
      "cell_type": "code",
      "execution_count": null,
      "metadata": {
        "id": "B5O77s9Vbhxv"
      },
      "outputs": [],
      "source": [
        "#정규화\n",
        "y_train = train['box_off_num']\n",
        "X_train = train.drop('box_off_num', axis=1)\n",
        "X_test = test\n",
        "\n",
        "from sklearn import preprocessing\n",
        "from sklearn.preprocessing import MinMaxScaler, StandardScaler\n",
        "\n",
        "# MinMaxScaler\n",
        "minmax_scaler = preprocessing.MinMaxScaler()\n",
        "norm_fit = minmax_scaler.fit(X_train)\n",
        "X_train_norm = norm_fit.transform(X_train)\n",
        "X_test_norm = norm_fit.transform(X_test)\n",
        "\n",
        "# standardization\n",
        "standard_scaler = preprocessing.StandardScaler()\n",
        "stan_fit = standard_scaler.fit(X_train)\n",
        "X_train_stan = stan_fit.transform(X_train)\n",
        "X_test_stan = stan_fit.transform(X_test)\n",
        "\n",
        "# 로그 변환\n",
        "import numpy as np\n",
        "X_train_log = np.log1p(X_train)\n",
        "X_test_log = np.log1p(X_test)"
      ]
    },
    {
      "cell_type": "markdown",
      "metadata": {
        "id": "0Yr_3F91Ubxd"
      },
      "source": [
        "## 모델정의 및 학습"
      ]
    },
    {
      "cell_type": "code",
      "execution_count": null,
      "metadata": {
        "id": "Xp3N4caPUWfV"
      },
      "outputs": [],
      "source": [
        "train_x = train.drop(['box_off_num'],axis= 1)\n",
        "train_y = train['box_off_num']"
      ]
    },
    {
      "cell_type": "code",
      "execution_count": null,
      "metadata": {
        "colab": {
          "base_uri": "https://localhost:8080/",
          "height": 193
        },
        "id": "_nWeQ6FKUeoO",
        "outputId": "ae9cb85e-699c-448a-e50e-e5a3438d8806"
      },
      "outputs": [
        {
          "output_type": "error",
          "ename": "NameError",
          "evalue": "ignored",
          "traceback": [
            "\u001b[0;31m---------------------------------------------------------------------------\u001b[0m",
            "\u001b[0;31mNameError\u001b[0m                                 Traceback (most recent call last)",
            "\u001b[0;32m<ipython-input-13-0e9dd5eb635d>\u001b[0m in \u001b[0;36m<module>\u001b[0;34m()\u001b[0m\n\u001b[0;32m----> 1\u001b[0;31m \u001b[0mmodel\u001b[0m\u001b[0;34m=\u001b[0m\u001b[0mRandomForestRegressor\u001b[0m\u001b[0;34m(\u001b[0m\u001b[0mn_estimators\u001b[0m\u001b[0;34m=\u001b[0m\u001b[0;36m100\u001b[0m\u001b[0;34m)\u001b[0m\u001b[0;34m\u001b[0m\u001b[0;34m\u001b[0m\u001b[0m\n\u001b[0m\u001b[1;32m      2\u001b[0m \u001b[0mmodel\u001b[0m\u001b[0;34m.\u001b[0m\u001b[0mfit\u001b[0m\u001b[0;34m(\u001b[0m\u001b[0mtrain_x\u001b[0m\u001b[0;34m,\u001b[0m\u001b[0mtrain_y\u001b[0m\u001b[0;34m)\u001b[0m\u001b[0;34m\u001b[0m\u001b[0;34m\u001b[0m\u001b[0m\n",
            "\u001b[0;31mNameError\u001b[0m: name 'RandomForestRegressor' is not defined"
          ]
        }
      ],
      "source": [
        "model=RandomForestRegressor(n_estimators=100)\n",
        "model.fit(train_x,train_y)"
      ]
    },
    {
      "cell_type": "markdown",
      "metadata": {
        "id": "AEJ0jUeYfvYx"
      },
      "source": [
        "---\n",
        "## 1.스태킹 앙상블 \n",
        "\n",
        "- 점수 : 1265442.23121\n"
      ]
    },
    {
      "cell_type": "code",
      "execution_count": null,
      "metadata": {
        "id": "TECQv8xxfz-0"
      },
      "outputs": [],
      "source": [
        "#라이브러리 로딩\n",
        "\n",
        "import numpy as np\n",
        "from sklearn.ensemble import RandomForestRegressor, GradientBoostingRegressor\n",
        "import xgboost as xgb\n",
        "import lightgbm as lgb\n",
        "from sklearn.linear_model import LinearRegression, Ridge,Lasso"
      ]
    },
    {
      "cell_type": "markdown",
      "metadata": {
        "id": "UyIFwzYOf4cJ"
      },
      "source": [
        "* 하이퍼 파라미터 튜닝"
      ]
    },
    {
      "cell_type": "code",
      "execution_count": null,
      "metadata": {
        "id": "HHOfLULCf3VW"
      },
      "outputs": [],
      "source": [
        "from sklearn.model_selection import GridSearchCV\n",
        "\n",
        "# param_grid of GridSearchCV\n",
        "params = {\n",
        "    'n_estimators':[500,1000],\n",
        "    'max_depth' : [4, 6, 8, 10], \n",
        "    'min_samples_leaf' : [8, 12, 18],\n",
        "    'min_samples_split' : [8, 16, 20]\n",
        "}\n",
        "\n",
        "# RandomForest 모델 학습\n",
        "rf_clf = RandomForestRegressor(random_state=0, n_jobs=-1)\n",
        "grid_cv = GridSearchCV(rf_clf, param_grid=params, cv=2, n_jobs=-1, scoring='neg_mean_squared_error', verbose=1)\n",
        "grid_cv.fit(X_train, y_train)\n",
        "\n",
        "print('최적의 하이퍼 파라미터 : \\n', grid_cv.best_params_)\n",
        "print('최고 예측 정확도 : ', grid_cv.best_score_)"
      ]
    },
    {
      "cell_type": "code",
      "execution_count": null,
      "metadata": {
        "id": "McJib1vaf8GO"
      },
      "outputs": [],
      "source": [
        "params = {\n",
        "    'n_estimators' : [500,1000],\n",
        "    'learning_rate' : [0.01,0.05,0.1]\n",
        "}\n",
        "\n",
        "gbm_clf = GradientBoostingRegressor(random_state = 0)\n",
        "grid_cv = GridSearchCV(gbm_clf, param_grid = params,cv = 2, verbose = 1,scoring = 'neg_mean_squared_error')\n",
        "grid_cv.fit(X_train,y_train)\n",
        "\n",
        "print('최적의 하이퍼 파라미터 : \\n', grid_cv.best_params_)\n",
        "print('최고 예측 정확도 : ', grid_cv.best_score_)"
      ]
    },
    {
      "cell_type": "code",
      "execution_count": null,
      "metadata": {
        "id": "W86HIv-Rf9kN"
      },
      "outputs": [],
      "source": [
        "params = {\n",
        "    'max_depth' : [4, 6, 8, 10],\n",
        "    'n_estimators':[100,500,1000],\n",
        "    'learing_rate' : [0.01,0.05,0.01]\n",
        "}\n",
        "\n",
        "xgb = xgb.XGBRegressor(random_state = 0)\n",
        "grid_cv = GridSearchCV(xgb,param_grid = params, cv = 2, verbose = 1, scoring = 'neg_mean_squared_error')\n",
        "grid_cv.fit(X_train,y_train)\n",
        "\n",
        "print('최적의 하이퍼 파라미터 : \\n', grid_cv.best_params_)\n",
        "print('최고 예측 정확도 : ', grid_cv.best_score_)"
      ]
    },
    {
      "cell_type": "code",
      "execution_count": null,
      "metadata": {
        "id": "_3CqhB-7f_O6"
      },
      "outputs": [],
      "source": [
        "params = {\n",
        "    'num_leaves' : [30,40,50,60],\n",
        "    'n_estimators':[100,500,1000],\n",
        "    'learing_rate' : [0.01,0.05,0.01],\n",
        "    'max_depth' : [2,3,4,5]\n",
        "}\n",
        "\n",
        "lgbm = lgb.LGBMRegressor(random_state = 0)\n",
        "grid_cv = GridSearchCV(lgbm,param_grid = params, cv = 2, verbose = 1, scoring = 'neg_mean_squared_error')\n",
        "grid_cv.fit(X_train,y_train)\n",
        "\n",
        "print('최적의 하이퍼 파라미터 : \\n', grid_cv.best_params_)\n",
        "print('최고 예측 정확도 : ', grid_cv.best_score_)"
      ]
    },
    {
      "cell_type": "markdown",
      "source": [
        "## 2. GBM"
      ],
      "metadata": {
        "id": "_Zx1h1ejztrs"
      }
    },
    {
      "cell_type": "markdown",
      "source": [
        "### 1) 하이퍼 파라미터 튜닝"
      ],
      "metadata": {
        "id": "Y9BBKta1iyNm"
      }
    },
    {
      "cell_type": "code",
      "source": [
        "from sklearn.model_selection import GridSearchCV\n",
        "from sklearn.ensemble import GradientBoostingRegressor\n",
        "\n",
        "params = {'n_estimators' : [100,500], 'learning_rate' : [0.05,0.1]}\n",
        "\n",
        "gbm = GradientBoostingRegressor(random_state=0)\n",
        "grid_cv = GridSearchCV(gbm, param_grid=params, cv=2, verbose=1, scoring='neg_mean_squared_error')\n",
        "grid_cv.fit(X_train, y_train)\n",
        "\n",
        "print('최적의 하이퍼 파라미터 : \\n', grid_cv.best_params_)\n",
        "print('최고 예측 정확도 : ', grid_cv.best_score_)"
      ],
      "metadata": {
        "id": "vrhvO1Zsi4T7"
      },
      "execution_count": null,
      "outputs": []
    },
    {
      "cell_type": "markdown",
      "source": [
        "### 2) MinMax"
      ],
      "metadata": {
        "id": "3n5DOKr8k_Tg"
      }
    },
    {
      "cell_type": "markdown",
      "source": [
        "점수: 1265380.591066857\t"
      ],
      "metadata": {
        "id": "gZT88YuxP4wA"
      }
    },
    {
      "cell_type": "code",
      "source": [
        "gbm = GradientBoostingRegressor(n_estimators=100, learning_rate=0.05)\n",
        "gbm.fit(X_train_norm, y_train)\n",
        "gbm_pred = gbm.predict(X_test_norm)"
      ],
      "metadata": {
        "id": "HZyG_YVDzy8g"
      },
      "execution_count": null,
      "outputs": []
    },
    {
      "cell_type": "markdown",
      "source": [
        "### 3) Standardization"
      ],
      "metadata": {
        "id": "zYld3fKRmmnU"
      }
    },
    {
      "cell_type": "markdown",
      "source": [
        "점수: 1351207.2462183223\t"
      ],
      "metadata": {
        "id": "i7AbgkpFP8RU"
      }
    },
    {
      "cell_type": "code",
      "source": [
        "gbm.fit(X_train_stan, y_train)\n",
        "gbm_pred = gbm.predict(X_test_stan)"
      ],
      "metadata": {
        "id": "uXs3qflbmnG1"
      },
      "execution_count": null,
      "outputs": []
    },
    {
      "cell_type": "markdown",
      "source": [
        "### 4) 로그 변환"
      ],
      "metadata": {
        "id": "RPc5IuTumq6m"
      }
    },
    {
      "cell_type": "markdown",
      "source": [
        "점수: 1267526.093198045\t"
      ],
      "metadata": {
        "id": "J_SpjUBmP_z9"
      }
    },
    {
      "cell_type": "code",
      "source": [
        "gbm.fit(X_train_log, y_train)\n",
        "gbm_pred = gbm.predict(X_test_log)"
      ],
      "metadata": {
        "id": "AVLnmTAfmtQh"
      },
      "execution_count": null,
      "outputs": []
    },
    {
      "cell_type": "markdown",
      "source": [
        "## 3. XGBoost"
      ],
      "metadata": {
        "id": "CBc3xmEUz02M"
      }
    },
    {
      "cell_type": "markdown",
      "source": [
        "### 1) 하이퍼 파라미터 튜닝"
      ],
      "metadata": {
        "id": "Yltu9ghtpFFp"
      }
    },
    {
      "cell_type": "code",
      "source": [
        "from sklearn.model_selection import GridSearchCV\n",
        "import xgboost as xgb\n",
        "from xgboost import XGBRegressor\n",
        "\n",
        "params = {'max_depth':[4, 6, 8, 10], 'n_estimators':[100,500,1000], 'learing_rate':[0.01,0.05,0.1]}\n",
        "\n",
        "\n",
        "xgb = xgb.XGBRegressor()\n",
        "\n",
        "grid_cv = GridSearchCV(xgb, param_grid=params, cv=2, verbose=1, scoring='neg_mean_squared_error')\n",
        "grid_cv.fit(X_train, y_train)\n",
        "\n",
        "print('최적의 하이퍼 파라미터 : \\n', grid_cv.best_params_)\n",
        "print('최고 예측 정확도 : ', grid_cv.best_score_)"
      ],
      "metadata": {
        "id": "iRUxJ_tupFvJ"
      },
      "execution_count": null,
      "outputs": []
    },
    {
      "cell_type": "markdown",
      "source": [
        "### 2) MinMax"
      ],
      "metadata": {
        "id": "xamjw2DtpH07"
      }
    },
    {
      "cell_type": "markdown",
      "source": [
        "점수: 1444906.3206120685\t"
      ],
      "metadata": {
        "id": "nGgJtx6oQODl"
      }
    },
    {
      "cell_type": "code",
      "source": [
        "# MinMaxScaler\n",
        "\n",
        "xgb = xgb.XGBRegressor(n_estimators=100, learning_rate=0.01, max_depth=4)\n",
        "\n",
        "xgb.fit(X_train_norm, y_train)\n",
        "xgb_pred = xgb.predict(X_test_norm)"
      ],
      "metadata": {
        "id": "cmPE-78az3x2"
      },
      "execution_count": null,
      "outputs": []
    },
    {
      "cell_type": "markdown",
      "source": [
        "### 3) Standardization"
      ],
      "metadata": {
        "id": "8E_t1673pKu0"
      }
    },
    {
      "cell_type": "markdown",
      "source": [
        "점수: 1444933.6663520725\t"
      ],
      "metadata": {
        "id": "O498XhUSQ5cd"
      }
    },
    {
      "cell_type": "code",
      "source": [
        "xgb.fit(X_train_stan, y_train)\n",
        "xgb_pred = xgb.predict(X_test_stan)"
      ],
      "metadata": {
        "id": "X4_3tG8xpKFp"
      },
      "execution_count": null,
      "outputs": []
    },
    {
      "cell_type": "markdown",
      "source": [
        "### 4) 로그 변환"
      ],
      "metadata": {
        "id": "JY_OowpiLB8e"
      }
    },
    {
      "cell_type": "markdown",
      "source": [
        "\n",
        "\n",
        "점수: 1444933.6663520725   "
      ],
      "metadata": {
        "id": "tzCczjj1Rg9w"
      }
    },
    {
      "cell_type": "code",
      "source": [
        "xgb.fit(X_train_log, y_train)\n",
        "xgb_pred = xgb.predict(X_test_log)"
      ],
      "metadata": {
        "id": "3gRb8UysLC3S"
      },
      "execution_count": null,
      "outputs": []
    },
    {
      "cell_type": "markdown",
      "source": [
        "## 3. RandomForest"
      ],
      "metadata": {
        "id": "wKbiNn-zWSla"
      }
    },
    {
      "cell_type": "markdown",
      "source": [
        "### 1) 하이퍼 파라미터 튜닝"
      ],
      "metadata": {
        "id": "E_79G8VzWY2U"
      }
    },
    {
      "cell_type": "code",
      "source": [
        "from sklearn.ensemble import RandomForestClassifier\n",
        "from sklearn.model_selection import GridSearchCV\n",
        "\n",
        "params = {\n",
        "    'n_estimators':[80,100,500],\n",
        "    'max_depth' : [4,6,8,10],\n",
        "    'min_samples_leaf' : [4,6,8,12],\n",
        "    'min_samples_split' : [4,6,8,16]\n",
        "}\n",
        "\n",
        "# RandomForestClassifier 객체 생성 후 GridSearchCV 수행\n",
        "rf_clf = RandomForestClassifier(random_state=0, n_jobs=-1)\n",
        "grid_cv = GridSearchCV(rf_clf, param_grid=params, cv=2, n_jobs=-1)\n",
        "grid_cv.fit(X_train_log, y_train)\n",
        "\n",
        "print('최적 하이퍼 파라미터:\\n', grid_cv.best_params_)\n",
        "print('최고 예측 정확도:{0:.4f}'.format(grid_cv.best_score_))"
      ],
      "metadata": {
        "id": "dPhnq9dmWSNb",
        "outputId": "811cd963-6ee2-479f-be0a-3518d1273279",
        "colab": {
          "base_uri": "https://localhost:8080/"
        }
      },
      "execution_count": null,
      "outputs": [
        {
          "output_type": "stream",
          "name": "stderr",
          "text": [
            "/usr/local/lib/python3.7/dist-packages/sklearn/model_selection/_split.py:680: UserWarning: The least populated class in y has only 1 members, which is less than n_splits=2.\n",
            "  UserWarning,\n"
          ]
        }
      ]
    },
    {
      "cell_type": "code",
      "source": [
        "rf_clf = RandomForestClassifier()"
      ],
      "metadata": {
        "id": "AFkNlR5kWgnF"
      },
      "execution_count": null,
      "outputs": []
    },
    {
      "cell_type": "markdown",
      "source": [
        "### 2) MinMax"
      ],
      "metadata": {
        "id": "Jo6BgEqKWiLj"
      }
    },
    {
      "cell_type": "markdown",
      "source": [
        "점수: 2103496.5955934785\t"
      ],
      "metadata": {
        "id": "ASDT5Kzb5L4k"
      }
    },
    {
      "cell_type": "code",
      "source": [
        "rf_clf.fit(X_train_norm, y_train)\n",
        "rf_clf_pred_norm = lgbm.predict(X_test_norm)"
      ],
      "metadata": {
        "id": "TT5RT1sCWjaG"
      },
      "execution_count": null,
      "outputs": []
    },
    {
      "cell_type": "markdown",
      "source": [
        "### 3) Standardization"
      ],
      "metadata": {
        "id": "0oBh6dL4Wj4l"
      }
    },
    {
      "cell_type": "markdown",
      "source": [
        "점수: 2119014.0894160094\t"
      ],
      "metadata": {
        "id": "IYXWiF2_6YBG"
      }
    },
    {
      "cell_type": "code",
      "source": [
        "rf_clf.fit(X_train_stan, y_train)\n",
        "rf_clf_pred_stan = lgbm.predict(X_test_stan)"
      ],
      "metadata": {
        "id": "UNUWvprrWlr7"
      },
      "execution_count": null,
      "outputs": []
    },
    {
      "cell_type": "markdown",
      "source": [
        "### 4) 로그 변환"
      ],
      "metadata": {
        "id": "mNod6asDWnFV"
      }
    },
    {
      "cell_type": "markdown",
      "source": [
        "점수: 2098766.3752528387\t"
      ],
      "metadata": {
        "id": "A75iqL9n7d0k"
      }
    },
    {
      "cell_type": "code",
      "source": [
        "rf_clf.fit(X_train_log, y_train)\n",
        "rf_clf_pred_log = lgbm.predict(X_test_log)"
      ],
      "metadata": {
        "id": "14EhLSVVWpb8"
      },
      "execution_count": null,
      "outputs": []
    },
    {
      "cell_type": "markdown",
      "source": [
        "## LightGBM"
      ],
      "metadata": {
        "id": "CQVfHJ6XWrZL"
      }
    },
    {
      "cell_type": "markdown",
      "source": [
        "### 1) 하이퍼 파라미터 최적화"
      ],
      "metadata": {
        "id": "OAz4AqMJWx7p"
      }
    },
    {
      "cell_type": "code",
      "source": [
        "import lightgbm as lgb\n",
        "from sklearn.model_selection import GridSearchCV\n",
        "from lightgbm import LGBMClassifier\n",
        "\n",
        "lgbm = LGBMClassifier(n_estimators=100,random_state=156)\n",
        "\n",
        "params = {\n",
        "    'num_leaves' : [8,16],\n",
        "    'max_depth' : [-1,1,5,10],\n",
        "    'min_child_samples':[5,8,10,20],\n",
        "    'subsample':[0.5,0.8],\n",
        "    'learning_rate' : [0.01,0.05, 0.1]\n",
        "}\n",
        "\n",
        "grid_cv = GridSearchCV(lgbm, param_grid=params, cv=2, verbose = 1, scoring = 'neg_mean_squared_error')\n",
        "grid_cv.fit(X_train_norm,y_train)\n",
        "\n",
        "print('최적의 하이퍼 파라미터 : \\n', grid_cv.best_params_)\n",
        "print('최고 예측 정확도 : ', grid_cv.best_score_)"
      ],
      "metadata": {
        "id": "shfAhnICWz0R"
      },
      "execution_count": null,
      "outputs": []
    },
    {
      "cell_type": "code",
      "source": [
        "lgbm = LGBMClassifier()"
      ],
      "metadata": {
        "id": "F3mk5QoZW17U"
      },
      "execution_count": null,
      "outputs": []
    },
    {
      "cell_type": "markdown",
      "source": [
        "### 2) MinMax"
      ],
      "metadata": {
        "id": "nqOL75lGW3om"
      }
    },
    {
      "cell_type": "markdown",
      "source": [
        "점수: 2054027.285027303\t"
      ],
      "metadata": {
        "id": "lwXCgZwW7gK8"
      }
    },
    {
      "cell_type": "code",
      "source": [
        "lgbm.fit(X_train_norm, y_train)\n",
        "lgbm_pred_norm = lgbm.predict(X_test_norm)"
      ],
      "metadata": {
        "id": "ELrUM4wYW4qV"
      },
      "execution_count": null,
      "outputs": []
    },
    {
      "cell_type": "markdown",
      "source": [
        "### 3) Standardization"
      ],
      "metadata": {
        "id": "1kNC4_waW55D"
      }
    },
    {
      "cell_type": "markdown",
      "source": [
        "점수: \t1868506.59590569\t"
      ],
      "metadata": {
        "id": "GM88U56j8I0d"
      }
    },
    {
      "cell_type": "code",
      "source": [
        "lgbm.fit(X_train_stan, y_train)\n",
        "lgbm_pred_stan = lgbm.predict(X_test_stan)"
      ],
      "metadata": {
        "id": "uVNm8YrnW68i"
      },
      "execution_count": null,
      "outputs": []
    },
    {
      "cell_type": "markdown",
      "source": [
        "### 4) 로그 변환"
      ],
      "metadata": {
        "id": "tRiwGycvW8Fc"
      }
    },
    {
      "cell_type": "markdown",
      "source": [
        "점수: \t1761140.0603350203\t"
      ],
      "metadata": {
        "id": "bunEC71k8lgW"
      }
    },
    {
      "cell_type": "code",
      "source": [
        "lgbm.fit(X_train_log, y_train)\n",
        "lgbm_pred_log = lgbm.predict(X_test_log)"
      ],
      "metadata": {
        "id": "IiNJe_hiW88R"
      },
      "execution_count": null,
      "outputs": []
    },
    {
      "cell_type": "markdown",
      "source": [
        "## 5. 로지스틱 회귀"
      ],
      "metadata": {
        "id": "57OvYgtUWmB3"
      }
    },
    {
      "cell_type": "code",
      "source": [
        "from sklearn.linear_model import LogisticRegression\n",
        "from sklearn.model_selection import GridSearchCV\n",
        "import warnings \n",
        "\n",
        "warnings.filterwarnings(\"ignore\")"
      ],
      "metadata": {
        "id": "d62IfCfvWrvL"
      },
      "execution_count": null,
      "outputs": []
    },
    {
      "cell_type": "code",
      "source": [
        "lr = LogisticRegression()"
      ],
      "metadata": {
        "id": "A_lIA6eyWzSq"
      },
      "execution_count": null,
      "outputs": []
    },
    {
      "cell_type": "markdown",
      "source": [
        "### 1) 하이퍼 파라미터 최적화"
      ],
      "metadata": {
        "id": "lWjMPYHIW044"
      }
    },
    {
      "cell_type": "code",
      "source": [
        "params = {'penalty' : ['l2','l1'],\n",
        "         'C' : [0.01, 0.1, 1, 1, 5, 10]}\n",
        "\n",
        "grid_clf = GridSearchCV(lr, param_grid = params, scoring='accuracy', cv=2)\n",
        "grid_clf.fit(X_train, y_train)\n",
        "print('최적의 하이퍼 파라미터 : \\n', grid_clf.best_params_)\n",
        "print('최고 예측 정확도 : ', grid_clf.best_score_)"
      ],
      "metadata": {
        "id": "KLtM988zW3yz"
      },
      "execution_count": null,
      "outputs": []
    },
    {
      "cell_type": "code",
      "source": [
        "lr = LogisticRegression(penalty = 'l2', C=5)"
      ],
      "metadata": {
        "id": "2CPtFCqBexGs"
      },
      "execution_count": null,
      "outputs": []
    },
    {
      "cell_type": "markdown",
      "source": [
        "### 2) MinMax"
      ],
      "metadata": {
        "id": "VNhVn76BW8gz"
      }
    },
    {
      "cell_type": "markdown",
      "source": [
        "- 점수 : 1855805.38578"
      ],
      "metadata": {
        "id": "eCoTiuiyzyuk"
      }
    },
    {
      "cell_type": "code",
      "source": [
        "lr.fit(X_train_norm, y_train)\n",
        "lr_pred_norm = lr.predict(X_test_norm)"
      ],
      "metadata": {
        "id": "tUhjPOlSZTVq"
      },
      "execution_count": null,
      "outputs": []
    },
    {
      "cell_type": "markdown",
      "source": [
        "### 3) Standardization\n",
        "\n",
        "- 점수 : 2191414.823729781"
      ],
      "metadata": {
        "id": "xfL_U2ebW_MF"
      }
    },
    {
      "cell_type": "code",
      "source": [
        "lr.fit(X_train_stan, y_train)\n",
        "lr_pred_stan = lr.predict(X_test_stan)"
      ],
      "metadata": {
        "id": "8jidyCZk9Fl_"
      },
      "execution_count": null,
      "outputs": []
    },
    {
      "cell_type": "markdown",
      "source": [
        "### 4) 로그 변환\n",
        "\n",
        "- 점수 : 2401377.5015082355\t"
      ],
      "metadata": {
        "id": "raS6JP829-Cj"
      }
    },
    {
      "cell_type": "code",
      "source": [
        "lr.fit(X_train_log, y_train)\n",
        "lr_pred_log = lr.predict(X_test_log)"
      ],
      "metadata": {
        "id": "6Y28PSHH9Rb5"
      },
      "execution_count": null,
      "outputs": []
    },
    {
      "cell_type": "markdown",
      "metadata": {
        "id": "SiFFP04QUjLx"
      },
      "source": [
        "## 학습 된 모델로 예측 데이터 생성"
      ]
    },
    {
      "cell_type": "code",
      "execution_count": null,
      "metadata": {
        "id": "xt_wntF6Ugr7"
      },
      "outputs": [],
      "source": [
        "pred = model.predict(test)"
      ]
    },
    {
      "cell_type": "markdown",
      "metadata": {
        "id": "s4o5UEHOU_K_"
      },
      "source": [
        "## 제출파일 생성"
      ]
    },
    {
      "cell_type": "code",
      "execution_count": null,
      "metadata": {
        "id": "v8ZyEsO9VA8m"
      },
      "outputs": [],
      "source": [
        "submission = pd.read_csv('/content/submission.csv')\n",
        "submission"
      ]
    },
    {
      "cell_type": "code",
      "execution_count": null,
      "metadata": {
        "id": "BvnJAVD0VDSe"
      },
      "outputs": [],
      "source": [
        "submission['box_off_num'] = pred"
      ]
    },
    {
      "cell_type": "code",
      "execution_count": null,
      "metadata": {
        "id": "-iiHr2uVVEtT"
      },
      "outputs": [],
      "source": [
        "submission"
      ]
    },
    {
      "cell_type": "code",
      "execution_count": null,
      "metadata": {
        "id": "Gt-a-lTiVF4H"
      },
      "outputs": [],
      "source": [
        "submission.to_csv('베이스라인.csv',index = False)"
      ]
    },
    {
      "cell_type": "code",
      "source": [
        "import matplotlib.pyplot as plt\n",
        "fig, ax1 = plt.subplots(1,1)\n",
        "fig.suptitle('Model Comparison')\n",
        "\n",
        "barwidth = 0.5\n",
        "\n",
        "ax1.bar(0, 1265442.23121, width=barwidth, edgecolor='white') # 스태킹 앙상블\n",
        "ax1.bar(1, 1265380.591066857, width=barwidth, edgecolor='white') # GBM - minmax \n",
        "ax1.bar(2, 1351207.2462183223, width=barwidth, edgecolor='white') # GBM - stan\n",
        "ax1.bar(3, 1267526.093198045, width=barwidth, edgecolor='white') # GBM - log\n",
        "ax1.bar(4, 1444906.3206120685, width=barwidth, edgecolor='white') # XGB - minmax\n",
        "ax1.bar(5, 1444933.6663520725, width=barwidth, edgecolor='white') # XGB - stan\n",
        "ax1.bar(6, 1444933.6663520725, width=barwidth, edgecolor='white') # XGB - log\n",
        "ax1.bar(7, 2103496.59559347851, width=barwidth, edgecolor='white') # RandomForest - minmax\n",
        "ax1.bar(8, 2119014.0894160094, width=barwidth, edgecolor='white') # RandomForest - stan\n",
        "ax1.bar(9, 2098766.3752528387, width=barwidth, edgecolor='white') # RandomForest - log\n",
        "ax1.bar(10, 2054027.285027303, width=barwidth, edgecolor='white') # LGBM - minmax\n",
        "ax1.bar(11, 1868506.59590569, width=barwidth, edgecolor='white') # LGBM- stan\n",
        "ax1.bar(12, 1761140.0603350203, width=barwidth, edgecolor='white') # LGBM - log\n",
        "ax1.bar(13, 1855805.38578, width=barwidth, edgecolor='white') # Logisitc - minmax\n",
        "ax1.bar(14, 2191414.823729781, width=barwidth, edgecolor='white') # Logistic- stan\n",
        "ax1.bar(15, 2401377.5015082355, width=barwidth, edgecolor='white') # Logistic - log\n",
        "\n",
        "ax1.set_xlabel('Classification Model')\n",
        "labels = ['','ensemble', 'GBM minmax', 'GBM stan', 'GBM log', \n",
        "          'XGB minmax', 'XGB stan', 'XGB log',\n",
        "         'RF minmax', 'RF stan', 'RF log',\n",
        "         'LGBM minmax', 'LGBM stan', 'LGBM log',\n",
        "         'LR minmax', 'LR stan', 'LR log']\n",
        "ax1.set_xticklabels(labels, rotation=45)\n",
        "ax1.set_ylabel('RMSE')\n",
        "plt.show()"
      ],
      "metadata": {
        "id": "fkaQo2646MV3"
      },
      "execution_count": null,
      "outputs": []
    },
    {
      "cell_type": "markdown",
      "source": [
        "GBM(minmax)의 RMSE 값이 가장 낮게 나타났기 때문에 좋은 예측 성능을 보인다고 할 수 있음\n"
      ],
      "metadata": {
        "id": "LBmKaoCA6Ocu"
      }
    }
  ],
  "metadata": {
    "colab": {
      "collapsed_sections": [],
      "provenance": [],
      "include_colab_link": true
    },
    "kernelspec": {
      "display_name": "Python 3",
      "name": "python3"
    },
    "language_info": {
      "name": "python"
    }
  },
  "nbformat": 4,
  "nbformat_minor": 0
}