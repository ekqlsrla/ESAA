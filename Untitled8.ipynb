{
  "nbformat": 4,
  "nbformat_minor": 0,
  "metadata": {
    "colab": {
      "name": "Untitled8.ipynb",
      "provenance": [],
      "authorship_tag": "ABX9TyPqJilmqefvYwHk6C4BKdqF",
      "include_colab_link": true
    },
    "kernelspec": {
      "name": "python3",
      "display_name": "Python 3"
    },
    "language_info": {
      "name": "python"
    }
  },
  "cells": [
    {
      "cell_type": "markdown",
      "metadata": {
        "id": "view-in-github",
        "colab_type": "text"
      },
      "source": [
        "<a href=\"https://colab.research.google.com/github/ekqlsrla/colab/blob/main/Untitled8.ipynb\" target=\"_parent\"><img src=\"https://colab.research.google.com/assets/colab-badge.svg\" alt=\"Open In Colab\"/></a>"
      ]
    },
    {
      "cell_type": "code",
      "source": [
        "print(1+1)"
      ],
      "metadata": {
        "colab": {
          "base_uri": "https://localhost:8080/"
        },
        "id": "cCYuYEJSSCPo",
        "outputId": "30b3c04f-dcc3-4a3c-993a-11f0066303fa"
      },
      "execution_count": null,
      "outputs": [
        {
          "output_type": "stream",
          "name": "stdout",
          "text": [
            "2\n"
          ]
        }
      ]
    },
    {
      "cell_type": "code",
      "source": [
        "age = int(input(\"What is your age?\"))\n",
        "\n",
        "if age > 18 :\n",
        "  print('you can drive.')\n",
        "else : \n",
        "  print ('''Sorry, you can't drive.''')"
      ],
      "metadata": {
        "colab": {
          "base_uri": "https://localhost:8080/"
        },
        "id": "k-EyjD5qWJXd",
        "outputId": "6933e675-e83d-4e0f-a39d-4df1766c9694"
      },
      "execution_count": null,
      "outputs": [
        {
          "output_type": "stream",
          "name": "stdout",
          "text": [
            "What is your age?10\n",
            "Sorry, you can't drive.\n"
          ]
        }
      ]
    },
    {
      "cell_type": "code",
      "source": [
        "N =int(input(\"입력하는 숫자는 6과 20사이의 짝수인가?: \"))\n",
        "\n",
        "if N >=6 and N<=20 :\n",
        "  if N % 2 == 0 :\n",
        "    print (\"Yes\")\n",
        "  else :\n",
        "    print(\"아니\")\n",
        "else : \n",
        "  print(\"아니\")"
      ],
      "metadata": {
        "colab": {
          "base_uri": "https://localhost:8080/"
        },
        "id": "S2GXjw3JXb5T",
        "outputId": "ef96b0da-3cca-4546-b7aa-350b0218d8cd"
      },
      "execution_count": null,
      "outputs": [
        {
          "output_type": "stream",
          "name": "stdout",
          "text": [
            "입력하는 숫자는 6과 20사이의 짝수인가?: 13\n",
            "아니\n"
          ]
        }
      ]
    },
    {
      "cell_type": "code",
      "source": [
        "numbers = [6, 5, 3, 8, 4, 2, 5, 4, 11]\n",
        "\n",
        "sum = 0\n",
        "\n",
        "for val in numbers :\n",
        "  sum = sum+val\n",
        "print(sum)"
      ],
      "metadata": {
        "colab": {
          "base_uri": "https://localhost:8080/"
        },
        "id": "RenxzOB3ZhG_",
        "outputId": "9e1700ec-0421-48c9-9c59-f845f849ac92"
      },
      "execution_count": null,
      "outputs": [
        {
          "output_type": "stream",
          "name": "stdout",
          "text": [
            "48\n"
          ]
        }
      ]
    },
    {
      "cell_type": "code",
      "source": [
        "n = int(input('숫자를 입력하시오'))\n",
        "\n",
        "sum = 0\n",
        "for i in range(1,n+1) :\n",
        "  sum = sum + i\n",
        "print(sum)"
      ],
      "metadata": {
        "colab": {
          "base_uri": "https://localhost:8080/"
        },
        "id": "i9Q9z_-ZaGXB",
        "outputId": "2850c785-832e-4372-bc65-aecec3131e8b"
      },
      "execution_count": null,
      "outputs": [
        {
          "output_type": "stream",
          "name": "stdout",
          "text": [
            "숫자를 입력하시오 10\n",
            "55\n"
          ]
        }
      ]
    },
    {
      "cell_type": "code",
      "source": [
        "n = int(input(\"Enter n :\"))\n",
        "\n",
        "sum = 0\n",
        "i = 1\n",
        "\n",
        "while i <= n :\n",
        "  sum=sum+i\n",
        "  i=i+1\n",
        "\n",
        "  "
      ],
      "metadata": {
        "id": "C0yvlS4ybPmo"
      },
      "execution_count": null,
      "outputs": []
    },
    {
      "cell_type": "code",
      "source": [
        "num = 0\n",
        "tot =0.0\n",
        "while True :\n",
        "  sval=int(input(\"Enter a number : \"))\n",
        "  if sval == \"done\" :\n",
        "    break\n",
        "  try :\n",
        "    fval = float(sval)\n",
        "  except: \n",
        "    print(\"invalid input\")\n",
        "    continue\n",
        "  num= num+1\n",
        "  tot= tot+fval\n",
        "\n",
        "  print(tot,num,tot/num)"
      ],
      "metadata": {
        "colab": {
          "base_uri": "https://localhost:8080/",
          "height": 297
        },
        "id": "OHoC23zmb5NO",
        "outputId": "847101b3-9e18-4fa7-b824-9c54becf32a5"
      },
      "execution_count": null,
      "outputs": [
        {
          "name": "stdout",
          "output_type": "stream",
          "text": [
            "Enter a number : 3\n",
            "3.0 1 3.0\n",
            "Enter a number : done\n"
          ]
        },
        {
          "output_type": "error",
          "ename": "ValueError",
          "evalue": "ignored",
          "traceback": [
            "\u001b[0;31m---------------------------------------------------------------------------\u001b[0m",
            "\u001b[0;31mValueError\u001b[0m                                Traceback (most recent call last)",
            "\u001b[0;32m<ipython-input-14-5cfce1ac00b9>\u001b[0m in \u001b[0;36m<module>\u001b[0;34m()\u001b[0m\n\u001b[1;32m      2\u001b[0m \u001b[0mtot\u001b[0m \u001b[0;34m=\u001b[0m\u001b[0;36m0.0\u001b[0m\u001b[0;34m\u001b[0m\u001b[0;34m\u001b[0m\u001b[0m\n\u001b[1;32m      3\u001b[0m \u001b[0;32mwhile\u001b[0m \u001b[0;32mTrue\u001b[0m \u001b[0;34m:\u001b[0m\u001b[0;34m\u001b[0m\u001b[0;34m\u001b[0m\u001b[0m\n\u001b[0;32m----> 4\u001b[0;31m   \u001b[0msval\u001b[0m\u001b[0;34m=\u001b[0m\u001b[0mint\u001b[0m\u001b[0;34m(\u001b[0m\u001b[0minput\u001b[0m\u001b[0;34m(\u001b[0m\u001b[0;34m\"Enter a number : \"\u001b[0m\u001b[0;34m)\u001b[0m\u001b[0;34m)\u001b[0m\u001b[0;34m\u001b[0m\u001b[0;34m\u001b[0m\u001b[0m\n\u001b[0m\u001b[1;32m      5\u001b[0m   \u001b[0;32mif\u001b[0m \u001b[0msval\u001b[0m \u001b[0;34m==\u001b[0m \u001b[0;34m\"done\"\u001b[0m \u001b[0;34m:\u001b[0m\u001b[0;34m\u001b[0m\u001b[0;34m\u001b[0m\u001b[0m\n\u001b[1;32m      6\u001b[0m     \u001b[0;32mbreak\u001b[0m\u001b[0;34m\u001b[0m\u001b[0;34m\u001b[0m\u001b[0m\n",
            "\u001b[0;31mValueError\u001b[0m: invalid literal for int() with base 10: 'done'"
          ]
        }
      ]
    }
  ]
}