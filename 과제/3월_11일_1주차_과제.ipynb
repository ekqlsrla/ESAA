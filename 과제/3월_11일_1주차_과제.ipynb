{
  "nbformat": 4,
  "nbformat_minor": 0,
  "metadata": {
    "colab": {
      "name": "3월_11일_1주차 과제.ipynb",
      "provenance": [],
      "collapsed_sections": [],
      "authorship_tag": "ABX9TyN4FIlNFfZ9L8gR2mMfgL0W",
      "include_colab_link": true
    },
    "kernelspec": {
      "name": "python3",
      "display_name": "Python 3"
    },
    "language_info": {
      "name": "python"
    }
  },
  "cells": [
    {
      "cell_type": "markdown",
      "metadata": {
        "id": "view-in-github",
        "colab_type": "text"
      },
      "source": [
        "<a href=\"https://colab.research.google.com/github/ekqlsrla/ESAA/blob/main/3%EC%9B%94_11%EC%9D%BC_1%EC%A3%BC%EC%B0%A8_%EA%B3%BC%EC%A0%9C.ipynb\" target=\"_parent\"><img src=\"https://colab.research.google.com/assets/colab-badge.svg\" alt=\"Open In Colab\"/></a>"
      ]
    },
    {
      "cell_type": "markdown",
      "source": [
        "# **[파이썬 머신러닝 완벽 가이드 - 03 넘파이]**\n",
        "\n",
        "\n",
        "\n",
        "> ## 1.넘파이 ndarray 개요\n",
        "\n",
        " * 넘파이 array() 함수 : 파이썬의 리스트와 같은 다양한 인자 입력 받아 ndarray로 변환하는 기능 수행, 생성된 ndarray 배열의 shape 변수는 행과 열의 수를 튜플 형태로 가짐\n",
        " \n",
        "\n",
        "\n",
        "\n"
      ],
      "metadata": {
        "id": "z9SgFIzAPmQy"
      }
    },
    {
      "cell_type": "code",
      "source": [
        "import numpy as np"
      ],
      "metadata": {
        "id": "ImNJoZ1OSVZk"
      },
      "execution_count": 2,
      "outputs": []
    },
    {
      "cell_type": "code",
      "source": [
        "array1 = np.array([1,2,3])\n",
        "print('array1 type : ', type(array1))\n",
        "print('array1 array 형태 : ', array1.shape)\n",
        "\n",
        "## 1차원 array로 3개의 데이터\n",
        "\n",
        "array2 = np.array([[1,2,3],\n",
        "                   [2,3,4]])\n",
        "print('array2 type : ', type(array2))\n",
        "print('array2 array 형태 : ',array2.shape)\n",
        "\n",
        "## 2차원 array로 2row & 3 col\n",
        "\n",
        "array3 = np.array([[1,2,3]])\n",
        "print('array3 type : ', type(array3))\n",
        "print('array3 array 형태 : ',array3.shape)\n",
        "\n",
        "## 2차원 array로 1 row & 3 col"
      ],
      "metadata": {
        "colab": {
          "base_uri": "https://localhost:8080/"
        },
        "id": "X0uuYtSEUq8Z",
        "outputId": "b9c58987-feff-4417-f53b-f570fd97bfaf"
      },
      "execution_count": null,
      "outputs": [
        {
          "output_type": "stream",
          "name": "stdout",
          "text": [
            "array1 type :  <class 'numpy.ndarray'>\n",
            "array1 array 형태 :  (3,)\n",
            "array2 type :  <class 'numpy.ndarray'>\n",
            "array2 array 형태 :  (2, 3)\n",
            "array3 type :  <class 'numpy.ndarray'>\n",
            "array3 array 형태 :  (1, 3)\n"
          ]
        }
      ]
    },
    {
      "cell_type": "markdown",
      "source": [
        "\n",
        "\n",
        "\n",
        "> ## 2. ndarray의 데이터 타입\n",
        "\n",
        "*  가능한 데이터값 : 숫자, 문자열,불 모두 가능\n",
        "*  가능한 데이터 타입 : 연산의 특성상 같은 데이터 타입만 가능 \n",
        "   **=> 한 개의 ndarray객체에 int와 float가 함께 있을 수 없음**\n",
        "\n"
      ],
      "metadata": {
        "id": "CTa_kkVFYgIy"
      }
    },
    {
      "cell_type": "code",
      "source": [
        "list1 = [1,2,3]\n",
        "print(type(list1))\n",
        "array1 = np.array(list1)\n",
        "print(type(array1))\n",
        "print(array1,array1.dtype)"
      ],
      "metadata": {
        "colab": {
          "base_uri": "https://localhost:8080/"
        },
        "id": "CSYH1XQ3Zxmh",
        "outputId": "f2970625-20ab-4757-8c0c-d73b13d61d5b"
      },
      "execution_count": null,
      "outputs": [
        {
          "output_type": "stream",
          "name": "stdout",
          "text": [
            "<class 'list'>\n",
            "<class 'numpy.ndarray'>\n",
            "[1 2 3] int64\n"
          ]
        }
      ]
    },
    {
      "cell_type": "markdown",
      "source": [
        "\n",
        "\n",
        "* 다른 데이터 유형이 섞여 있는 리스트를 ndarray로 변경하면 데이터 크기가 **더 큰 데이터 타입**으로 형 변환 일괄 적용\n",
        "\n"
      ],
      "metadata": {
        "id": "tMlVAywEcRsO"
      }
    },
    {
      "cell_type": "code",
      "source": [
        "list2 = [1,2,'test']\n",
        "array2 = np.array(list2)\n",
        "print(array2,array2.dtype)\n",
        "\n",
        "list3 = [1,2,3.0]\n",
        "arrat3 = np.array(list3)\n",
        "print(arrat3,array3.dtype)"
      ],
      "metadata": {
        "colab": {
          "base_uri": "https://localhost:8080/"
        },
        "id": "Zy1unF8Cct6A",
        "outputId": "ea47aacd-f955-40ce-8a5c-e1c697148c51"
      },
      "execution_count": null,
      "outputs": [
        {
          "output_type": "stream",
          "name": "stdout",
          "text": [
            "['1' '2' 'test'] <U21\n",
            "[1. 2. 3.] int64\n"
          ]
        }
      ]
    },
    {
      "cell_type": "markdown",
      "source": [
        "\n",
        "\n",
        "*   ndarray 내 **데이터값의 타입 변경** : astype() 메서드 이용\n",
        "    - 메모리를 더 절약해야 할 때 보통 이용\n"
      ],
      "metadata": {
        "id": "Q6KRjUP3dDXV"
      }
    },
    {
      "cell_type": "code",
      "source": [
        "array_int = np.array([1,2,3])\n",
        "array_float = array_int.astype('float64')\n",
        "print(array_float,array_float.dtype)\n",
        "\n",
        "array_int1 = array_float.astype('int32')\n",
        "print(array_int1, array_int1.dtype)\n",
        "\n",
        "array_float1 = np.array([1.1,2.1,3.1])\n",
        "array_int2 = array_float1.astype('int32')\n",
        "print(array_int2,array_int2.dtype)"
      ],
      "metadata": {
        "colab": {
          "base_uri": "https://localhost:8080/"
        },
        "id": "oasdGykZdsVQ",
        "outputId": "6166e43b-b778-4dc9-c03e-d21e2692b487"
      },
      "execution_count": null,
      "outputs": [
        {
          "output_type": "stream",
          "name": "stdout",
          "text": [
            "[1. 2. 3.] float64\n",
            "[1 2 3] int32\n",
            "[1 2 3] int32\n"
          ]
        }
      ]
    },
    {
      "cell_type": "markdown",
      "source": [
        "\n",
        "\n",
        "> ## 3. ndarray를 편리하게 생성하기 - arange,zeros,ones\n",
        "  : 특정 크기와 차원을 가진 ndarry를 연속값이나 0,1로 초기화해 쉽게 생성해햐 할 필요가 있는 경우\n",
        "\n",
        "\n",
        "*  arrage() : 파이썬 표준 함수인 **range()** 와 유사한 기능\n",
        "  - default 함수 인자 : stop 값 => 1차원 ndarray 만들어 줌\n",
        "\n",
        "\n",
        "\n",
        "\n",
        "\n",
        "\n"
      ],
      "metadata": {
        "id": "HqsPHDB_etQg"
      }
    },
    {
      "cell_type": "code",
      "source": [
        "sequence_array = np.arange(10)\n",
        "print(sequence_array)\n",
        "print(sequence_array.dtype,sequence_array.shape)"
      ],
      "metadata": {
        "colab": {
          "base_uri": "https://localhost:8080/"
        },
        "id": "sVAH4WbVtlSM",
        "outputId": "bbe9b9a2-b83b-45da-c00c-95e2009d5f43"
      },
      "execution_count": 4,
      "outputs": [
        {
          "output_type": "stream",
          "name": "stdout",
          "text": [
            "[0 1 2 3 4 5 6 7 8 9]\n",
            "int64 (10,)\n"
          ]
        }
      ]
    },
    {
      "cell_type": "markdown",
      "source": [
        " \n",
        "\n",
        " *  zeros() : 튜플 형태의 shape값을 입력하면 **모든 값을 0으로 채운** 해당 shape를 가진 ndarray 반환\n",
        "\n",
        "* ones() : 튜플 형태의 shape값을 입력하면 **모든 값을 1로 채운** 해당 shape를 가진 ndarray 반환\n",
        "   - default 값 : float 64\n",
        "\n",
        "\n"
      ],
      "metadata": {
        "id": "EcjK0XO4u0Bg"
      }
    },
    {
      "cell_type": "code",
      "source": [
        "zero_array= np.zeros((3,2),dtype='int32')\n",
        "print(zero_array)\n",
        "print(zero_array.dtype, zero_array.shape)\n",
        "\n",
        "one_array = np.ones((3,2))\n",
        "print(one_array)\n",
        "print(one_array.dtype,one_array.shape)"
      ],
      "metadata": {
        "colab": {
          "base_uri": "https://localhost:8080/"
        },
        "id": "SJP9Eh3LvOUh",
        "outputId": "e17d76cc-30cc-40d5-d117-f1fbd5a50e19"
      },
      "execution_count": 8,
      "outputs": [
        {
          "output_type": "stream",
          "name": "stdout",
          "text": [
            "[[0 0]\n",
            " [0 0]\n",
            " [0 0]]\n",
            "int32 (3, 2)\n",
            "[[1. 1.]\n",
            " [1. 1.]\n",
            " [1. 1.]]\n",
            "float64 (3, 2)\n"
          ]
        }
      ]
    },
    {
      "cell_type": "markdown",
      "source": [
        "\n",
        "\n",
        "> ## 4. ndarray의 차원과 크기를 변경하는 reshape()\n",
        "\n",
        "\n",
        "\n",
        "*  reshape() : 변환을 원하는 크기를 함수 인자로 부여\n",
        "1) 인자로 '-1'을 적용하는 경우 : 원래 ndarray와 호환되는 새로운 shape로 변환\n",
        "  - reshape(-1,1) = > 여러 개의 로우를 가지되 반드시 1개의 칼럼을 가진 ndarray"
      ],
      "metadata": {
        "id": "bwoSkTcTwMzw"
      }
    },
    {
      "cell_type": "code",
      "source": [
        "array1 = np.arange(10)\n",
        "print('array1:\\n', array1)\n",
        "\n",
        "array2 = array1.reshape(2,5)\n",
        "print('array2 : \\n',array2)\n",
        "\n",
        "array3 = array1.reshape(5,2)\n",
        "print('array3 : \\n', array3)"
      ],
      "metadata": {
        "colab": {
          "base_uri": "https://localhost:8080/"
        },
        "id": "B8loGfOow-Om",
        "outputId": "3cff7277-0976-45b1-9e6d-6ead78227c4d"
      },
      "execution_count": 12,
      "outputs": [
        {
          "output_type": "stream",
          "name": "stdout",
          "text": [
            "array1:\n",
            " [0 1 2 3 4 5 6 7 8 9]\n",
            "array2 : \n",
            " [[0 1 2 3 4]\n",
            " [5 6 7 8 9]]\n",
            "array3 : \n",
            " [[0 1]\n",
            " [2 3]\n",
            " [4 5]\n",
            " [6 7]\n",
            " [8 9]]\n"
          ]
        }
      ]
    },
    {
      "cell_type": "code",
      "source": [
        "array1 = np.arange(10)\n",
        "print(array1)\n",
        "\n",
        "array2 = array1.reshape(-1,5)\n",
        "print('array2 shape :',array2.shape)\n",
        "\n",
        "array3 = array1.reshape(5,-1)\n",
        "print('array3 shape : ', array3.shape)"
      ],
      "metadata": {
        "colab": {
          "base_uri": "https://localhost:8080/"
        },
        "id": "BA-J8Un9x5cH",
        "outputId": "45577d57-9953-43f2-d57a-da2e5ff51af3"
      },
      "execution_count": 18,
      "outputs": [
        {
          "output_type": "stream",
          "name": "stdout",
          "text": [
            "[0 1 2 3 4 5 6 7 8 9]\n",
            "array2 shape : (2, 5)\n",
            "array3 shape :  (5, 2)\n"
          ]
        }
      ]
    },
    {
      "cell_type": "code",
      "source": [
        "array1 = np.arange(8)\n",
        "array3d = array1.reshape((2,2,2))\n",
        "print('array3d:\\n', array3d.tolist())\n",
        "\n",
        "#3차원 ndarray를 2차원 ndarray로 변환\n",
        "array5 = array3d.reshape(-1,1)\n",
        "print('array5:\\n',array5.tolist())\n",
        "print('array5 shape:', array5.shape)\n",
        "\n",
        "#1차원 ndarray를 2차원 ndarry로 변환\n",
        "array6 = array1.reshape(-1,1)\n",
        "print('array6 :\\n', array6.tolist()) ## tolist() 메서드를 이용해 리스트 자료형으로 변환\n",
        "print('array6 shape:', array6.shape)"
      ],
      "metadata": {
        "colab": {
          "base_uri": "https://localhost:8080/"
        },
        "id": "S1CA8LVp0mSj",
        "outputId": "b5f7fb29-e978-4a35-a0d3-c0bf8e34876f"
      },
      "execution_count": 22,
      "outputs": [
        {
          "output_type": "stream",
          "name": "stdout",
          "text": [
            "array3d:\n",
            " [[[0, 1], [2, 3]], [[4, 5], [6, 7]]]\n",
            "array5:\n",
            " [[0], [1], [2], [3], [4], [5], [6], [7]]\n",
            "array5 shape: (8, 1)\n",
            "array6 :\n",
            " [[0], [1], [2], [3], [4], [5], [6], [7]]\n",
            "array6 shape: (8, 1)\n"
          ]
        }
      ]
    },
    {
      "cell_type": "markdown",
      "source": [
        "\n",
        "\n",
        "> ## 5. 넘파이의 ndarray의 데이터 세트 선택하기 - 인덱싱(indexing)\n",
        "\n",
        "1. **특정한 데이터만 추출** : 원하는 위치의 인덱스 값을 지정하면 해당 위치의 데이터가 반환\n",
        "2. **슬라이싱(Slicing)** : 슬라이싱은 연속된 인덱스상의 ndarry를 추출하는 방식. ':' 기호 사이에 시작 인덱스와 종료 인덱스를 표시하면 시작인덱스 ~ 종료 인덱스 -1 위치에 있는 데이터의 ndarray를 반환\n",
        "3. **팬시 인덱싱(Fancy indexing**) : 일정한 인덱싱 집합을 리스트 또는 ndarray 형태로 지정해 해당 위치에 잇는 데이터의 ndarray를 반환\n",
        "4. **불린 인덱싱(Boolean indexing)** : 특정 조건에 해당하는지 여부인 True/False 값 인덱싱 집합을 기반으로 True에 해당하는 인덱스 위치에 있는 데이터의 ndarray를 반환\n",
        "\n",
        "\n",
        "\n",
        "### *  단일값 추출\n",
        "\n",
        "  1) axis 0 : 로우 방향의 축 / axis 1 : 칼럼 방향의 축\n",
        "\n",
        "\n",
        "\n"
      ],
      "metadata": {
        "id": "hOaFA_TE2Sdz"
      }
    },
    {
      "cell_type": "code",
      "source": [
        "#1부터 9까지의 1차원 ndarray 생성\n",
        "array1 = np.arange(start=1,stop=10)\n",
        "print('array1:', array1)\n",
        "\n",
        "#index는 0부터 시작하므로 array1[2]는 3번째 index 위치의 데이터값 의미\n",
        "value = array1[2]\n",
        "print('value:', value)\n",
        "print(type(value))"
      ],
      "metadata": {
        "colab": {
          "base_uri": "https://localhost:8080/"
        },
        "id": "VuABgaKG4heT",
        "outputId": "4777eb5b-d4bc-49f1-aa74-c73fd417f146"
      },
      "execution_count": 25,
      "outputs": [
        {
          "output_type": "stream",
          "name": "stdout",
          "text": [
            "array1: [1 2 3 4 5 6 7 8 9]\n",
            "value: 3\n",
            "<class 'numpy.int64'>\n"
          ]
        }
      ]
    },
    {
      "cell_type": "code",
      "source": [
        "#1차원과 2차원 ndarray에서의 데이터 접근의 차이는 2차원의 경우 콤마로 분리된 로우와 칼럼 위치의 인덱스를 통해 접근하는 것\n",
        "\n",
        "array1d = np.arange(start =1,stop=10)\n",
        "array2d= array1d.reshape(3,3)\n",
        "print(array2d)\n",
        "\n",
        "print('(row=0,col=0) index 가리키는 값 : ', array2d[0,0])\n",
        "print('(row=0,col=1) index 가리키는 값 : ', array2d[0,1])\n",
        "print('(row=1,col=0) index 가리키는 값 : ', array2d[1,0])\n",
        "print('(row=2,col=2) index 가리키는 값 : ', array2d[2,2])"
      ],
      "metadata": {
        "colab": {
          "base_uri": "https://localhost:8080/"
        },
        "id": "CVk_AlcG5TnY",
        "outputId": "47f75761-c6a4-4152-ca51-6ff3217bd744"
      },
      "execution_count": 27,
      "outputs": [
        {
          "output_type": "stream",
          "name": "stdout",
          "text": [
            "[[1 2 3]\n",
            " [4 5 6]\n",
            " [7 8 9]]\n",
            "(row=0,col=0) index 가리키는 값 :  1\n",
            "(row=0,col=1) index 가리키는 값 :  2\n",
            "(row=1,col=0) index 가리키는 값 :  4\n",
            "(row=2,col=2) index 가리키는 값 :  9\n"
          ]
        }
      ]
    },
    {
      "cell_type": "markdown",
      "source": [
        "\n",
        "\n",
        "\n",
        "\n",
        "### * 슬라이싱 \n",
        "\n",
        "  :  **':' 기호**를 이용해 연속한 데이터를 슬라이싱해서 추출\n",
        "\n",
        "1. ';'기호 앞에 **시작 인덱스를 생략**하면 자동으로 **맨 처음 인덱스인 0**으로 간주\n",
        "2. ';'기호 뒤에 **종료 인덱스를 생략**하면 자동으로 **맨 마지막 인덱스**로 간주\n",
        "3. ':'기호 앞/뒤에 시작/종료 인덱스를 생략하면 자동으로 맨 처음/맨 마지막 인덱스로 간주\n",
        "\n"
      ],
      "metadata": {
        "id": "QYK983NC7L_Q"
      }
    },
    {
      "cell_type": "code",
      "source": [
        "array1 = np.arange(start=1,stop=10)\n",
        "array3 = array1[0:3]\n",
        "print(array3)\n",
        "print(type(array3))"
      ],
      "metadata": {
        "colab": {
          "base_uri": "https://localhost:8080/"
        },
        "id": "IbdJmA4h7bIW",
        "outputId": "1aacf20d-0eed-4dd7-b2bd-2def9c40aea4"
      },
      "execution_count": 28,
      "outputs": [
        {
          "output_type": "stream",
          "name": "stdout",
          "text": [
            "[1 2 3]\n",
            "<class 'numpy.ndarray'>\n"
          ]
        }
      ]
    },
    {
      "cell_type": "code",
      "source": [
        "#1차원 ndarray\n",
        "\n",
        "array1 = np.arange(start=1,stop=10)\n",
        "array4 = array1[:3]\n",
        "print(array4)\n",
        "\n",
        "array5 = array1[3:]\n",
        "print(array5)\n",
        "\n",
        "array6 = array1[:]\n",
        "print(array6)"
      ],
      "metadata": {
        "colab": {
          "base_uri": "https://localhost:8080/"
        },
        "id": "Ou2L7hak8A07",
        "outputId": "4e995525-241f-4748-89f7-352fb32426b3"
      },
      "execution_count": 30,
      "outputs": [
        {
          "output_type": "stream",
          "name": "stdout",
          "text": [
            "[1 2 3]\n",
            "[4 5 6 7 8 9]\n",
            "[1 2 3 4 5 6 7 8 9]\n"
          ]
        }
      ]
    },
    {
      "cell_type": "code",
      "source": [
        "#2차원 ndarray\n",
        "\n",
        "array1d = np.arange(start = 1, stop=10)\n",
        "array2d = array1d.reshape(3,3)\n",
        "print('array2d:\\n',array2d)\n",
        "\n",
        "print('array2d[0:2,0:2]\\n',array2d[0:2 , 0:2])\n",
        "print('array2d[1:3,:]\\n',array2d[1:3,:])\n",
        "print('array2d[:2,1:]\\n',array2d[:2,1:])"
      ],
      "metadata": {
        "colab": {
          "base_uri": "https://localhost:8080/"
        },
        "id": "N3nB4bO-8g2r",
        "outputId": "6a4a21e4-c4bf-4e65-9c21-c119615a03c0"
      },
      "execution_count": 34,
      "outputs": [
        {
          "output_type": "stream",
          "name": "stdout",
          "text": [
            "array2d:\n",
            " [[1 2 3]\n",
            " [4 5 6]\n",
            " [7 8 9]]\n",
            "array2d[0:2,0:2]\n",
            " [[1 2]\n",
            " [4 5]]\n",
            "array2d[1:3,:]\n",
            " [[4 5 6]\n",
            " [7 8 9]]\n",
            "array2d[:2,1:]\n",
            " [[2 3]\n",
            " [5 6]]\n"
          ]
        }
      ]
    },
    {
      "cell_type": "code",
      "source": [
        "print(array2d[0]) #2차원에서 뒤에 오는 인덱스를 없애면 로우 축의 첫번째 로우 ndarray 반환\n",
        "print(array2d[1])"
      ],
      "metadata": {
        "colab": {
          "base_uri": "https://localhost:8080/"
        },
        "id": "pJoAJfDc-7gK",
        "outputId": "b16448a5-6d94-4c50-9bdd-071777d0f78e"
      },
      "execution_count": 35,
      "outputs": [
        {
          "output_type": "stream",
          "name": "stdout",
          "text": [
            "[1 2 3]\n",
            "[4 5 6]\n"
          ]
        }
      ]
    },
    {
      "cell_type": "markdown",
      "source": [
        "\n",
        "### * 팬시 인덱싱\n",
        "  \n",
        "  : **리스트나 ndarray로 인덱스 집합을 지정**하면 해당 위치의 인덱스에 해당하는 ndarray를 반환하는 인덱싱 방식\n",
        "\n"
      ],
      "metadata": {
        "id": "nL6eopcU_hkO"
      }
    },
    {
      "cell_type": "code",
      "source": [
        "array1d = np.arange(start=1, stop=10)\n",
        "array2d = array1d.reshape(3,3)\n",
        "\n",
        "array3 = array2d[[0,1],2]\n",
        "print('array2d[[0,1],2] => ',array3.tolist())\n",
        "\n",
        "array4 = array2d[[0,1],0:2]\n",
        "print('array2d[[0,1],0:2] => ', array4.tolist())\n",
        "\n",
        "array5 = array2d[[0,1]]\n",
        "print('array2d[[0,1]] => ', array5.tolist())"
      ],
      "metadata": {
        "colab": {
          "base_uri": "https://localhost:8080/"
        },
        "id": "TlnrzrV9_284",
        "outputId": "6ce72151-42d9-422d-a6af-0dc936e7cee7"
      },
      "execution_count": 39,
      "outputs": [
        {
          "output_type": "stream",
          "name": "stdout",
          "text": [
            "array2d[[0,1],2] =>  [3, 6]\n",
            "array2d[[0,1],0:2] =>  [[1, 2], [4, 5]]\n",
            "array2d[[0,1]] =>  [[1, 2, 3], [4, 5, 6]]\n"
          ]
        }
      ]
    },
    {
      "cell_type": "markdown",
      "source": [
        "\n",
        "\n",
        "### * 불린 인덱싱\n",
        " : **조건 필터링과 검색**을 동시에 할 수 있음\n",
        "\n",
        " - **Step 1** : array1d > 5 와 같이 ndarray의 필터링 조건을 '[ ]' 안에 기재\n",
        " - **Step 2** : False 값은 무시하고 True값에 해당하는 인덱스값만 저장(유의해야 할 사항은 True값 자체인 1을 저장하는 것이 아니라 True값을 가진 인덱스를 저장한다는 것)\n",
        " - **Step 3** : 저장된 인덱스 데이터 세트로 ndarray 조회\n",
        "\n"
      ],
      "metadata": {
        "id": "ZuXQUq5UCE2O"
      }
    },
    {
      "cell_type": "code",
      "source": [
        "array1d = np.arange(start=1,stop=10)\n",
        "#[]안에 array1d > 5 Boolean indexing을 적용\n",
        "array3 = array1d[array1d > 5]\n",
        "print('array1d>5 불린 인덱싱 결과 값 : ', array3)"
      ],
      "metadata": {
        "colab": {
          "base_uri": "https://localhost:8080/"
        },
        "id": "74-zxoQLCRuF",
        "outputId": "0475740d-e95c-4c17-835f-9abd2e156076"
      },
      "execution_count": 40,
      "outputs": [
        {
          "output_type": "stream",
          "name": "stdout",
          "text": [
            "array1d>5 불린 인덱싱 결과 값 :  [6 7 8 9]\n"
          ]
        }
      ]
    },
    {
      "cell_type": "code",
      "source": [
        "array1d > 5"
      ],
      "metadata": {
        "colab": {
          "base_uri": "https://localhost:8080/"
        },
        "id": "_G-QT_puC5S2",
        "outputId": "8952b3e6-03af-4533-b6b8-47ad63123a5c"
      },
      "execution_count": 42,
      "outputs": [
        {
          "output_type": "execute_result",
          "data": {
            "text/plain": [
              "array([False, False, False, False, False,  True,  True,  True,  True])"
            ]
          },
          "metadata": {},
          "execution_count": 42
        }
      ]
    },
    {
      "cell_type": "markdown",
      "source": [
        "\n",
        "\n",
        "> ## 6. 행렬의 정렬 - sort()와 argsort()\n",
        "\n",
        "\n",
        "\n",
        "### *  행렬 정렬\n",
        "  1) np.sort() : **넘파이**에서 sort()를 호출하는 방식 \n",
        "\n",
        "  2) ndarray.sort() : **행렬 자체**에서 sort()를 호출하는 방식\n",
        "\n",
        "\n",
        "\n"
      ],
      "metadata": {
        "id": "m6mWCE-uDxYP"
      }
    },
    {
      "cell_type": "code",
      "source": [
        "org_array = np.array([3,1,9,5])\n",
        "print('원본 행렬 :', org_array)\n",
        "#np.sort()로 정렬\n",
        "sort_array1 = np.sort(org_array)\n",
        "print('np.sort() 호출 후 반환된 정렬 행렬 :', sort_array1)\n",
        "print('np,sort() 호출 후 원본 행렬 : ', org_array)\n",
        "\n",
        "#ndarray.sort()로 정렬\n",
        "sort_array2 = org_array.sort()\n",
        "print('org_array.sort() 호출 후 반환된 행렬 :', sort_array2)\n",
        "print('org_array.sort() 호출 후 원본 행렬 :', org_array)"
      ],
      "metadata": {
        "colab": {
          "base_uri": "https://localhost:8080/"
        },
        "id": "LulME92_EkWT",
        "outputId": "251aa23a-76bf-431e-f1d8-8ccfa14739ac"
      },
      "execution_count": 45,
      "outputs": [
        {
          "output_type": "stream",
          "name": "stdout",
          "text": [
            "원본 행렬 : [3 1 9 5]\n",
            "np.sort() 호출 후 반환된 정렬 행렬 : [1 3 5 9]\n",
            "np,sort() 호출 후 원본 행렬 :  [3 1 9 5]\n",
            "org_array.sort() 호출 후 반환된 행렬 : None\n",
            "org_array.sort() 호출 후 원본 행렬 : [1 3 5 9]\n"
          ]
        }
      ]
    },
    {
      "cell_type": "code",
      "source": [
        "# 내림차순 정렬\n",
        "sort_array1_desc = np.sort(org_array)[::-1]\n",
        "print('내림차순으로 정렬:', sort_array1_desc)"
      ],
      "metadata": {
        "colab": {
          "base_uri": "https://localhost:8080/"
        },
        "id": "ZaWCnW7qHmVt",
        "outputId": "27b9b6f9-932f-4801-89a4-8a8845cade93"
      },
      "execution_count": 46,
      "outputs": [
        {
          "output_type": "stream",
          "name": "stdout",
          "text": [
            "내림차순으로 정렬: [9 5 3 1]\n"
          ]
        }
      ]
    },
    {
      "cell_type": "code",
      "source": [
        "# 행렬이 2차원 이상일 경우\n",
        "array2d = np.array([[8,12],\n",
        "                    [7,1]])\n",
        "\n",
        "sort_array2d_axis0 = np.sort(array2d,axis=0)\n",
        "print('로우 방향으로 정렬 :\\n', sort_array2d_axis0)\n",
        "\n",
        "sort_array2d_axis1 = np.sort(array2d,axis = 1)\n",
        "print('칼럼 방향으로 정렬 : \\n', sort_array2d_axis1)"
      ],
      "metadata": {
        "colab": {
          "base_uri": "https://localhost:8080/"
        },
        "id": "uZoo75htIc5f",
        "outputId": "6bb976dd-7e04-429e-b438-2703c623a135"
      },
      "execution_count": 49,
      "outputs": [
        {
          "output_type": "stream",
          "name": "stdout",
          "text": [
            "로우 방향으로 정렬 :\n",
            " [[ 7  1]\n",
            " [ 8 12]]\n",
            "칼럼 방향으로 정렬 : \n",
            " [[ 8 12]\n",
            " [ 1  7]]\n"
          ]
        }
      ]
    },
    {
      "cell_type": "markdown",
      "source": [
        "\n",
        "\n",
        "\n",
        "### * 정렬된 행렬의 인덱스를 반환하기\n",
        " - np.argsort() : 정렬 행렬의 원본 행렬 인덱스를 ndarray형으로 반환\n"
      ],
      "metadata": {
        "id": "0MBj0Y4LJGLg"
      }
    },
    {
      "cell_type": "code",
      "source": [
        "org_array = np.array([3,1,9,5])\n",
        "sort_indices = np.argsort(org_array)\n",
        "print(type(sort_indices))\n",
        "print('행렬 정렬 시 원본 행렬의 인덱스 :', sort_indices)"
      ],
      "metadata": {
        "colab": {
          "base_uri": "https://localhost:8080/"
        },
        "id": "b6OOrmU1LBvx",
        "outputId": "88ffbaeb-456e-46e1-d96e-5b48d8fc8a40"
      },
      "execution_count": 50,
      "outputs": [
        {
          "output_type": "stream",
          "name": "stdout",
          "text": [
            "<class 'numpy.ndarray'>\n",
            "행렬 정렬 시 원본 행렬의 인덱스 : [1 0 3 2]\n"
          ]
        }
      ]
    },
    {
      "cell_type": "code",
      "source": [
        "#내림차순으로 정렬시 원본 행렬의 인덱스\n",
        "org_array = np.array([3,1,9,5])\n",
        "sort_indices_desc = np.argsort(org_array)[::-1]\n",
        "print('행렬 내림차순 정렬 시 원본 행렬의 인덱스 :', sort_indices_desc)"
      ],
      "metadata": {
        "colab": {
          "base_uri": "https://localhost:8080/"
        },
        "id": "ZiRgIGdANgdk",
        "outputId": "178a71d2-deef-4f00-eb7d-d94db5998148"
      },
      "execution_count": 51,
      "outputs": [
        {
          "output_type": "stream",
          "name": "stdout",
          "text": [
            "행렬 내림차순 정렬 시 원본 행렬의 인덱스 : [2 3 0 1]\n"
          ]
        }
      ]
    },
    {
      "cell_type": "code",
      "source": [
        "name_array = np.array(['John','Mike','Sarah','Kate','Samuel'])\n",
        "score_array = np.array([78,95,84,98,88])\n",
        "\n",
        "sort_indices_asc = np.argsort(score_array)\n",
        "print('성적 오름차순 정렬 시 score_array의 인덱스 :',sort_indices_asc)\n",
        "print('성적 오름차순으로 name_array의 이름 출력 : ',name_array[sort_indices_asc])"
      ],
      "metadata": {
        "colab": {
          "base_uri": "https://localhost:8080/"
        },
        "id": "-itAoWU0NvUc",
        "outputId": "bb1d63e6-9bb1-47b5-85ff-81a63e61f7ab"
      },
      "execution_count": 52,
      "outputs": [
        {
          "output_type": "stream",
          "name": "stdout",
          "text": [
            "성적 오름차순 정렬 시 score_array의 인덱스 : [0 2 4 1 3]\n",
            "성적 오름차순으로 name_array의 이름 출력 :  ['John' 'Sarah' 'Samuel' 'Mike' 'Kate']\n"
          ]
        }
      ]
    },
    {
      "cell_type": "markdown",
      "source": [
        "\n",
        "\n",
        "> ## 7. 선형대수 연산 - 행렬 내적과 전치 행렬 구하기\n",
        "\n",
        "\n",
        "\n",
        "### * 행렬 내적(행렬 곱) : np.dot()\n",
        "\n"
      ],
      "metadata": {
        "id": "7UURgDfOO8G2"
      }
    },
    {
      "cell_type": "code",
      "source": [
        "A = np.array([[1,2,3],\n",
        "              [4,5,6]])\n",
        "B = np.array([[7,8],\n",
        "              [9,10],\n",
        "              [11,12]])\n",
        "\n",
        "dot_product = np.dot(A,B)\n",
        "print('행렬 내적 결과 :\\n', dot_product)"
      ],
      "metadata": {
        "colab": {
          "base_uri": "https://localhost:8080/"
        },
        "id": "u1jx-4CnP3Ra",
        "outputId": "07d7c407-2ef0-4281-c035-1673d55762a4"
      },
      "execution_count": 54,
      "outputs": [
        {
          "output_type": "stream",
          "name": "stdout",
          "text": [
            "행렬 내적 결과 :\n",
            " [[ 58  64]\n",
            " [139 154]]\n"
          ]
        }
      ]
    },
    {
      "cell_type": "markdown",
      "source": [
        "\n",
        "\n",
        "### * 전치 행렬 : 원 행렬에서 행과 열 위치를 교환한 원소로 구성한 행렬\n",
        "\n"
      ],
      "metadata": {
        "id": "vjhqq8N7QUS6"
      }
    },
    {
      "cell_type": "code",
      "source": [
        "A = np.array([[1,2],\n",
        "              [3,4]])\n",
        "transpose_mat = np.transpose(A)\n",
        "print('A의 전치 행렬 : \\n',transpose_mat)"
      ],
      "metadata": {
        "colab": {
          "base_uri": "https://localhost:8080/"
        },
        "id": "L3wHKlcVQchg",
        "outputId": "4abf2ec8-4f80-4339-a07c-6a214ac004e4"
      },
      "execution_count": 56,
      "outputs": [
        {
          "output_type": "stream",
          "name": "stdout",
          "text": [
            "A의 전치 행렬 : \n",
            " [[1 3]\n",
            " [2 4]]\n"
          ]
        }
      ]
    }
  ]
}
